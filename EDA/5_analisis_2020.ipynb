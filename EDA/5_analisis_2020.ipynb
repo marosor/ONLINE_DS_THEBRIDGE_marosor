{
 "cells": [
  {
   "cell_type": "code",
   "execution_count": 162,
   "metadata": {},
   "outputs": [],
   "source": [
    "import pandas as pd\n",
    "import numpy as np\n",
    "import matplotlib.pyplot as plt\n",
    "import seaborn as sns"
   ]
  },
  {
   "cell_type": "code",
   "execution_count": 163,
   "metadata": {},
   "outputs": [],
   "source": [
    "festivales_bcn_20 = pd.read_pickle(\"./data/festivales_bcn_20_procesado.pkl\")"
   ]
  },
  {
   "cell_type": "code",
   "execution_count": 164,
   "metadata": {},
   "outputs": [],
   "source": [
    "categoricas_festivales = [\n",
    "    \"Ambit\",\n",
    "    \"Titularidad\",\n",
    "    \"NomDelFestival\",\n",
    "    \"Mes\",\n",
    "    \"Estacion\",\n",
    "    \"Entrada\"\n",
    "]"
   ]
  },
  {
   "cell_type": "code",
   "execution_count": 165,
   "metadata": {},
   "outputs": [],
   "source": [
    "categoricas_destacadas = [\n",
    "    'Ambit', \n",
    "    'Titularidad', \n",
    "    'Mes', \n",
    "    'Estacion',\n",
    "    \"Entrada\"\n",
    "]"
   ]
  },
  {
   "cell_type": "code",
   "execution_count": 166,
   "metadata": {},
   "outputs": [],
   "source": [
    "columnas_numericas_fests = [\n",
    "    \"Edicio\",\n",
    "    \"Asistentes\"\n",
    "]"
   ]
  },
  {
   "cell_type": "markdown",
   "metadata": {},
   "source": [
    "Funciones análisis"
   ]
  },
  {
   "cell_type": "code",
   "execution_count": 167,
   "metadata": {},
   "outputs": [],
   "source": [
    "def pinta_distribucion_categoricas(df, columnas_categoricas, relativa=False, mostrar_valores=False):\n",
    "    # Filtra solo las columnas que están en categoricas_destacadas\n",
    "    columnas_categoricas = [col for col in columnas_categoricas if col in categoricas_destacadas]\n",
    "    \n",
    "    num_columnas = 2 \n",
    "    num_filas = (len(columnas_categoricas) + num_columnas - 1) // num_columnas  # Calcula el número de filas necesario\n",
    "\n",
    "    fig, axes = plt.subplots(num_filas, num_columnas, figsize=(15, 5 * num_filas))  # Ajusta el tamaño del subplot\n",
    "    axes = axes.flatten()  # Aplanar el array de axes para un manejo más fácil\n",
    "\n",
    "    for i, col in enumerate(columnas_categoricas):\n",
    "        ax = axes[i]\n",
    "        if isinstance(df[col].iloc[0], list):  # Verificar si el elemento es una lista\n",
    "            temp_df = df.explode(col)\n",
    "        else:\n",
    "            temp_df = df\n",
    "\n",
    "        serie = temp_df[col].value_counts()\n",
    "        if relativa:\n",
    "            total = serie.sum()\n",
    "            serie = serie.apply(lambda x: x / total)\n",
    "            ax.set_ylabel('Frecuencia Relativa')\n",
    "        else:\n",
    "            ax.set_ylabel('Frecuencia')\n",
    "\n",
    "        # Usar la paleta 'viridis' y asignar 'x' a 'hue'\n",
    "        sns.barplot(x=serie.index, y=serie, hue=serie.index, ax=ax, palette='viridis', legend=False)\n",
    "        ax.set_title(f'Distribución de {col}')\n",
    "        ax.set_xlabel('')\n",
    "        ax.tick_params(axis='x', rotation=45)\n",
    "\n",
    "        if mostrar_valores:\n",
    "            for p in ax.patches:\n",
    "                height = p.get_height()\n",
    "                ax.annotate(f'{height:.2f}', (p.get_x() + p.get_width() / 2., height), \n",
    "                            ha='center', va='center', xytext=(0, 9), textcoords='offset points')\n",
    "\n",
    "    for j in range(i + 1, len(axes)):\n",
    "        axes[j].axis('off')  # Ocultar ejes no utilizados\n",
    "\n",
    "    plt.tight_layout()\n",
    "    plt.show()"
   ]
  },
  {
   "cell_type": "code",
   "execution_count": 168,
   "metadata": {},
   "outputs": [],
   "source": [
    "def plot_multiple_boxplots(df, columns, dim_matriz_visual = 2):\n",
    "    num_cols = len(columns)\n",
    "    num_rows = num_cols // dim_matriz_visual + num_cols % dim_matriz_visual\n",
    "    fig, axes = plt.subplots(num_rows, dim_matriz_visual, figsize=(12, 6 * num_rows))\n",
    "    axes = axes.flatten()\n",
    "\n",
    "    for i, column in enumerate(columns):\n",
    "        if df[column].dtype in ['int64', 'float64']:\n",
    "            sns.boxplot(data=df, x=column, ax=axes[i])\n",
    "            axes[i].set_title(column)\n",
    "\n",
    "    # Ocultar ejes vacíos\n",
    "    for j in range(i+1, num_rows * 2):\n",
    "        axes[j].axis('off')\n",
    "\n",
    "    plt.tight_layout()\n",
    "    plt.show()"
   ]
  },
  {
   "cell_type": "code",
   "execution_count": 169,
   "metadata": {},
   "outputs": [],
   "source": [
    "def plot_boxplot_grouped(df, column_to_plot, group_column):\n",
    "    if df[column_to_plot].dtype in ['int64', 'float64'] and df[group_column].dtype in ['object', 'category']:\n",
    "        sns.boxplot(data=df, x=group_column, y=column_to_plot)\n",
    "        plt.show()"
   ]
  },
  {
   "cell_type": "code",
   "execution_count": 170,
   "metadata": {},
   "outputs": [],
   "source": [
    "def get_IQR(df, col):\n",
    "    return df[col].quantile(0.75) - df[col].quantile(0.25)"
   ]
  },
  {
   "cell_type": "code",
   "execution_count": 171,
   "metadata": {},
   "outputs": [],
   "source": [
    "def variabilidad(df):\n",
    "    df_var = df.describe().loc[[\"std\", \"mean\"]].T\n",
    "    df_var[\"CV\"] = df_var[\"std\"]/ df_var[\"mean\"]\n",
    "    return df_var"
   ]
  },
  {
   "cell_type": "code",
   "execution_count": 172,
   "metadata": {},
   "outputs": [],
   "source": [
    "def plot_histo_den(df, columns):\n",
    "    num_cols = len(columns)\n",
    "    num_rows = num_cols // 2 + num_cols % 2\n",
    "    fig, axes = plt.subplots(num_rows, 2, figsize=(12, 6 * num_rows))\n",
    "    axes = axes.flatten()\n",
    "\n",
    "    for i, column in enumerate(columns):\n",
    "        if df[column].dtype in ['int64', 'float64']:\n",
    "            sns.histplot(df[column], kde=True, ax=axes[i])\n",
    "            axes[i].set_title(f'Histograma y KDE de {column}')\n",
    "\n",
    "    # Ocultar ejes vacíos\n",
    "    for j in range(i + 1, num_rows * 2):\n",
    "        axes[j].axis('off')\n",
    "\n",
    "    plt.tight_layout()\n",
    "    plt.show()"
   ]
  },
  {
   "cell_type": "code",
   "execution_count": 173,
   "metadata": {},
   "outputs": [],
   "source": [
    "def plot_combined_graphs(df, columns, whisker_width=1.5):\n",
    "    num_cols = len(columns)\n",
    "    if num_cols:\n",
    "        \n",
    "        fig, axes = plt.subplots(num_cols, 2, figsize=(12, 5 * num_cols))\n",
    "        print(axes.shape)\n",
    "\n",
    "        for i, column in enumerate(columns):\n",
    "            if df[column].dtype in ['int64', 'float64']:\n",
    "                # Histograma y KDE\n",
    "                sns.histplot(df[column], kde=True, ax=axes[i,0] if num_cols > 1 else axes[0])\n",
    "                if num_cols > 1:\n",
    "                    axes[i,0].set_title(f'Histograma y KDE de {column}')\n",
    "                else:\n",
    "                    axes[0].set_title(f'Histograma y KDE de {column}')\n",
    "\n",
    "                # Boxplot\n",
    "                sns.boxplot(x=df[column], ax=axes[i,1] if num_cols > 1 else axes[1], whis=whisker_width)\n",
    "                if num_cols > 1:\n",
    "                    axes[i,1].set_title(f'Boxplot de {column}')\n",
    "                else:\n",
    "                    axes[1].set_title(f'Boxplot de {column}')\n",
    "\n",
    "        plt.tight_layout()\n",
    "        plt.show()"
   ]
  },
  {
   "cell_type": "markdown",
   "metadata": {},
   "source": [
    "Tendencia central"
   ]
  },
  {
   "cell_type": "code",
   "execution_count": 174,
   "metadata": {},
   "outputs": [
    {
     "data": {
      "text/plain": [
       "Edicio           16.8\n",
       "Asistentes    17431.4\n",
       "Name: mean, dtype: float64"
      ]
     },
     "execution_count": 174,
     "metadata": {},
     "output_type": "execute_result"
    }
   ],
   "source": [
    "festivales_bcn_20.describe().loc[\"mean\"]"
   ]
  },
  {
   "cell_type": "code",
   "execution_count": 175,
   "metadata": {},
   "outputs": [
    {
     "data": {
      "text/plain": [
       "Edicio          11.0\n",
       "Asistentes    3000.0\n",
       "Name: 50%, dtype: float64"
      ]
     },
     "execution_count": 175,
     "metadata": {},
     "output_type": "execute_result"
    }
   ],
   "source": [
    "festivales_bcn_20.describe().loc[\"50%\"]"
   ]
  },
  {
   "cell_type": "code",
   "execution_count": 176,
   "metadata": {},
   "outputs": [
    {
     "data": {
      "text/plain": [
       "Edicio            52.0\n",
       "Asistentes    200000.0\n",
       "Name: max, dtype: float64"
      ]
     },
     "execution_count": 176,
     "metadata": {},
     "output_type": "execute_result"
    }
   ],
   "source": [
    "festivales_bcn_20.describe().loc[\"max\"]"
   ]
  },
  {
   "cell_type": "code",
   "execution_count": 177,
   "metadata": {},
   "outputs": [
    {
     "data": {
      "text/plain": [
       "Edicio         1.0\n",
       "Asistentes    40.0\n",
       "Name: min, dtype: float64"
      ]
     },
     "execution_count": 177,
     "metadata": {},
     "output_type": "execute_result"
    }
   ],
   "source": [
    "festivales_bcn_20.describe().loc[\"min\"]"
   ]
  },
  {
   "cell_type": "code",
   "execution_count": 178,
   "metadata": {},
   "outputs": [
    {
     "data": {
      "text/html": [
       "<div>\n",
       "<style scoped>\n",
       "    .dataframe tbody tr th:only-of-type {\n",
       "        vertical-align: middle;\n",
       "    }\n",
       "\n",
       "    .dataframe tbody tr th {\n",
       "        vertical-align: top;\n",
       "    }\n",
       "\n",
       "    .dataframe thead th {\n",
       "        text-align: right;\n",
       "    }\n",
       "</style>\n",
       "<table border=\"1\" class=\"dataframe\">\n",
       "  <thead>\n",
       "    <tr style=\"text-align: right;\">\n",
       "      <th></th>\n",
       "      <th>0</th>\n",
       "      <th>1</th>\n",
       "    </tr>\n",
       "  </thead>\n",
       "  <tbody>\n",
       "    <tr>\n",
       "      <th>Ambit</th>\n",
       "      <td>Multidisciplinaris i altres</td>\n",
       "      <td>Música</td>\n",
       "    </tr>\n",
       "    <tr>\n",
       "      <th>Titularidad</th>\n",
       "      <td>Privada</td>\n",
       "      <td>NaN</td>\n",
       "    </tr>\n",
       "    <tr>\n",
       "      <th>Mes</th>\n",
       "      <td>Octubre</td>\n",
       "      <td>NaN</td>\n",
       "    </tr>\n",
       "    <tr>\n",
       "      <th>Estacion</th>\n",
       "      <td>Otoño</td>\n",
       "      <td>NaN</td>\n",
       "    </tr>\n",
       "    <tr>\n",
       "      <th>Entrada</th>\n",
       "      <td>De Pago</td>\n",
       "      <td>NaN</td>\n",
       "    </tr>\n",
       "  </tbody>\n",
       "</table>\n",
       "</div>"
      ],
      "text/plain": [
       "                                       0       1\n",
       "Ambit        Multidisciplinaris i altres  Música\n",
       "Titularidad                      Privada     NaN\n",
       "Mes                              Octubre     NaN\n",
       "Estacion                           Otoño     NaN\n",
       "Entrada                          De Pago     NaN"
      ]
     },
     "execution_count": 178,
     "metadata": {},
     "output_type": "execute_result"
    }
   ],
   "source": [
    "festivales_bcn_20[categoricas_destacadas].mode().T"
   ]
  },
  {
   "cell_type": "markdown",
   "metadata": {},
   "source": [
    "Comentarios <br>\n",
    "La mediana de ediciones en el aó de la pandemia baja a 11, ya que son muchos los fetsivales suspendidos este año. <br>\n",
    "La mediana de asistentes es de apenas 3mil. <br>\n",
    "Las modas tienen pequeños matices con respecto al 21 y 22: esta vez la música está empatada con los festivales multidisciplinares, y tienen lugar mayormente en octubre, si bien siguen siendo de pago y organizados por entidades privadas. Anteriormente había mayor oferta en junio, que este año cambia, presumiblemente por la pandemia, pero esto luego se mantiene al menos en los 2 años subsiguienes. Qué otras tendencias habrán cambiado? Cuáles cambios han sido solo momentáneos, y cuáles llegaron para quedarse?"
   ]
  },
  {
   "cell_type": "markdown",
   "metadata": {},
   "source": [
    "Frecuencias relativa y absoluta"
   ]
  },
  {
   "cell_type": "code",
   "execution_count": 179,
   "metadata": {},
   "outputs": [
    {
     "name": "stdout",
     "output_type": "stream",
     "text": [
      "Ambit\n",
      "Música                         6\n",
      "Multidisciplinaris i altres    6\n",
      "Arts visuals                   5\n",
      "Audiovisuals                   4\n",
      "Arts escèniques                3\n",
      "Lletres                        1\n",
      "Name: count, dtype: int64\n",
      "\n",
      "\n",
      "Titularidad\n",
      "Privada    16\n",
      "Pública     9\n",
      "Name: count, dtype: int64\n",
      "\n",
      "\n",
      "Mes\n",
      "Octubre       6\n",
      "Septiembre    5\n",
      "Diciembre     3\n",
      "Febrero       2\n",
      "Julio         2\n",
      "Noviembre     2\n",
      "Enero         2\n",
      "Agosto        1\n",
      "Junio         1\n",
      "Marzo         1\n",
      "Name: count, dtype: int64\n",
      "\n",
      "\n",
      "Estacion\n",
      "Otoño       13\n",
      "Verano       7\n",
      "Invierno     5\n",
      "Name: count, dtype: int64\n",
      "\n",
      "\n",
      "Entrada\n",
      "De Pago    14\n",
      "Gratis     10\n",
      "Mixta       1\n",
      "Name: count, dtype: int64\n",
      "\n",
      "\n"
     ]
    }
   ],
   "source": [
    "for catego in categoricas_destacadas:\n",
    "    print(festivales_bcn_20[catego].value_counts())\n",
    "    print(\"\\n\")"
   ]
  },
  {
   "cell_type": "markdown",
   "metadata": {},
   "source": [
    "Comentarios <br>\n"
   ]
  },
  {
   "cell_type": "code",
   "execution_count": 181,
   "metadata": {},
   "outputs": [
    {
     "name": "stdout",
     "output_type": "stream",
     "text": [
      "Ambit\n",
      "Música                         24.0\n",
      "Multidisciplinaris i altres    24.0\n",
      "Arts visuals                   20.0\n",
      "Audiovisuals                   16.0\n",
      "Arts escèniques                12.0\n",
      "Lletres                         4.0\n",
      "Name: count, dtype: float64\n",
      "\n",
      "\n",
      "Titularidad\n",
      "Privada    64.0\n",
      "Pública    36.0\n",
      "Name: count, dtype: float64\n",
      "\n",
      "\n",
      "Mes\n",
      "Octubre       24.0\n",
      "Septiembre    20.0\n",
      "Diciembre     12.0\n",
      "Febrero        8.0\n",
      "Julio          8.0\n",
      "Noviembre      8.0\n",
      "Enero          8.0\n",
      "Agosto         4.0\n",
      "Junio          4.0\n",
      "Marzo          4.0\n",
      "Name: count, dtype: float64\n",
      "\n",
      "\n",
      "Estacion\n",
      "Otoño       52.0\n",
      "Verano      28.0\n",
      "Invierno    20.0\n",
      "Name: count, dtype: float64\n",
      "\n",
      "\n",
      "Entrada\n",
      "De Pago    56.0\n",
      "Gratis     40.0\n",
      "Mixta       4.0\n",
      "Name: count, dtype: float64\n",
      "\n",
      "\n"
     ]
    }
   ],
   "source": [
    "for catego in categoricas_destacadas:\n",
    "    print(festivales_bcn_20[catego].value_counts()/len(festivales_bcn_20)*100)\n",
    "    print(\"\\n\")"
   ]
  },
  {
   "cell_type": "code",
   "execution_count": 196,
   "metadata": {},
   "outputs": [
    {
     "data": {
      "image/png": "[encoded data removed]",
      "text/plain": [
       "<Figure size 1500x1500 with 6 Axes>"
      ]
     },
     "metadata": {},
     "output_type": "display_data"
    }
   ],
   "source": [
    "pinta_distribucion_categoricas(festivales_bcn_20, categoricas_destacadas, relativa = True)"
   ]
  },
  {
   "cell_type": "markdown",
   "metadata": {},
   "source": [
    "Comentarios <br>\n",
    "El número de propuestas del sector privado no llega a duplicar las del sector público, y los festivales de pago no superan ya por tanto margen los gratuitos. Son más las actividades gratuitas y del sector público por mantener activada la cultura, que no las privadas o con entrada, ya que los públicos han desaparecido<br>\n",
    "Es el año de la pandemia, con pocas actividades ya en marzo, nada en abril y mayo, y un inicio de actividad muy tímido en junio, mes que otros años tiene la delantera. De hecho, es justamente en toda la primavera que no hay ni un solo festival, y se vuelve mucho más marcada la predominancia del otoño que ya había comenzado antes de la pandemia.Irrumpe con fuerza y de súbito la programación en diciembre.<br>\n",
    "Música y escénicas están empatadas, seguidas muy de cerca por audioviduales y visuales, que se prestan mejor a un formato de distancia, menos coclectivo."
   ]
  },
  {
   "cell_type": "markdown",
   "metadata": {},
   "source": [
    "Comentarios <br>\n"
   ]
  },
  {
   "cell_type": "markdown",
   "metadata": {},
   "source": [
    "Medidas de posición"
   ]
  },
  {
   "cell_type": "code",
   "execution_count": 182,
   "metadata": {},
   "outputs": [
    {
     "data": {
      "text/html": [
       "<div>\n",
       "<style scoped>\n",
       "    .dataframe tbody tr th:only-of-type {\n",
       "        vertical-align: middle;\n",
       "    }\n",
       "\n",
       "    .dataframe tbody tr th {\n",
       "        vertical-align: top;\n",
       "    }\n",
       "\n",
       "    .dataframe thead th {\n",
       "        text-align: right;\n",
       "    }\n",
       "</style>\n",
       "<table border=\"1\" class=\"dataframe\">\n",
       "  <thead>\n",
       "    <tr style=\"text-align: right;\">\n",
       "      <th></th>\n",
       "      <th>Edicio</th>\n",
       "      <th>Asistentes</th>\n",
       "    </tr>\n",
       "  </thead>\n",
       "  <tbody>\n",
       "    <tr>\n",
       "      <th>count</th>\n",
       "      <td>25.000000</td>\n",
       "      <td>25.000000</td>\n",
       "    </tr>\n",
       "    <tr>\n",
       "      <th>mean</th>\n",
       "      <td>16.800000</td>\n",
       "      <td>17431.400000</td>\n",
       "    </tr>\n",
       "    <tr>\n",
       "      <th>std</th>\n",
       "      <td>12.672148</td>\n",
       "      <td>39728.036517</td>\n",
       "    </tr>\n",
       "    <tr>\n",
       "      <th>min</th>\n",
       "      <td>1.000000</td>\n",
       "      <td>40.000000</td>\n",
       "    </tr>\n",
       "    <tr>\n",
       "      <th>25%</th>\n",
       "      <td>8.000000</td>\n",
       "      <td>1935.000000</td>\n",
       "    </tr>\n",
       "    <tr>\n",
       "      <th>50%</th>\n",
       "      <td>11.000000</td>\n",
       "      <td>3000.000000</td>\n",
       "    </tr>\n",
       "    <tr>\n",
       "      <th>75%</th>\n",
       "      <td>24.000000</td>\n",
       "      <td>18000.000000</td>\n",
       "    </tr>\n",
       "    <tr>\n",
       "      <th>max</th>\n",
       "      <td>52.000000</td>\n",
       "      <td>200000.000000</td>\n",
       "    </tr>\n",
       "  </tbody>\n",
       "</table>\n",
       "</div>"
      ],
      "text/plain": [
       "          Edicio     Asistentes\n",
       "count  25.000000      25.000000\n",
       "mean   16.800000   17431.400000\n",
       "std    12.672148   39728.036517\n",
       "min     1.000000      40.000000\n",
       "25%     8.000000    1935.000000\n",
       "50%    11.000000    3000.000000\n",
       "75%    24.000000   18000.000000\n",
       "max    52.000000  200000.000000"
      ]
     },
     "execution_count": 182,
     "metadata": {},
     "output_type": "execute_result"
    }
   ],
   "source": [
    "festivales_bcn_20.describe()"
   ]
  },
  {
   "cell_type": "code",
   "execution_count": 183,
   "metadata": {},
   "outputs": [
    {
     "data": {
      "text/plain": [
       "16.0"
      ]
     },
     "execution_count": 183,
     "metadata": {},
     "output_type": "execute_result"
    }
   ],
   "source": [
    "get_IQR(festivales_bcn_20,\"Edicio\") \n",
    "# No es tanto mayor que la mediana (11), y casi igual que la media (mean)"
   ]
  },
  {
   "cell_type": "code",
   "execution_count": 184,
   "metadata": {},
   "outputs": [
    {
     "name": "stdout",
     "output_type": "stream",
     "text": [
      "11.0 \n",
      " 29.800000000000004 \n",
      " 41.39999999999996 \n",
      " 52.0\n"
     ]
    }
   ],
   "source": [
    "print(festivales_bcn_20[\"Edicio\"].quantile(0.5), \"\\n\",\n",
    "    festivales_bcn_20[\"Edicio\"].quantile(0.9), \"\\n\",\n",
    "    festivales_bcn_20[\"Edicio\"].quantile(0.95), \"\\n\",\n",
    "    festivales_bcn_20[\"Edicio\"].max())"
   ]
  },
  {
   "cell_type": "code",
   "execution_count": 185,
   "metadata": {},
   "outputs": [
    {
     "data": {
      "text/plain": [
       "16065.0"
      ]
     },
     "execution_count": 185,
     "metadata": {},
     "output_type": "execute_result"
    }
   ],
   "source": [
    "get_IQR(festivales_bcn_20,\"Asistentes\") \n",
    "# Sí es mucho mayor que la mediana(2120). Hay mucha dispersión. Hay que tomar con cuidado la tendencia central"
   ]
  },
  {
   "cell_type": "code",
   "execution_count": 186,
   "metadata": {},
   "outputs": [
    {
     "name": "stdout",
     "output_type": "stream",
     "text": [
      "3000.0 \n",
      " 33121.60000000001 \n",
      " 38502.399999999994 \n",
      " 200000.0\n"
     ]
    }
   ],
   "source": [
    "print(festivales_bcn_20[\"Asistentes\"].quantile(0.5), \"\\n\",\n",
    "    festivales_bcn_20[\"Asistentes\"].quantile(0.9), \"\\n\",\n",
    "    festivales_bcn_20[\"Asistentes\"].quantile(0.95), \"\\n\",\n",
    "    festivales_bcn_20[\"Asistentes\"].max())"
   ]
  },
  {
   "cell_type": "markdown",
   "metadata": {},
   "source": [
    "Comentarios: <br>\n",
    "Alta dispersión en el número de asistentes, marcado por una cantidad de pequeñas iniciativas, y por el desarrollo de las actividades de forma muy irregular a lo largo de este año. La mediana está en 3.000, el primer 90% en 30 mil, 10 veces más, que es la tóica del segmento más alto, con excepciones notables en el extremo, donde casi se quintuplican llegando a los 200 mil. Rompe record la diferencia entre el máximo y la mediana, unas 66 veces-\n"
   ]
  },
  {
   "cell_type": "code",
   "execution_count": 187,
   "metadata": {},
   "outputs": [
    {
     "data": {
      "image/png": "[encoded data removed]",
      "text/plain": [
       "<Figure size 1200x600 with 2 Axes>"
      ]
     },
     "metadata": {},
     "output_type": "display_data"
    }
   ],
   "source": [
    "plot_multiple_boxplots(festivales_bcn_20, columnas_numericas_fests)"
   ]
  },
  {
   "cell_type": "markdown",
   "metadata": {},
   "source": [
    "Comentarios <br>\n",
    "Gracias a los boxplots podemos observar como no hay una media centrada, y además hay algún outlier en las cifras de asistentes, solo uno, pero muy alejado de los demás."
   ]
  },
  {
   "cell_type": "code",
   "execution_count": 188,
   "metadata": {},
   "outputs": [],
   "source": [
    "plot_boxplot_grouped(festivales_bcn_20, \"Edicio\", \"Asistentes\")\n",
    "\n",
    "# Por qué no consigo que se imprima esto????"
   ]
  },
  {
   "cell_type": "markdown",
   "metadata": {},
   "source": [
    "Medidas de dispersión"
   ]
  },
  {
   "cell_type": "code",
   "execution_count": 189,
   "metadata": {},
   "outputs": [
    {
     "data": {
      "text/html": [
       "<div>\n",
       "<style scoped>\n",
       "    .dataframe tbody tr th:only-of-type {\n",
       "        vertical-align: middle;\n",
       "    }\n",
       "\n",
       "    .dataframe tbody tr th {\n",
       "        vertical-align: top;\n",
       "    }\n",
       "\n",
       "    .dataframe thead th {\n",
       "        text-align: right;\n",
       "    }\n",
       "</style>\n",
       "<table border=\"1\" class=\"dataframe\">\n",
       "  <thead>\n",
       "    <tr style=\"text-align: right;\">\n",
       "      <th></th>\n",
       "      <th>std</th>\n",
       "      <th>mean</th>\n",
       "    </tr>\n",
       "  </thead>\n",
       "  <tbody>\n",
       "    <tr>\n",
       "      <th>Edicio</th>\n",
       "      <td>12.672148</td>\n",
       "      <td>16.8</td>\n",
       "    </tr>\n",
       "    <tr>\n",
       "      <th>Asistentes</th>\n",
       "      <td>39728.036517</td>\n",
       "      <td>17431.4</td>\n",
       "    </tr>\n",
       "  </tbody>\n",
       "</table>\n",
       "</div>"
      ],
      "text/plain": [
       "                     std     mean\n",
       "Edicio         12.672148     16.8\n",
       "Asistentes  39728.036517  17431.4"
      ]
     },
     "execution_count": 189,
     "metadata": {},
     "output_type": "execute_result"
    }
   ],
   "source": [
    "festivales_bcn_20.describe().loc[[\"std\", \"mean\"]].T"
   ]
  },
  {
   "cell_type": "code",
   "execution_count": 190,
   "metadata": {},
   "outputs": [
    {
     "data": {
      "text/html": [
       "<div>\n",
       "<style scoped>\n",
       "    .dataframe tbody tr th:only-of-type {\n",
       "        vertical-align: middle;\n",
       "    }\n",
       "\n",
       "    .dataframe tbody tr th {\n",
       "        vertical-align: top;\n",
       "    }\n",
       "\n",
       "    .dataframe thead th {\n",
       "        text-align: right;\n",
       "    }\n",
       "</style>\n",
       "<table border=\"1\" class=\"dataframe\">\n",
       "  <thead>\n",
       "    <tr style=\"text-align: right;\">\n",
       "      <th></th>\n",
       "      <th>std</th>\n",
       "      <th>mean</th>\n",
       "      <th>CV</th>\n",
       "    </tr>\n",
       "  </thead>\n",
       "  <tbody>\n",
       "    <tr>\n",
       "      <th>Edicio</th>\n",
       "      <td>12.672148</td>\n",
       "      <td>16.8</td>\n",
       "      <td>0.754295</td>\n",
       "    </tr>\n",
       "    <tr>\n",
       "      <th>Asistentes</th>\n",
       "      <td>39728.036517</td>\n",
       "      <td>17431.4</td>\n",
       "      <td>2.279108</td>\n",
       "    </tr>\n",
       "  </tbody>\n",
       "</table>\n",
       "</div>"
      ],
      "text/plain": [
       "                     std     mean        CV\n",
       "Edicio         12.672148     16.8  0.754295\n",
       "Asistentes  39728.036517  17431.4  2.279108"
      ]
     },
     "execution_count": 190,
     "metadata": {},
     "output_type": "execute_result"
    }
   ],
   "source": [
    "variabilidad(festivales_bcn_20)\n",
    "# Menos 15% es baja variabilidad, entre 15 y 30 es normal, más de 30 es alta = Es decir, todos tienen una altísima variabilidad! A ver visualmente..."
   ]
  },
  {
   "cell_type": "code",
   "execution_count": 191,
   "metadata": {},
   "outputs": [
    {
     "data": {
      "image/png": "[encoded data removed]",
      "text/plain": [
       "<Figure size 640x480 with 1 Axes>"
      ]
     },
     "metadata": {},
     "output_type": "display_data"
    }
   ],
   "source": [
    "festivales_bcn_20[\"Edicio\"].hist();"
   ]
  },
  {
   "cell_type": "code",
   "execution_count": 192,
   "metadata": {},
   "outputs": [
    {
     "data": {
      "image/png": "[encoded data removed]",
      "text/plain": [
       "<Figure size 640x480 with 1 Axes>"
      ]
     },
     "metadata": {},
     "output_type": "display_data"
    }
   ],
   "source": [
    "festivales_bcn_20[\"Asistentes\"].hist();"
   ]
  },
  {
   "cell_type": "markdown",
   "metadata": {},
   "source": [
    "Distribución"
   ]
  },
  {
   "cell_type": "code",
   "execution_count": 193,
   "metadata": {},
   "outputs": [
    {
     "data": {
      "image/png": "[encoded data removed]",
      "text/plain": [
       "<Figure size 1200x600 with 2 Axes>"
      ]
     },
     "metadata": {},
     "output_type": "display_data"
    }
   ],
   "source": [
    "plot_histo_den(festivales_bcn_20, [\"Asistentes\"])"
   ]
  },
  {
   "cell_type": "markdown",
   "metadata": {},
   "source": [
    "Anomalías outliers"
   ]
  },
  {
   "cell_type": "code",
   "execution_count": 194,
   "metadata": {},
   "outputs": [
    {
     "name": "stdout",
     "output_type": "stream",
     "text": [
      "(2,)\n"
     ]
    },
    {
     "data": {
      "image/png": "[encoded data removed]",
      "text/plain": [
       "<Figure size 1200x500 with 2 Axes>"
      ]
     },
     "metadata": {},
     "output_type": "display_data"
    }
   ],
   "source": [
    "plot_combined_graphs(festivales_bcn_20, [\"Asistentes\"])"
   ]
  },
  {
   "cell_type": "code",
   "execution_count": 198,
   "metadata": {},
   "outputs": [
    {
     "name": "stdout",
     "output_type": "stream",
     "text": [
      "De Pago: 5 - 50.00%\n",
      "Gratis: 4 - 40.00%\n",
      "Mixta: 1 - 10.00%\n"
     ]
    }
   ],
   "source": [
    "festivales_bcn_20 = festivales_bcn_20.sort_values('Asistentes', ascending=False)\n",
    "primeros_10 = festivales_bcn_20.head(10)  \n",
    "tipo_entradas_top_festivales = primeros_10['Entrada'].value_counts()\n",
    "\n",
    "porcentaje_tipo_entradas_primeros_10 = tipo_entradas_top_festivales / tipo_entradas_top_festivales.sum() * 100\n",
    "\n",
    "for entrada, count in tipo_entradas_top_festivales.items():\n",
    "    porcentaje = porcentaje_tipo_entradas_primeros_10[entrada]\n",
    "    print(f\"{entrada}: {count} - {porcentaje:.2f}%\")"
   ]
  },
  {
   "cell_type": "code",
   "execution_count": 199,
   "metadata": {},
   "outputs": [
    {
     "name": "stdout",
     "output_type": "stream",
     "text": [
      "Multidisciplinaris i altres: 4 - 40.00%\n",
      "Música: 4 - 40.00%\n",
      "Arts escèniques: 2 - 20.00%\n"
     ]
    }
   ],
   "source": [
    "festivales_bcn_2 = festivales_bcn_20.sort_values('Asistentes', ascending=False)\n",
    "primeros_10 = festivales_bcn_20.head(10)  \n",
    "tipo_entradas_top_festivales = primeros_10['Ambit'].value_counts()\n",
    "\n",
    "porcentaje_tipo_entradas_primeros_10 = tipo_entradas_top_festivales / tipo_entradas_top_festivales.sum() * 100\n",
    "\n",
    "for entrada, count in tipo_entradas_top_festivales.items():\n",
    "    porcentaje = porcentaje_tipo_entradas_primeros_10[entrada]\n",
    "    print(f\"{entrada}: {count} - {porcentaje:.2f}%\")"
   ]
  },
  {
   "cell_type": "code",
   "execution_count": 197,
   "metadata": {},
   "outputs": [
    {
     "data": {
      "text/html": [
       "<div>\n",
       "<style scoped>\n",
       "    .dataframe tbody tr th:only-of-type {\n",
       "        vertical-align: middle;\n",
       "    }\n",
       "\n",
       "    .dataframe tbody tr th {\n",
       "        vertical-align: top;\n",
       "    }\n",
       "\n",
       "    .dataframe thead th {\n",
       "        text-align: right;\n",
       "    }\n",
       "</style>\n",
       "<table border=\"1\" class=\"dataframe\">\n",
       "  <thead>\n",
       "    <tr style=\"text-align: right;\">\n",
       "      <th></th>\n",
       "      <th>Ambit</th>\n",
       "      <th>Edicio</th>\n",
       "      <th>NomDelFestival</th>\n",
       "      <th>Titularidad</th>\n",
       "      <th>Mes</th>\n",
       "      <th>Estacion</th>\n",
       "      <th>Asistentes</th>\n",
       "      <th>Entrada</th>\n",
       "    </tr>\n",
       "  </thead>\n",
       "  <tbody>\n",
       "    <tr>\n",
       "      <th>20</th>\n",
       "      <td>Multidisciplinaris i altres</td>\n",
       "      <td>9.0</td>\n",
       "      <td>Llum BCN</td>\n",
       "      <td>Pública</td>\n",
       "      <td>Febrero</td>\n",
       "      <td>Invierno</td>\n",
       "      <td>200000.0</td>\n",
       "      <td>Gratis</td>\n",
       "    </tr>\n",
       "    <tr>\n",
       "      <th>10</th>\n",
       "      <td>Multidisciplinaris i altres</td>\n",
       "      <td>1.0</td>\n",
       "      <td>Cruïlla XXS</td>\n",
       "      <td>Privada</td>\n",
       "      <td>Julio</td>\n",
       "      <td>Verano</td>\n",
       "      <td>39156.0</td>\n",
       "      <td>De Pago</td>\n",
       "    </tr>\n",
       "    <tr>\n",
       "      <th>18</th>\n",
       "      <td>Música</td>\n",
       "      <td>31.0</td>\n",
       "      <td>Guitar Bcn</td>\n",
       "      <td>Privada</td>\n",
       "      <td>Enero</td>\n",
       "      <td>Invierno</td>\n",
       "      <td>35888.0</td>\n",
       "      <td>De Pago</td>\n",
       "    </tr>\n",
       "    <tr>\n",
       "      <th>22</th>\n",
       "      <td>Arts escèniques</td>\n",
       "      <td>11.0</td>\n",
       "      <td>Mercè Arts de Carrer. MAC</td>\n",
       "      <td>Pública</td>\n",
       "      <td>Septiembre</td>\n",
       "      <td>Otoño</td>\n",
       "      <td>28972.0</td>\n",
       "      <td>Gratis</td>\n",
       "    </tr>\n",
       "    <tr>\n",
       "      <th>17</th>\n",
       "      <td>Arts escèniques</td>\n",
       "      <td>44.0</td>\n",
       "      <td>Grec Festival de Barcelona</td>\n",
       "      <td>Pública</td>\n",
       "      <td>Junio</td>\n",
       "      <td>Verano</td>\n",
       "      <td>23572.0</td>\n",
       "      <td>Mixta</td>\n",
       "    </tr>\n",
       "    <tr>\n",
       "      <th>16</th>\n",
       "      <td>Música</td>\n",
       "      <td>8.0</td>\n",
       "      <td>Festival Jardins de Pedralbes</td>\n",
       "      <td>Privada</td>\n",
       "      <td>Julio</td>\n",
       "      <td>Verano</td>\n",
       "      <td>20168.0</td>\n",
       "      <td>De Pago</td>\n",
       "    </tr>\n",
       "    <tr>\n",
       "      <th>6</th>\n",
       "      <td>Multidisciplinaris i altres</td>\n",
       "      <td>1.0</td>\n",
       "      <td>Barcelona Festival de Nadal</td>\n",
       "      <td>Pública</td>\n",
       "      <td>Diciembre</td>\n",
       "      <td>Otoño</td>\n",
       "      <td>18000.0</td>\n",
       "      <td>Gratis</td>\n",
       "    </tr>\n",
       "    <tr>\n",
       "      <th>5</th>\n",
       "      <td>Multidisciplinaris i altres</td>\n",
       "      <td>7.0</td>\n",
       "      <td>Barcelona Districte Cultural</td>\n",
       "      <td>Pública</td>\n",
       "      <td>Febrero</td>\n",
       "      <td>Invierno</td>\n",
       "      <td>13371.0</td>\n",
       "      <td>Gratis</td>\n",
       "    </tr>\n",
       "    <tr>\n",
       "      <th>25</th>\n",
       "      <td>Música</td>\n",
       "      <td>52.0</td>\n",
       "      <td>Voll-Damm Festival de Jazz de Barcelona</td>\n",
       "      <td>Privada</td>\n",
       "      <td>Octubre</td>\n",
       "      <td>Otoño</td>\n",
       "      <td>12423.0</td>\n",
       "      <td>De Pago</td>\n",
       "    </tr>\n",
       "    <tr>\n",
       "      <th>24</th>\n",
       "      <td>Música</td>\n",
       "      <td>11.0</td>\n",
       "      <td>MUTEK Barcelona</td>\n",
       "      <td>Privada</td>\n",
       "      <td>Marzo</td>\n",
       "      <td>Invierno</td>\n",
       "      <td>7800.0</td>\n",
       "      <td>De Pago</td>\n",
       "    </tr>\n",
       "    <tr>\n",
       "      <th>7</th>\n",
       "      <td>Arts visuals</td>\n",
       "      <td>6.0</td>\n",
       "      <td>Barcelona Gallery Weekend</td>\n",
       "      <td>Privada</td>\n",
       "      <td>Septiembre</td>\n",
       "      <td>Verano</td>\n",
       "      <td>6500.0</td>\n",
       "      <td>Gratis</td>\n",
       "    </tr>\n",
       "    <tr>\n",
       "      <th>3</th>\n",
       "      <td>Música</td>\n",
       "      <td>28.0</td>\n",
       "      <td>BAM. Barcelona Acció Musical</td>\n",
       "      <td>Pública</td>\n",
       "      <td>Septiembre</td>\n",
       "      <td>Otoño</td>\n",
       "      <td>6400.0</td>\n",
       "      <td>Gratis</td>\n",
       "    </tr>\n",
       "    <tr>\n",
       "      <th>14</th>\n",
       "      <td>Audiovisuals</td>\n",
       "      <td>17.0</td>\n",
       "      <td>Festival de Cinema i Drets Humans de Barcelona</td>\n",
       "      <td>Privada</td>\n",
       "      <td>Diciembre</td>\n",
       "      <td>Otoño</td>\n",
       "      <td>3000.0</td>\n",
       "      <td>De Pago</td>\n",
       "    </tr>\n",
       "    <tr>\n",
       "      <th>4</th>\n",
       "      <td>Arts visuals</td>\n",
       "      <td>10.0</td>\n",
       "      <td>Barcelona Dibuixa</td>\n",
       "      <td>Pública</td>\n",
       "      <td>Octubre</td>\n",
       "      <td>Otoño</td>\n",
       "      <td>2592.0</td>\n",
       "      <td>Gratis</td>\n",
       "    </tr>\n",
       "    <tr>\n",
       "      <th>13</th>\n",
       "      <td>Arts escèniques</td>\n",
       "      <td>19.0</td>\n",
       "      <td>Escena Poblenou</td>\n",
       "      <td>Privada</td>\n",
       "      <td>Octubre</td>\n",
       "      <td>Otoño</td>\n",
       "      <td>2500.0</td>\n",
       "      <td>De Pago</td>\n",
       "    </tr>\n",
       "    <tr>\n",
       "      <th>15</th>\n",
       "      <td>Música</td>\n",
       "      <td>25.0</td>\n",
       "      <td>Festival de Música als Parcs</td>\n",
       "      <td>Pública</td>\n",
       "      <td>Agosto</td>\n",
       "      <td>Verano</td>\n",
       "      <td>2500.0</td>\n",
       "      <td>Gratis</td>\n",
       "    </tr>\n",
       "    <tr>\n",
       "      <th>21</th>\n",
       "      <td>Arts visuals</td>\n",
       "      <td>18.0</td>\n",
       "      <td>Loop Festival</td>\n",
       "      <td>Privada</td>\n",
       "      <td>Noviembre</td>\n",
       "      <td>Otoño</td>\n",
       "      <td>2000.0</td>\n",
       "      <td>De Pago</td>\n",
       "    </tr>\n",
       "    <tr>\n",
       "      <th>11</th>\n",
       "      <td>Arts visuals</td>\n",
       "      <td>24.0</td>\n",
       "      <td>Drap-Art. Festival Internacional de Reciclatge...</td>\n",
       "      <td>Privada</td>\n",
       "      <td>Diciembre</td>\n",
       "      <td>Otoño</td>\n",
       "      <td>1950.0</td>\n",
       "      <td>De Pago</td>\n",
       "    </tr>\n",
       "    <tr>\n",
       "      <th>12</th>\n",
       "      <td>Audiovisuals</td>\n",
       "      <td>13.0</td>\n",
       "      <td>El Meu Primer Festival</td>\n",
       "      <td>Privada</td>\n",
       "      <td>Noviembre</td>\n",
       "      <td>Otoño</td>\n",
       "      <td>1935.0</td>\n",
       "      <td>De Pago</td>\n",
       "    </tr>\n",
       "    <tr>\n",
       "      <th>1</th>\n",
       "      <td>Arts visuals</td>\n",
       "      <td>7.0</td>\n",
       "      <td>Art Photo BCN</td>\n",
       "      <td>Privada</td>\n",
       "      <td>Septiembre</td>\n",
       "      <td>Verano</td>\n",
       "      <td>1900.0</td>\n",
       "      <td>De Pago</td>\n",
       "    </tr>\n",
       "    <tr>\n",
       "      <th>8</th>\n",
       "      <td>Lletres</td>\n",
       "      <td>23.0</td>\n",
       "      <td>Barcelona Poesia</td>\n",
       "      <td>Pública</td>\n",
       "      <td>Octubre</td>\n",
       "      <td>Otoño</td>\n",
       "      <td>1877.0</td>\n",
       "      <td>Gratis</td>\n",
       "    </tr>\n",
       "    <tr>\n",
       "      <th>19</th>\n",
       "      <td>Multidisciplinaris i altres</td>\n",
       "      <td>10.0</td>\n",
       "      <td>HOP Festival. Festival de Danses Urbanes</td>\n",
       "      <td>Privada</td>\n",
       "      <td>Septiembre</td>\n",
       "      <td>Verano</td>\n",
       "      <td>1774.0</td>\n",
       "      <td>Gratis</td>\n",
       "    </tr>\n",
       "    <tr>\n",
       "      <th>2</th>\n",
       "      <td>Audiovisuals</td>\n",
       "      <td>8.0</td>\n",
       "      <td>Asian Film Festival</td>\n",
       "      <td>Privada</td>\n",
       "      <td>Octubre</td>\n",
       "      <td>Otoño</td>\n",
       "      <td>1348.0</td>\n",
       "      <td>De Pago</td>\n",
       "    </tr>\n",
       "    <tr>\n",
       "      <th>23</th>\n",
       "      <td>Audiovisuals</td>\n",
       "      <td>28.0</td>\n",
       "      <td>Mostra Internacional de Films de Dones de Barc...</td>\n",
       "      <td>Privada</td>\n",
       "      <td>Enero</td>\n",
       "      <td>Invierno</td>\n",
       "      <td>119.0</td>\n",
       "      <td>De Pago</td>\n",
       "    </tr>\n",
       "    <tr>\n",
       "      <th>9</th>\n",
       "      <td>Multidisciplinaris i altres</td>\n",
       "      <td>9.0</td>\n",
       "      <td>BAUM Festival</td>\n",
       "      <td>Privada</td>\n",
       "      <td>Octubre</td>\n",
       "      <td>Otoño</td>\n",
       "      <td>40.0</td>\n",
       "      <td>De Pago</td>\n",
       "    </tr>\n",
       "  </tbody>\n",
       "</table>\n",
       "</div>"
      ],
      "text/plain": [
       "                          Ambit  Edicio  \\\n",
       "20  Multidisciplinaris i altres     9.0   \n",
       "10  Multidisciplinaris i altres     1.0   \n",
       "18                       Música    31.0   \n",
       "22              Arts escèniques    11.0   \n",
       "17              Arts escèniques    44.0   \n",
       "16                       Música     8.0   \n",
       "6   Multidisciplinaris i altres     1.0   \n",
       "5   Multidisciplinaris i altres     7.0   \n",
       "25                       Música    52.0   \n",
       "24                       Música    11.0   \n",
       "7                  Arts visuals     6.0   \n",
       "3                        Música    28.0   \n",
       "14                 Audiovisuals    17.0   \n",
       "4                  Arts visuals    10.0   \n",
       "13              Arts escèniques    19.0   \n",
       "15                       Música    25.0   \n",
       "21                 Arts visuals    18.0   \n",
       "11                 Arts visuals    24.0   \n",
       "12                 Audiovisuals    13.0   \n",
       "1                  Arts visuals     7.0   \n",
       "8                       Lletres    23.0   \n",
       "19  Multidisciplinaris i altres    10.0   \n",
       "2                  Audiovisuals     8.0   \n",
       "23                 Audiovisuals    28.0   \n",
       "9   Multidisciplinaris i altres     9.0   \n",
       "\n",
       "                                       NomDelFestival Titularidad         Mes  \\\n",
       "20                                           Llum BCN     Pública     Febrero   \n",
       "10                                        Cruïlla XXS     Privada       Julio   \n",
       "18                                         Guitar Bcn     Privada       Enero   \n",
       "22                          Mercè Arts de Carrer. MAC     Pública  Septiembre   \n",
       "17                         Grec Festival de Barcelona     Pública       Junio   \n",
       "16                      Festival Jardins de Pedralbes     Privada       Julio   \n",
       "6                         Barcelona Festival de Nadal     Pública   Diciembre   \n",
       "5                        Barcelona Districte Cultural     Pública     Febrero   \n",
       "25            Voll-Damm Festival de Jazz de Barcelona     Privada     Octubre   \n",
       "24                                    MUTEK Barcelona     Privada       Marzo   \n",
       "7                           Barcelona Gallery Weekend     Privada  Septiembre   \n",
       "3                        BAM. Barcelona Acció Musical     Pública  Septiembre   \n",
       "14     Festival de Cinema i Drets Humans de Barcelona     Privada   Diciembre   \n",
       "4                                   Barcelona Dibuixa     Pública     Octubre   \n",
       "13                                    Escena Poblenou     Privada     Octubre   \n",
       "15                       Festival de Música als Parcs     Pública      Agosto   \n",
       "21                                      Loop Festival     Privada   Noviembre   \n",
       "11  Drap-Art. Festival Internacional de Reciclatge...     Privada   Diciembre   \n",
       "12                             El Meu Primer Festival     Privada   Noviembre   \n",
       "1                                       Art Photo BCN     Privada  Septiembre   \n",
       "8                                    Barcelona Poesia     Pública     Octubre   \n",
       "19           HOP Festival. Festival de Danses Urbanes     Privada  Septiembre   \n",
       "2                                 Asian Film Festival     Privada     Octubre   \n",
       "23  Mostra Internacional de Films de Dones de Barc...     Privada       Enero   \n",
       "9                                       BAUM Festival     Privada     Octubre   \n",
       "\n",
       "    Estacion  Asistentes  Entrada  \n",
       "20  Invierno    200000.0   Gratis  \n",
       "10    Verano     39156.0  De Pago  \n",
       "18  Invierno     35888.0  De Pago  \n",
       "22     Otoño     28972.0   Gratis  \n",
       "17    Verano     23572.0    Mixta  \n",
       "16    Verano     20168.0  De Pago  \n",
       "6      Otoño     18000.0   Gratis  \n",
       "5   Invierno     13371.0   Gratis  \n",
       "25     Otoño     12423.0  De Pago  \n",
       "24  Invierno      7800.0  De Pago  \n",
       "7     Verano      6500.0   Gratis  \n",
       "3      Otoño      6400.0   Gratis  \n",
       "14     Otoño      3000.0  De Pago  \n",
       "4      Otoño      2592.0   Gratis  \n",
       "13     Otoño      2500.0  De Pago  \n",
       "15    Verano      2500.0   Gratis  \n",
       "21     Otoño      2000.0  De Pago  \n",
       "11     Otoño      1950.0  De Pago  \n",
       "12     Otoño      1935.0  De Pago  \n",
       "1     Verano      1900.0  De Pago  \n",
       "8      Otoño      1877.0   Gratis  \n",
       "19    Verano      1774.0   Gratis  \n",
       "2      Otoño      1348.0  De Pago  \n",
       "23  Invierno       119.0  De Pago  \n",
       "9      Otoño        40.0  De Pago  "
      ]
     },
     "execution_count": 197,
     "metadata": {},
     "output_type": "execute_result"
    }
   ],
   "source": [
    "festivales_bcn_20"
   ]
  }
 ],
 "metadata": {
  "kernelspec": {
   "display_name": "Python 3",
   "language": "python",
   "name": "python3"
  },
  "language_info": {
   "codemirror_mode": {
    "name": "ipython",
    "version": 3
   },
   "file_extension": ".py",
   "mimetype": "text/x-python",
   "name": "python",
   "nbconvert_exporter": "python",
   "pygments_lexer": "ipython3",
   "version": "3.10.11"
  }
 },
 "nbformat": 4,
 "nbformat_minor": 2
}
