{
 "cells": [
  {
   "cell_type": "code",
   "execution_count": 99,
   "metadata": {},
   "outputs": [],
   "source": [
    "import pandas as pd\n",
    "import numpy as np\n",
    "import matplotlib.pyplot as plt\n",
    "import seaborn as sns"
   ]
  },
  {
   "cell_type": "code",
   "execution_count": 100,
   "metadata": {},
   "outputs": [],
   "source": [
    "festivales_bcn_21 = pd.read_pickle(\"./data/festivales_bcn_21_procesado.pkl\")"
   ]
  },
  {
   "cell_type": "code",
   "execution_count": 101,
   "metadata": {},
   "outputs": [],
   "source": [
    "categoricas_festivales = [\n",
    "    \"Ambit\",\n",
    "    \"Titularidad\",\n",
    "    \"NomDelFestival\",\n",
    "    \"Mes\",\n",
    "    \"Estacion\",\n",
    "    \"Entrada\"\n",
    "]"
   ]
  },
  {
   "cell_type": "code",
   "execution_count": 102,
   "metadata": {},
   "outputs": [],
   "source": [
    "categoricas_destacadas = [\n",
    "    'Ambit', \n",
    "    'Titularidad', \n",
    "    'Mes', \n",
    "    'Estacion',\n",
    "    \"Entrada\"\n",
    "]"
   ]
  },
  {
   "cell_type": "code",
   "execution_count": 103,
   "metadata": {},
   "outputs": [],
   "source": [
    "columnas_numericas_fests = [\n",
    "    \"Edicio\",\n",
    "    \"Asistentes\"\n",
    "]"
   ]
  },
  {
   "cell_type": "markdown",
   "metadata": {},
   "source": [
    "Funciones análisis"
   ]
  },
  {
   "cell_type": "code",
   "execution_count": 104,
   "metadata": {},
   "outputs": [],
   "source": [
    "def pinta_distribucion_categoricas(df, columnas_categoricas, relativa=False, mostrar_valores=False):\n",
    "    # Filtra solo las columnas que están en categoricas_destacadas\n",
    "    columnas_categoricas = [col for col in columnas_categoricas if col in categoricas_destacadas]\n",
    "    \n",
    "    num_columnas = 2 \n",
    "    num_filas = (len(columnas_categoricas) + num_columnas - 1) // num_columnas  # Calcula el número de filas necesario\n",
    "\n",
    "    fig, axes = plt.subplots(num_filas, num_columnas, figsize=(15, 5 * num_filas))  # Ajusta el tamaño del subplot\n",
    "    axes = axes.flatten()  # Aplanar el array de axes para un manejo más fácil\n",
    "\n",
    "    for i, col in enumerate(columnas_categoricas):\n",
    "        ax = axes[i]\n",
    "        if isinstance(df[col].iloc[0], list):  # Verificar si el elemento es una lista\n",
    "            temp_df = df.explode(col)\n",
    "        else:\n",
    "            temp_df = df\n",
    "\n",
    "        serie = temp_df[col].value_counts()\n",
    "        if relativa:\n",
    "            total = serie.sum()\n",
    "            serie = serie.apply(lambda x: x / total)\n",
    "            ax.set_ylabel('Frecuencia Relativa')\n",
    "        else:\n",
    "            ax.set_ylabel('Frecuencia')\n",
    "\n",
    "        # Usar la paleta 'viridis' y asignar 'x' a 'hue'\n",
    "        sns.barplot(x=serie.index, y=serie, hue=serie.index, ax=ax, palette='viridis', legend=False)\n",
    "        ax.set_title(f'Distribución de {col}')\n",
    "        ax.set_xlabel('')\n",
    "        ax.tick_params(axis='x', rotation=45)\n",
    "\n",
    "        if mostrar_valores:\n",
    "            for p in ax.patches:\n",
    "                height = p.get_height()\n",
    "                ax.annotate(f'{height:.2f}', (p.get_x() + p.get_width() / 2., height), \n",
    "                            ha='center', va='center', xytext=(0, 9), textcoords='offset points')\n",
    "\n",
    "    for j in range(i + 1, len(axes)):\n",
    "        axes[j].axis('off')  # Ocultar ejes no utilizados\n",
    "\n",
    "    plt.tight_layout()\n",
    "    plt.show()"
   ]
  },
  {
   "cell_type": "code",
   "execution_count": 105,
   "metadata": {},
   "outputs": [],
   "source": [
    "def plot_multiple_boxplots(df, columns, dim_matriz_visual = 2):\n",
    "    num_cols = len(columns)\n",
    "    num_rows = num_cols // dim_matriz_visual + num_cols % dim_matriz_visual\n",
    "    fig, axes = plt.subplots(num_rows, dim_matriz_visual, figsize=(12, 6 * num_rows))\n",
    "    axes = axes.flatten()\n",
    "\n",
    "    for i, column in enumerate(columns):\n",
    "        if df[column].dtype in ['int64', 'float64']:\n",
    "            sns.boxplot(data=df, x=column, ax=axes[i])\n",
    "            axes[i].set_title(column)\n",
    "\n",
    "    # Ocultar ejes vacíos\n",
    "    for j in range(i+1, num_rows * 2):\n",
    "        axes[j].axis('off')\n",
    "\n",
    "    plt.tight_layout()\n",
    "    plt.show()"
   ]
  },
  {
   "cell_type": "code",
   "execution_count": 106,
   "metadata": {},
   "outputs": [],
   "source": [
    "def plot_boxplot_grouped(df, column_to_plot, group_column):\n",
    "    if df[column_to_plot].dtype in ['int64', 'float64'] and df[group_column].dtype in ['object', 'category']:\n",
    "        sns.boxplot(data=df, x=group_column, y=column_to_plot)\n",
    "        plt.show()"
   ]
  },
  {
   "cell_type": "code",
   "execution_count": 107,
   "metadata": {},
   "outputs": [],
   "source": [
    "def get_IQR(df, col):\n",
    "    return df[col].quantile(0.75) - df[col].quantile(0.25)"
   ]
  },
  {
   "cell_type": "code",
   "execution_count": 108,
   "metadata": {},
   "outputs": [],
   "source": [
    "def variabilidad(df):\n",
    "    df_var = df.describe().loc[[\"std\", \"mean\"]].T\n",
    "    df_var[\"CV\"] = df_var[\"std\"]/ df_var[\"mean\"]\n",
    "    return df_var"
   ]
  },
  {
   "cell_type": "code",
   "execution_count": 109,
   "metadata": {},
   "outputs": [],
   "source": [
    "def plot_histo_den(df, columns):\n",
    "    num_cols = len(columns)\n",
    "    num_rows = num_cols // 2 + num_cols % 2\n",
    "    fig, axes = plt.subplots(num_rows, 2, figsize=(12, 6 * num_rows))\n",
    "    axes = axes.flatten()\n",
    "\n",
    "    for i, column in enumerate(columns):\n",
    "        if df[column].dtype in ['int64', 'float64']:\n",
    "            sns.histplot(df[column], kde=True, ax=axes[i])\n",
    "            axes[i].set_title(f'Histograma y KDE de {column}')\n",
    "\n",
    "    # Ocultar ejes vacíos\n",
    "    for j in range(i + 1, num_rows * 2):\n",
    "        axes[j].axis('off')\n",
    "\n",
    "    plt.tight_layout()\n",
    "    plt.show()"
   ]
  },
  {
   "cell_type": "code",
   "execution_count": 110,
   "metadata": {},
   "outputs": [],
   "source": [
    "def plot_combined_graphs(df, columns, whisker_width=1.5):\n",
    "    num_cols = len(columns)\n",
    "    if num_cols:\n",
    "        \n",
    "        fig, axes = plt.subplots(num_cols, 2, figsize=(12, 5 * num_cols))\n",
    "        print(axes.shape)\n",
    "\n",
    "        for i, column in enumerate(columns):\n",
    "            if df[column].dtype in ['int64', 'float64']:\n",
    "                # Histograma y KDE\n",
    "                sns.histplot(df[column], kde=True, ax=axes[i,0] if num_cols > 1 else axes[0])\n",
    "                if num_cols > 1:\n",
    "                    axes[i,0].set_title(f'Histograma y KDE de {column}')\n",
    "                else:\n",
    "                    axes[0].set_title(f'Histograma y KDE de {column}')\n",
    "\n",
    "                # Boxplot\n",
    "                sns.boxplot(x=df[column], ax=axes[i,1] if num_cols > 1 else axes[1], whis=whisker_width)\n",
    "                if num_cols > 1:\n",
    "                    axes[i,1].set_title(f'Boxplot de {column}')\n",
    "                else:\n",
    "                    axes[1].set_title(f'Boxplot de {column}')\n",
    "\n",
    "        plt.tight_layout()\n",
    "        plt.show()"
   ]
  },
  {
   "cell_type": "markdown",
   "metadata": {},
   "source": [
    "Tendencia central"
   ]
  },
  {
   "cell_type": "code",
   "execution_count": 111,
   "metadata": {},
   "outputs": [
    {
     "data": {
      "text/plain": [
       "Edicio           17.666667\n",
       "Asistentes    22991.638298\n",
       "Name: mean, dtype: float64"
      ]
     },
     "execution_count": 111,
     "metadata": {},
     "output_type": "execute_result"
    }
   ],
   "source": [
    "festivales_bcn_21.describe().loc[\"mean\"]"
   ]
  },
  {
   "cell_type": "code",
   "execution_count": 112,
   "metadata": {},
   "outputs": [
    {
     "data": {
      "text/plain": [
       "Edicio           16.0\n",
       "Asistentes    11199.0\n",
       "Name: 50%, dtype: float64"
      ]
     },
     "execution_count": 112,
     "metadata": {},
     "output_type": "execute_result"
    }
   ],
   "source": [
    "festivales_bcn_21.describe().loc[\"50%\"]"
   ]
  },
  {
   "cell_type": "code",
   "execution_count": 113,
   "metadata": {},
   "outputs": [
    {
     "data": {
      "text/plain": [
       "Edicio            53.0\n",
       "Asistentes    221000.0\n",
       "Name: max, dtype: float64"
      ]
     },
     "execution_count": 113,
     "metadata": {},
     "output_type": "execute_result"
    }
   ],
   "source": [
    "festivales_bcn_21.describe().loc[\"max\"]"
   ]
  },
  {
   "cell_type": "code",
   "execution_count": 114,
   "metadata": {},
   "outputs": [
    {
     "data": {
      "text/plain": [
       "Edicio          2.0\n",
       "Asistentes    780.0\n",
       "Name: min, dtype: float64"
      ]
     },
     "execution_count": 114,
     "metadata": {},
     "output_type": "execute_result"
    }
   ],
   "source": [
    "festivales_bcn_21.describe().loc[\"min\"]"
   ]
  },
  {
   "cell_type": "code",
   "execution_count": 115,
   "metadata": {},
   "outputs": [
    {
     "data": {
      "text/html": [
       "<div>\n",
       "<style scoped>\n",
       "    .dataframe tbody tr th:only-of-type {\n",
       "        vertical-align: middle;\n",
       "    }\n",
       "\n",
       "    .dataframe tbody tr th {\n",
       "        vertical-align: top;\n",
       "    }\n",
       "\n",
       "    .dataframe thead th {\n",
       "        text-align: right;\n",
       "    }\n",
       "</style>\n",
       "<table border=\"1\" class=\"dataframe\">\n",
       "  <thead>\n",
       "    <tr style=\"text-align: right;\">\n",
       "      <th></th>\n",
       "      <th>0</th>\n",
       "    </tr>\n",
       "  </thead>\n",
       "  <tbody>\n",
       "    <tr>\n",
       "      <th>Ambit</th>\n",
       "      <td>Música</td>\n",
       "    </tr>\n",
       "    <tr>\n",
       "      <th>Titularidad</th>\n",
       "      <td>Privada</td>\n",
       "    </tr>\n",
       "    <tr>\n",
       "      <th>Mes</th>\n",
       "      <td>Noviembre</td>\n",
       "    </tr>\n",
       "    <tr>\n",
       "      <th>Estacion</th>\n",
       "      <td>Otoño</td>\n",
       "    </tr>\n",
       "    <tr>\n",
       "      <th>Entrada</th>\n",
       "      <td>De Pago</td>\n",
       "    </tr>\n",
       "  </tbody>\n",
       "</table>\n",
       "</div>"
      ],
      "text/plain": [
       "                     0\n",
       "Ambit           Música\n",
       "Titularidad    Privada\n",
       "Mes          Noviembre\n",
       "Estacion         Otoño\n",
       "Entrada        De Pago"
      ]
     },
     "execution_count": 115,
     "metadata": {},
     "output_type": "execute_result"
    }
   ],
   "source": [
    "festivales_bcn_21[categoricas_destacadas].mode().T"
   ]
  },
  {
   "cell_type": "markdown",
   "metadata": {},
   "source": [
    "Comentarios <br>\n",
    "La mediana de ediciones, situada en 16, está en este caso muy cerca de la media, en 17.7 <br>\n",
    "Mas diferencia se nota en la cantidad de asistentes, con una mediana de unas 11.000 personas\n",
    "Las modas son idénticas a las de 2022: el festival típico de Barcelona parecería ser uno de música organizado por una entidad privada, que  cobra entrada, y que tiene lugar en pleno otoño."
   ]
  },
  {
   "cell_type": "markdown",
   "metadata": {},
   "source": [
    "Frecuencias relativa y absoluta"
   ]
  },
  {
   "cell_type": "code",
   "execution_count": 116,
   "metadata": {},
   "outputs": [
    {
     "name": "stdout",
     "output_type": "stream",
     "text": [
      "Ambit\n",
      "Música                         14\n",
      "Audiovisuals                   11\n",
      "Multidisciplinaris i altres     8\n",
      "Arts visuals                    5\n",
      "Arts escèniques                 5\n",
      "Lletres                         4\n",
      "Name: count, dtype: int64\n",
      "\n",
      "\n",
      "Titularidad\n",
      "Privada    36\n",
      "Pública    10\n",
      "Mixta       1\n",
      "Name: count, dtype: int64\n",
      "\n",
      "\n",
      "Mes\n",
      "Noviembre     11\n",
      "Octubre        8\n",
      "Enero          6\n",
      "Junio          5\n",
      "Mayo           4\n",
      "Marzo          3\n",
      "Septiembre     3\n",
      "Julio          3\n",
      "Abril          2\n",
      "Diciembre      1\n",
      "Agosto         1\n",
      "Name: count, dtype: int64\n",
      "\n",
      "\n",
      "Estacion\n",
      "Otoño        22\n",
      "Primavera    10\n",
      "Invierno      9\n",
      "Verano        6\n",
      "Name: count, dtype: int64\n",
      "\n",
      "\n",
      "Entrada\n",
      "De Pago    32\n",
      "Gratis     12\n",
      "Mixta       3\n",
      "Name: count, dtype: int64\n",
      "\n",
      "\n"
     ]
    }
   ],
   "source": [
    "for catego in categoricas_destacadas:\n",
    "    print(festivales_bcn_21[catego].value_counts())\n",
    "    print(\"\\n\")"
   ]
  },
  {
   "cell_type": "code",
   "execution_count": 118,
   "metadata": {},
   "outputs": [
    {
     "name": "stdout",
     "output_type": "stream",
     "text": [
      "Ambit\n",
      "Música                         29.787234\n",
      "Audiovisuals                   23.404255\n",
      "Multidisciplinaris i altres    17.021277\n",
      "Arts visuals                   10.638298\n",
      "Arts escèniques                10.638298\n",
      "Lletres                         8.510638\n",
      "Name: count, dtype: float64\n",
      "\n",
      "\n",
      "Titularidad\n",
      "Privada    76.595745\n",
      "Pública    21.276596\n",
      "Mixta       2.127660\n",
      "Name: count, dtype: float64\n",
      "\n",
      "\n",
      "Mes\n",
      "Noviembre     23.404255\n",
      "Octubre       17.021277\n",
      "Enero         12.765957\n",
      "Junio         10.638298\n",
      "Mayo           8.510638\n",
      "Marzo          6.382979\n",
      "Septiembre     6.382979\n",
      "Julio          6.382979\n",
      "Abril          4.255319\n",
      "Diciembre      2.127660\n",
      "Agosto         2.127660\n",
      "Name: count, dtype: float64\n",
      "\n",
      "\n",
      "Estacion\n",
      "Otoño        46.808511\n",
      "Primavera    21.276596\n",
      "Invierno     19.148936\n",
      "Verano       12.765957\n",
      "Name: count, dtype: float64\n",
      "\n",
      "\n",
      "Entrada\n",
      "De Pago    68.085106\n",
      "Gratis     25.531915\n",
      "Mixta       6.382979\n",
      "Name: count, dtype: float64\n",
      "\n",
      "\n"
     ]
    }
   ],
   "source": [
    "for catego in categoricas_destacadas:\n",
    "    print(festivales_bcn_21[catego].value_counts()/len(festivales_bcn_21)*100)\n",
    "    print(\"\\n\")"
   ]
  },
  {
   "cell_type": "code",
   "execution_count": 134,
   "metadata": {},
   "outputs": [
    {
     "data": {
      "image/png": "[encoded data removed]",
      "text/plain": [
       "<Figure size 1500x1500 with 6 Axes>"
      ]
     },
     "metadata": {},
     "output_type": "display_data"
    }
   ],
   "source": [
    "pinta_distribucion_categoricas(festivales_bcn_21, categoricas_destacadas, relativa = True)"
   ]
  },
  {
   "cell_type": "markdown",
   "metadata": {},
   "source": [
    "Comentarios <br>\n",
    "El número de propuestas del sector privado casi triplica las del sector público, y los festivales de pago más que duplican los gratuitos.Esto último tiene similitudes con los datos de 2019.<br>\n",
    "En agosto y diciembre casi no hay festivales, sí antes y después, que son los 2 momentos con picos más altos, pero con una fuerte caída en general en invierno, a excepción de enero. Y el contraste entre otoño, vs primavera y verano es muy marcado. Diciembre cae mucho, pero no desaparece.<br>\n",
    "La música es sin duda la protagonista de los festivales, con los audiovisuales en un segundo lugar."
   ]
  },
  {
   "cell_type": "markdown",
   "metadata": {},
   "source": [
    "Comentarios <br>\n"
   ]
  },
  {
   "cell_type": "markdown",
   "metadata": {},
   "source": [
    "Medidas de posición"
   ]
  },
  {
   "cell_type": "code",
   "execution_count": 119,
   "metadata": {},
   "outputs": [
    {
     "data": {
      "text/html": [
       "<div>\n",
       "<style scoped>\n",
       "    .dataframe tbody tr th:only-of-type {\n",
       "        vertical-align: middle;\n",
       "    }\n",
       "\n",
       "    .dataframe tbody tr th {\n",
       "        vertical-align: top;\n",
       "    }\n",
       "\n",
       "    .dataframe thead th {\n",
       "        text-align: right;\n",
       "    }\n",
       "</style>\n",
       "<table border=\"1\" class=\"dataframe\">\n",
       "  <thead>\n",
       "    <tr style=\"text-align: right;\">\n",
       "      <th></th>\n",
       "      <th>Edicio</th>\n",
       "      <th>Asistentes</th>\n",
       "    </tr>\n",
       "  </thead>\n",
       "  <tbody>\n",
       "    <tr>\n",
       "      <th>count</th>\n",
       "      <td>45.000000</td>\n",
       "      <td>47.000000</td>\n",
       "    </tr>\n",
       "    <tr>\n",
       "      <th>mean</th>\n",
       "      <td>17.666667</td>\n",
       "      <td>22991.638298</td>\n",
       "    </tr>\n",
       "    <tr>\n",
       "      <th>std</th>\n",
       "      <td>11.133488</td>\n",
       "      <td>37575.216223</td>\n",
       "    </tr>\n",
       "    <tr>\n",
       "      <th>min</th>\n",
       "      <td>2.000000</td>\n",
       "      <td>780.000000</td>\n",
       "    </tr>\n",
       "    <tr>\n",
       "      <th>25%</th>\n",
       "      <td>10.000000</td>\n",
       "      <td>5050.000000</td>\n",
       "    </tr>\n",
       "    <tr>\n",
       "      <th>50%</th>\n",
       "      <td>16.000000</td>\n",
       "      <td>11199.000000</td>\n",
       "    </tr>\n",
       "    <tr>\n",
       "      <th>75%</th>\n",
       "      <td>25.000000</td>\n",
       "      <td>19838.500000</td>\n",
       "    </tr>\n",
       "    <tr>\n",
       "      <th>max</th>\n",
       "      <td>53.000000</td>\n",
       "      <td>221000.000000</td>\n",
       "    </tr>\n",
       "  </tbody>\n",
       "</table>\n",
       "</div>"
      ],
      "text/plain": [
       "          Edicio     Asistentes\n",
       "count  45.000000      47.000000\n",
       "mean   17.666667   22991.638298\n",
       "std    11.133488   37575.216223\n",
       "min     2.000000     780.000000\n",
       "25%    10.000000    5050.000000\n",
       "50%    16.000000   11199.000000\n",
       "75%    25.000000   19838.500000\n",
       "max    53.000000  221000.000000"
      ]
     },
     "execution_count": 119,
     "metadata": {},
     "output_type": "execute_result"
    }
   ],
   "source": [
    "festivales_bcn_21.describe()"
   ]
  },
  {
   "cell_type": "code",
   "execution_count": 120,
   "metadata": {},
   "outputs": [
    {
     "data": {
      "text/plain": [
       "15.0"
      ]
     },
     "execution_count": 120,
     "metadata": {},
     "output_type": "execute_result"
    }
   ],
   "source": [
    "get_IQR(festivales_bcn_21,\"Edicio\") \n",
    "# No es tanto mayor que la mediana (11), y casi igual que la media (mean)"
   ]
  },
  {
   "cell_type": "code",
   "execution_count": 121,
   "metadata": {},
   "outputs": [
    {
     "name": "stdout",
     "output_type": "stream",
     "text": [
      "16.0 \n",
      " 30.200000000000003 \n",
      " 33.599999999999994 \n",
      " 53.0\n"
     ]
    }
   ],
   "source": [
    "print(festivales_bcn_21[\"Edicio\"].quantile(0.5), \"\\n\",\n",
    "    festivales_bcn_21[\"Edicio\"].quantile(0.9), \"\\n\",\n",
    "    festivales_bcn_21[\"Edicio\"].quantile(0.95), \"\\n\",\n",
    "    festivales_bcn_21[\"Edicio\"].max())"
   ]
  },
  {
   "cell_type": "code",
   "execution_count": 122,
   "metadata": {},
   "outputs": [
    {
     "data": {
      "text/plain": [
       "14788.5"
      ]
     },
     "execution_count": 122,
     "metadata": {},
     "output_type": "execute_result"
    }
   ],
   "source": [
    "get_IQR(festivales_bcn_21,\"Asistentes\") \n",
    "# Sí es mucho mayor que la mediana(2120). Hay mucha dispersión. Hay que tomar con cuidado la tendencia central"
   ]
  },
  {
   "cell_type": "code",
   "execution_count": 123,
   "metadata": {},
   "outputs": [
    {
     "name": "stdout",
     "output_type": "stream",
     "text": [
      "11199.0 \n",
      " 48405.19999999999 \n",
      " 85976.89999999983 \n",
      " 221000.0\n"
     ]
    }
   ],
   "source": [
    "print(festivales_bcn_21[\"Asistentes\"].quantile(0.5), \"\\n\",\n",
    "    festivales_bcn_21[\"Asistentes\"].quantile(0.9), \"\\n\",\n",
    "    festivales_bcn_21[\"Asistentes\"].quantile(0.95), \"\\n\",\n",
    "    festivales_bcn_21[\"Asistentes\"].max())"
   ]
  },
  {
   "cell_type": "markdown",
   "metadata": {},
   "source": [
    "Comentarios: <br>\n",
    "Alta dispersión en el número de asistentes, en el que la mediana está en 11.000, el primer 90% en 48 mil, que ya es 4 veces más, el último segmento pega un salto del doble en torno a los 86 mil, y el máximo casi lo triplica con 220 mil. El máximo es unas 20 veces la mediana."
   ]
  },
  {
   "cell_type": "code",
   "execution_count": 125,
   "metadata": {},
   "outputs": [
    {
     "data": {
      "image/png": "[encoded data removed]",
      "text/plain": [
       "<Figure size 1200x600 with 2 Axes>"
      ]
     },
     "metadata": {},
     "output_type": "display_data"
    }
   ],
   "source": [
    "plot_multiple_boxplots(festivales_bcn_21, columnas_numericas_fests)"
   ]
  },
  {
   "cell_type": "markdown",
   "metadata": {},
   "source": [
    "Comentarios <br>\n",
    "Gracias a los boxplots podemos observar como la media está bastante centrada, y además hay bastantes outliers en las cifras de asistentes."
   ]
  },
  {
   "cell_type": "code",
   "execution_count": 126,
   "metadata": {},
   "outputs": [],
   "source": [
    "plot_boxplot_grouped(festivales_bcn_21, \"Edicio\", \"Asistentes\")\n",
    "\n",
    "# Por qué no consigo que se imprima esto????"
   ]
  },
  {
   "cell_type": "markdown",
   "metadata": {},
   "source": [
    "Medidas de dispersión"
   ]
  },
  {
   "cell_type": "code",
   "execution_count": 127,
   "metadata": {},
   "outputs": [
    {
     "data": {
      "text/html": [
       "<div>\n",
       "<style scoped>\n",
       "    .dataframe tbody tr th:only-of-type {\n",
       "        vertical-align: middle;\n",
       "    }\n",
       "\n",
       "    .dataframe tbody tr th {\n",
       "        vertical-align: top;\n",
       "    }\n",
       "\n",
       "    .dataframe thead th {\n",
       "        text-align: right;\n",
       "    }\n",
       "</style>\n",
       "<table border=\"1\" class=\"dataframe\">\n",
       "  <thead>\n",
       "    <tr style=\"text-align: right;\">\n",
       "      <th></th>\n",
       "      <th>std</th>\n",
       "      <th>mean</th>\n",
       "    </tr>\n",
       "  </thead>\n",
       "  <tbody>\n",
       "    <tr>\n",
       "      <th>Edicio</th>\n",
       "      <td>11.133488</td>\n",
       "      <td>17.666667</td>\n",
       "    </tr>\n",
       "    <tr>\n",
       "      <th>Asistentes</th>\n",
       "      <td>37575.216223</td>\n",
       "      <td>22991.638298</td>\n",
       "    </tr>\n",
       "  </tbody>\n",
       "</table>\n",
       "</div>"
      ],
      "text/plain": [
       "                     std          mean\n",
       "Edicio         11.133488     17.666667\n",
       "Asistentes  37575.216223  22991.638298"
      ]
     },
     "execution_count": 127,
     "metadata": {},
     "output_type": "execute_result"
    }
   ],
   "source": [
    "festivales_bcn_21.describe().loc[[\"std\", \"mean\"]].T"
   ]
  },
  {
   "cell_type": "code",
   "execution_count": 128,
   "metadata": {},
   "outputs": [
    {
     "data": {
      "text/html": [
       "<div>\n",
       "<style scoped>\n",
       "    .dataframe tbody tr th:only-of-type {\n",
       "        vertical-align: middle;\n",
       "    }\n",
       "\n",
       "    .dataframe tbody tr th {\n",
       "        vertical-align: top;\n",
       "    }\n",
       "\n",
       "    .dataframe thead th {\n",
       "        text-align: right;\n",
       "    }\n",
       "</style>\n",
       "<table border=\"1\" class=\"dataframe\">\n",
       "  <thead>\n",
       "    <tr style=\"text-align: right;\">\n",
       "      <th></th>\n",
       "      <th>std</th>\n",
       "      <th>mean</th>\n",
       "      <th>CV</th>\n",
       "    </tr>\n",
       "  </thead>\n",
       "  <tbody>\n",
       "    <tr>\n",
       "      <th>Edicio</th>\n",
       "      <td>11.133488</td>\n",
       "      <td>17.666667</td>\n",
       "      <td>0.630197</td>\n",
       "    </tr>\n",
       "    <tr>\n",
       "      <th>Asistentes</th>\n",
       "      <td>37575.216223</td>\n",
       "      <td>22991.638298</td>\n",
       "      <td>1.634299</td>\n",
       "    </tr>\n",
       "  </tbody>\n",
       "</table>\n",
       "</div>"
      ],
      "text/plain": [
       "                     std          mean        CV\n",
       "Edicio         11.133488     17.666667  0.630197\n",
       "Asistentes  37575.216223  22991.638298  1.634299"
      ]
     },
     "execution_count": 128,
     "metadata": {},
     "output_type": "execute_result"
    }
   ],
   "source": [
    "variabilidad(festivales_bcn_21)\n",
    "# Menos 15% es baja variabilidad, entre 15 y 30 es normal, más de 30 es alta = Es decir, todos tienen una altísima variabilidad! A ver visualmente..."
   ]
  },
  {
   "cell_type": "code",
   "execution_count": 129,
   "metadata": {},
   "outputs": [
    {
     "data": {
      "image/png": "[encoded data removed]",
      "text/plain": [
       "<Figure size 640x480 with 1 Axes>"
      ]
     },
     "metadata": {},
     "output_type": "display_data"
    }
   ],
   "source": [
    "festivales_bcn_21[\"Edicio\"].hist();"
   ]
  },
  {
   "cell_type": "code",
   "execution_count": 130,
   "metadata": {},
   "outputs": [
    {
     "data": {
      "image/png": "[encoded data removed]",
      "text/plain": [
       "<Figure size 640x480 with 1 Axes>"
      ]
     },
     "metadata": {},
     "output_type": "display_data"
    }
   ],
   "source": [
    "festivales_bcn_21[\"Asistentes\"].hist();"
   ]
  },
  {
   "cell_type": "markdown",
   "metadata": {},
   "source": [
    "Distribución"
   ]
  },
  {
   "cell_type": "code",
   "execution_count": 131,
   "metadata": {},
   "outputs": [
    {
     "data": {
      "image/png": "[encoded data removed]",
      "text/plain": [
       "<Figure size 1200x600 with 2 Axes>"
      ]
     },
     "metadata": {},
     "output_type": "display_data"
    }
   ],
   "source": [
    "plot_histo_den(festivales_bcn_21, [\"Asistentes\"])"
   ]
  },
  {
   "cell_type": "markdown",
   "metadata": {},
   "source": [
    "Anomalías outliers"
   ]
  },
  {
   "cell_type": "code",
   "execution_count": 132,
   "metadata": {},
   "outputs": [
    {
     "name": "stdout",
     "output_type": "stream",
     "text": [
      "(2,)\n"
     ]
    },
    {
     "data": {
      "image/png": "[encoded data removed]",
      "text/plain": [
       "<Figure size 1200x500 with 2 Axes>"
      ]
     },
     "metadata": {},
     "output_type": "display_data"
    }
   ],
   "source": [
    "plot_combined_graphs(festivales_bcn_21, [\"Asistentes\"])"
   ]
  },
  {
   "cell_type": "code",
   "execution_count": 136,
   "metadata": {},
   "outputs": [
    {
     "name": "stdout",
     "output_type": "stream",
     "text": [
      "De Pago: 5 - 50.00%\n",
      "Gratis: 4 - 40.00%\n",
      "Mixta: 1 - 10.00%\n"
     ]
    }
   ],
   "source": [
    "festivales_bcn_21 = festivales_bcn_21.sort_values('Asistentes', ascending=False)\n",
    "primeros_10 = festivales_bcn_21.head(10)  \n",
    "tipo_entradas_top_festivales = primeros_10['Entrada'].value_counts()\n",
    "\n",
    "porcentaje_tipo_entradas_primeros_10 = tipo_entradas_top_festivales / tipo_entradas_top_festivales.sum() * 100\n",
    "\n",
    "for entrada, count in tipo_entradas_top_festivales.items():\n",
    "    porcentaje = porcentaje_tipo_entradas_primeros_10[entrada]\n",
    "    print(f\"{entrada}: {count} - {porcentaje:.2f}%\")"
   ]
  },
  {
   "cell_type": "code",
   "execution_count": 137,
   "metadata": {},
   "outputs": [
    {
     "name": "stdout",
     "output_type": "stream",
     "text": [
      "Audiovisuals: 3 - 30.00%\n",
      "Multidisciplinaris i altres: 2 - 20.00%\n",
      "Arts escèniques: 2 - 20.00%\n",
      "Música: 2 - 20.00%\n",
      "Arts visuals: 1 - 10.00%\n"
     ]
    }
   ],
   "source": [
    "festivales_bcn_21 = festivales_bcn_21.sort_values('Asistentes', ascending=False)\n",
    "primeros_10 = festivales_bcn_21.head(10)  \n",
    "tipo_entradas_top_festivales = primeros_10['Ambit'].value_counts()\n",
    "\n",
    "porcentaje_tipo_entradas_primeros_10 = tipo_entradas_top_festivales / tipo_entradas_top_festivales.sum() * 100\n",
    "\n",
    "for entrada, count in tipo_entradas_top_festivales.items():\n",
    "    porcentaje = porcentaje_tipo_entradas_primeros_10[entrada]\n",
    "    print(f\"{entrada}: {count} - {porcentaje:.2f}%\")"
   ]
  },
  {
   "cell_type": "code",
   "execution_count": 135,
   "metadata": {},
   "outputs": [
    {
     "data": {
      "text/html": [
       "<div>\n",
       "<style scoped>\n",
       "    .dataframe tbody tr th:only-of-type {\n",
       "        vertical-align: middle;\n",
       "    }\n",
       "\n",
       "    .dataframe tbody tr th {\n",
       "        vertical-align: top;\n",
       "    }\n",
       "\n",
       "    .dataframe thead th {\n",
       "        text-align: right;\n",
       "    }\n",
       "</style>\n",
       "<table border=\"1\" class=\"dataframe\">\n",
       "  <thead>\n",
       "    <tr style=\"text-align: right;\">\n",
       "      <th></th>\n",
       "      <th>Ambit</th>\n",
       "      <th>Edicio</th>\n",
       "      <th>NomDelFestival</th>\n",
       "      <th>Titularidad</th>\n",
       "      <th>Mes</th>\n",
       "      <th>Estacion</th>\n",
       "      <th>Asistentes</th>\n",
       "      <th>Entrada</th>\n",
       "    </tr>\n",
       "  </thead>\n",
       "  <tbody>\n",
       "    <tr>\n",
       "      <th>8</th>\n",
       "      <td>Multidisciplinaris i altres</td>\n",
       "      <td>2.0</td>\n",
       "      <td>Barcelona Festival de Nadal</td>\n",
       "      <td>Pública</td>\n",
       "      <td>Diciembre</td>\n",
       "      <td>Otoño</td>\n",
       "      <td>221000.0</td>\n",
       "      <td>Gratis</td>\n",
       "    </tr>\n",
       "    <tr>\n",
       "      <th>34</th>\n",
       "      <td>Multidisciplinaris i altres</td>\n",
       "      <td>10.0</td>\n",
       "      <td>Llum BCN</td>\n",
       "      <td>Pública</td>\n",
       "      <td>Noviembre</td>\n",
       "      <td>Otoño</td>\n",
       "      <td>117200.0</td>\n",
       "      <td>Gratis</td>\n",
       "    </tr>\n",
       "    <tr>\n",
       "      <th>28</th>\n",
       "      <td>Arts escèniques</td>\n",
       "      <td>45.0</td>\n",
       "      <td>Grec Festival de Barcelona</td>\n",
       "      <td>Pública</td>\n",
       "      <td>Junio</td>\n",
       "      <td>Verano</td>\n",
       "      <td>98024.0</td>\n",
       "      <td>Mixta</td>\n",
       "    </tr>\n",
       "    <tr>\n",
       "      <th>3</th>\n",
       "      <td>Audiovisuals</td>\n",
       "      <td>9.0</td>\n",
       "      <td>Asian Film Festival</td>\n",
       "      <td>Privada</td>\n",
       "      <td>Octubre</td>\n",
       "      <td>Otoño</td>\n",
       "      <td>57867.0</td>\n",
       "      <td>De Pago</td>\n",
       "    </tr>\n",
       "    <tr>\n",
       "      <th>36</th>\n",
       "      <td>Arts escèniques</td>\n",
       "      <td>12.0</td>\n",
       "      <td>Mercè Arts de Carrer. MAC</td>\n",
       "      <td>Pública</td>\n",
       "      <td>Septiembre</td>\n",
       "      <td>Otoño</td>\n",
       "      <td>52568.0</td>\n",
       "      <td>Gratis</td>\n",
       "    </tr>\n",
       "    <tr>\n",
       "      <th>21</th>\n",
       "      <td>Música</td>\n",
       "      <td>11.0</td>\n",
       "      <td>Festival Cruïlla</td>\n",
       "      <td>Privada</td>\n",
       "      <td>Julio</td>\n",
       "      <td>Verano</td>\n",
       "      <td>45630.0</td>\n",
       "      <td>De Pago</td>\n",
       "    </tr>\n",
       "    <tr>\n",
       "      <th>29</th>\n",
       "      <td>Música</td>\n",
       "      <td>32.0</td>\n",
       "      <td>Guitar Bcn</td>\n",
       "      <td>Privada</td>\n",
       "      <td>Enero</td>\n",
       "      <td>Invierno</td>\n",
       "      <td>45000.0</td>\n",
       "      <td>De Pago</td>\n",
       "    </tr>\n",
       "    <tr>\n",
       "      <th>5</th>\n",
       "      <td>Arts visuals</td>\n",
       "      <td>16.0</td>\n",
       "      <td>Barcelona Design Week City Festival</td>\n",
       "      <td>Privada</td>\n",
       "      <td>Octubre</td>\n",
       "      <td>Otoño</td>\n",
       "      <td>34300.0</td>\n",
       "      <td>Gratis</td>\n",
       "    </tr>\n",
       "    <tr>\n",
       "      <th>43</th>\n",
       "      <td>Audiovisuals</td>\n",
       "      <td>19.0</td>\n",
       "      <td>Sala Montjuïc</td>\n",
       "      <td>Privada</td>\n",
       "      <td>Julio</td>\n",
       "      <td>Verano</td>\n",
       "      <td>28000.0</td>\n",
       "      <td>De Pago</td>\n",
       "    </tr>\n",
       "    <tr>\n",
       "      <th>25</th>\n",
       "      <td>Audiovisuals</td>\n",
       "      <td>19.0</td>\n",
       "      <td>Festival In-Edit</td>\n",
       "      <td>Privada</td>\n",
       "      <td>Octubre</td>\n",
       "      <td>Otoño</td>\n",
       "      <td>24652.0</td>\n",
       "      <td>De Pago</td>\n",
       "    </tr>\n",
       "    <tr>\n",
       "      <th>13</th>\n",
       "      <td>Música</td>\n",
       "      <td>4.0</td>\n",
       "      <td>Brunch-in the City</td>\n",
       "      <td>Privada</td>\n",
       "      <td>Noviembre</td>\n",
       "      <td>Otoño</td>\n",
       "      <td>22600.0</td>\n",
       "      <td>De Pago</td>\n",
       "    </tr>\n",
       "    <tr>\n",
       "      <th>45</th>\n",
       "      <td>Música</td>\n",
       "      <td>11.0</td>\n",
       "      <td>SIMFONIC</td>\n",
       "      <td>Privada</td>\n",
       "      <td>Enero</td>\n",
       "      <td>Invierno</td>\n",
       "      <td>20000.0</td>\n",
       "      <td>De Pago</td>\n",
       "    </tr>\n",
       "    <tr>\n",
       "      <th>14</th>\n",
       "      <td>Multidisciplinaris i altres</td>\n",
       "      <td>2.0</td>\n",
       "      <td>Cruïlla XXS</td>\n",
       "      <td>Privada</td>\n",
       "      <td>Junio</td>\n",
       "      <td>Primavera</td>\n",
       "      <td>19677.0</td>\n",
       "      <td>De Pago</td>\n",
       "    </tr>\n",
       "    <tr>\n",
       "      <th>44</th>\n",
       "      <td>Música</td>\n",
       "      <td>3.0</td>\n",
       "      <td>Share Festival</td>\n",
       "      <td>Privada</td>\n",
       "      <td>Julio</td>\n",
       "      <td>Verano</td>\n",
       "      <td>19394.0</td>\n",
       "      <td>De Pago</td>\n",
       "    </tr>\n",
       "    <tr>\n",
       "      <th>47</th>\n",
       "      <td>Música</td>\n",
       "      <td>53.0</td>\n",
       "      <td>Voll-Damm Festival de Jazz de Barcelona</td>\n",
       "      <td>Privada</td>\n",
       "      <td>Enero</td>\n",
       "      <td>Invierno</td>\n",
       "      <td>18144.0</td>\n",
       "      <td>De Pago</td>\n",
       "    </tr>\n",
       "    <tr>\n",
       "      <th>7</th>\n",
       "      <td>Multidisciplinaris i altres</td>\n",
       "      <td>10.0</td>\n",
       "      <td>Barcelona Districte Cultural</td>\n",
       "      <td>Pública</td>\n",
       "      <td>Octubre</td>\n",
       "      <td>Otoño</td>\n",
       "      <td>16751.0</td>\n",
       "      <td>Gratis</td>\n",
       "    </tr>\n",
       "    <tr>\n",
       "      <th>2</th>\n",
       "      <td>Arts visuals</td>\n",
       "      <td>8.0</td>\n",
       "      <td>Art Photo BCN</td>\n",
       "      <td>Privada</td>\n",
       "      <td>Junio</td>\n",
       "      <td>Primavera</td>\n",
       "      <td>15900.0</td>\n",
       "      <td>De Pago</td>\n",
       "    </tr>\n",
       "    <tr>\n",
       "      <th>16</th>\n",
       "      <td>Arts escèniques</td>\n",
       "      <td>4.0</td>\n",
       "      <td>Dansa. Quinzena Metropolitana</td>\n",
       "      <td>Pública</td>\n",
       "      <td>Marzo</td>\n",
       "      <td>Invierno</td>\n",
       "      <td>15450.0</td>\n",
       "      <td>De Pago</td>\n",
       "    </tr>\n",
       "    <tr>\n",
       "      <th>18</th>\n",
       "      <td>Arts visuals</td>\n",
       "      <td>25.0</td>\n",
       "      <td>Drap-Art. Festival Internacional de Reciclatge...</td>\n",
       "      <td>Privada</td>\n",
       "      <td>Noviembre</td>\n",
       "      <td>Otoño</td>\n",
       "      <td>15000.0</td>\n",
       "      <td>De Pago</td>\n",
       "    </tr>\n",
       "    <tr>\n",
       "      <th>12</th>\n",
       "      <td>Multidisciplinaris i altres</td>\n",
       "      <td>24.0</td>\n",
       "      <td>BAUM Festival</td>\n",
       "      <td>Privada</td>\n",
       "      <td>Octubre</td>\n",
       "      <td>Otoño</td>\n",
       "      <td>15000.0</td>\n",
       "      <td>De Pago</td>\n",
       "    </tr>\n",
       "    <tr>\n",
       "      <th>19</th>\n",
       "      <td>Audiovisuals</td>\n",
       "      <td>14.0</td>\n",
       "      <td>El Meu Primer Festival</td>\n",
       "      <td>Privada</td>\n",
       "      <td>Noviembre</td>\n",
       "      <td>Otoño</td>\n",
       "      <td>14729.0</td>\n",
       "      <td>De Pago</td>\n",
       "    </tr>\n",
       "    <tr>\n",
       "      <th>15</th>\n",
       "      <td>Audiovisuals</td>\n",
       "      <td>11.0</td>\n",
       "      <td>D'A Film Festival Barcelona</td>\n",
       "      <td>Privada</td>\n",
       "      <td>Abril</td>\n",
       "      <td>Primavera</td>\n",
       "      <td>14643.0</td>\n",
       "      <td>De Pago</td>\n",
       "    </tr>\n",
       "    <tr>\n",
       "      <th>9</th>\n",
       "      <td>Arts visuals</td>\n",
       "      <td>7.0</td>\n",
       "      <td>Barcelona Gallery Weekend</td>\n",
       "      <td>Privada</td>\n",
       "      <td>Mayo</td>\n",
       "      <td>Primavera</td>\n",
       "      <td>13600.0</td>\n",
       "      <td>Gratis</td>\n",
       "    </tr>\n",
       "    <tr>\n",
       "      <th>4</th>\n",
       "      <td>Música</td>\n",
       "      <td>29.0</td>\n",
       "      <td>BAM. Barcelona Acció Musical</td>\n",
       "      <td>Pública</td>\n",
       "      <td>Septiembre</td>\n",
       "      <td>Otoño</td>\n",
       "      <td>11199.0</td>\n",
       "      <td>Gratis</td>\n",
       "    </tr>\n",
       "    <tr>\n",
       "      <th>33</th>\n",
       "      <td>Audiovisuals</td>\n",
       "      <td>28.0</td>\n",
       "      <td>L'Alternativa. Festival de Cinema Independent ...</td>\n",
       "      <td>Privada</td>\n",
       "      <td>Noviembre</td>\n",
       "      <td>Otoño</td>\n",
       "      <td>10500.0</td>\n",
       "      <td>De Pago</td>\n",
       "    </tr>\n",
       "    <tr>\n",
       "      <th>30</th>\n",
       "      <td>Música</td>\n",
       "      <td>NaN</td>\n",
       "      <td>Hivernacle Pop Up Club Barcelona</td>\n",
       "      <td>Privada</td>\n",
       "      <td>Noviembre</td>\n",
       "      <td>Otoño</td>\n",
       "      <td>10130.0</td>\n",
       "      <td>De Pago</td>\n",
       "    </tr>\n",
       "    <tr>\n",
       "      <th>27</th>\n",
       "      <td>Lletres</td>\n",
       "      <td>11.0</td>\n",
       "      <td>Flic. Festival de literatures i arts infantil ...</td>\n",
       "      <td>Privada</td>\n",
       "      <td>Noviembre</td>\n",
       "      <td>Otoño</td>\n",
       "      <td>10000.0</td>\n",
       "      <td>De Pago</td>\n",
       "    </tr>\n",
       "    <tr>\n",
       "      <th>42</th>\n",
       "      <td>Música</td>\n",
       "      <td>NaN</td>\n",
       "      <td>Off Sónar</td>\n",
       "      <td>Privada</td>\n",
       "      <td>Octubre</td>\n",
       "      <td>Otoño</td>\n",
       "      <td>9813.0</td>\n",
       "      <td>De Pago</td>\n",
       "    </tr>\n",
       "    <tr>\n",
       "      <th>23</th>\n",
       "      <td>Arts escèniques</td>\n",
       "      <td>17.0</td>\n",
       "      <td>Festival elPetit</td>\n",
       "      <td>Privada</td>\n",
       "      <td>Noviembre</td>\n",
       "      <td>Otoño</td>\n",
       "      <td>7698.0</td>\n",
       "      <td>De Pago</td>\n",
       "    </tr>\n",
       "    <tr>\n",
       "      <th>40</th>\n",
       "      <td>Audiovisuals</td>\n",
       "      <td>29.0</td>\n",
       "      <td>Mostra Internacional de Films de Dones de Barc...</td>\n",
       "      <td>Privada</td>\n",
       "      <td>Enero</td>\n",
       "      <td>Invierno</td>\n",
       "      <td>7109.0</td>\n",
       "      <td>De Pago</td>\n",
       "    </tr>\n",
       "    <tr>\n",
       "      <th>24</th>\n",
       "      <td>Música</td>\n",
       "      <td>34.0</td>\n",
       "      <td>Festival Folk Internacional Tradicionàrius</td>\n",
       "      <td>Privada</td>\n",
       "      <td>Enero</td>\n",
       "      <td>Invierno</td>\n",
       "      <td>7000.0</td>\n",
       "      <td>De Pago</td>\n",
       "    </tr>\n",
       "    <tr>\n",
       "      <th>35</th>\n",
       "      <td>Música</td>\n",
       "      <td>18.0</td>\n",
       "      <td>Mas i Mas Festival</td>\n",
       "      <td>Privada</td>\n",
       "      <td>Agosto</td>\n",
       "      <td>Verano</td>\n",
       "      <td>6407.0</td>\n",
       "      <td>De Pago</td>\n",
       "    </tr>\n",
       "    <tr>\n",
       "      <th>11</th>\n",
       "      <td>Música</td>\n",
       "      <td>26.0</td>\n",
       "      <td>BarnaSants</td>\n",
       "      <td>Privada</td>\n",
       "      <td>Enero</td>\n",
       "      <td>Invierno</td>\n",
       "      <td>6208.0</td>\n",
       "      <td>De Pago</td>\n",
       "    </tr>\n",
       "    <tr>\n",
       "      <th>1</th>\n",
       "      <td>Audiovisuals</td>\n",
       "      <td>8.0</td>\n",
       "      <td>Americana Film Fest</td>\n",
       "      <td>Privada</td>\n",
       "      <td>Marzo</td>\n",
       "      <td>Invierno</td>\n",
       "      <td>5948.0</td>\n",
       "      <td>De Pago</td>\n",
       "    </tr>\n",
       "    <tr>\n",
       "      <th>31</th>\n",
       "      <td>Multidisciplinaris i altres</td>\n",
       "      <td>11.0</td>\n",
       "      <td>HOP Festival. Festival de Danses Urbanes</td>\n",
       "      <td>Privada</td>\n",
       "      <td>Marzo</td>\n",
       "      <td>Invierno</td>\n",
       "      <td>5199.0</td>\n",
       "      <td>Gratis</td>\n",
       "    </tr>\n",
       "    <tr>\n",
       "      <th>6</th>\n",
       "      <td>Arts visuals</td>\n",
       "      <td>11.0</td>\n",
       "      <td>Barcelona Dibuixa</td>\n",
       "      <td>Pública</td>\n",
       "      <td>Octubre</td>\n",
       "      <td>Otoño</td>\n",
       "      <td>4901.0</td>\n",
       "      <td>Gratis</td>\n",
       "    </tr>\n",
       "    <tr>\n",
       "      <th>10</th>\n",
       "      <td>Lletres</td>\n",
       "      <td>24.0</td>\n",
       "      <td>Barcelona Poesia</td>\n",
       "      <td>Pública</td>\n",
       "      <td>Mayo</td>\n",
       "      <td>Primavera</td>\n",
       "      <td>4884.0</td>\n",
       "      <td>Gratis</td>\n",
       "    </tr>\n",
       "    <tr>\n",
       "      <th>39</th>\n",
       "      <td>Audiovisuals</td>\n",
       "      <td>26.0</td>\n",
       "      <td>Mostra FIRE!! de cinema LGTBI de Barcelona</td>\n",
       "      <td>Privada</td>\n",
       "      <td>Junio</td>\n",
       "      <td>Primavera</td>\n",
       "      <td>4646.0</td>\n",
       "      <td>Gratis</td>\n",
       "    </tr>\n",
       "    <tr>\n",
       "      <th>38</th>\n",
       "      <td>Lletres</td>\n",
       "      <td>16.0</td>\n",
       "      <td>Món Llibre</td>\n",
       "      <td>Pública</td>\n",
       "      <td>Abril</td>\n",
       "      <td>Primavera</td>\n",
       "      <td>3800.0</td>\n",
       "      <td>Gratis</td>\n",
       "    </tr>\n",
       "    <tr>\n",
       "      <th>32</th>\n",
       "      <td>Lletres</td>\n",
       "      <td>12.0</td>\n",
       "      <td>Kosmòpolis</td>\n",
       "      <td>Mixta</td>\n",
       "      <td>Junio</td>\n",
       "      <td>Primavera</td>\n",
       "      <td>3638.0</td>\n",
       "      <td>Mixta</td>\n",
       "    </tr>\n",
       "    <tr>\n",
       "      <th>46</th>\n",
       "      <td>Audiovisuals</td>\n",
       "      <td>28.0</td>\n",
       "      <td>SUNCINE. Festival internacional de cine del me...</td>\n",
       "      <td>Privada</td>\n",
       "      <td>Noviembre</td>\n",
       "      <td>Otoño</td>\n",
       "      <td>3500.0</td>\n",
       "      <td>De Pago</td>\n",
       "    </tr>\n",
       "    <tr>\n",
       "      <th>37</th>\n",
       "      <td>Multidisciplinaris i altres</td>\n",
       "      <td>10.0</td>\n",
       "      <td>MIRA</td>\n",
       "      <td>Privada</td>\n",
       "      <td>Noviembre</td>\n",
       "      <td>Otoño</td>\n",
       "      <td>3100.0</td>\n",
       "      <td>De Pago</td>\n",
       "    </tr>\n",
       "    <tr>\n",
       "      <th>41</th>\n",
       "      <td>Música</td>\n",
       "      <td>12.0</td>\n",
       "      <td>MUTEK Barcelona</td>\n",
       "      <td>Privada</td>\n",
       "      <td>Mayo</td>\n",
       "      <td>Primavera</td>\n",
       "      <td>3000.0</td>\n",
       "      <td>De Pago</td>\n",
       "    </tr>\n",
       "    <tr>\n",
       "      <th>22</th>\n",
       "      <td>Multidisciplinaris i altres</td>\n",
       "      <td>19.0</td>\n",
       "      <td>Festival de Cultura Raval(s)</td>\n",
       "      <td>Privada</td>\n",
       "      <td>Noviembre</td>\n",
       "      <td>Otoño</td>\n",
       "      <td>2700.0</td>\n",
       "      <td>De Pago</td>\n",
       "    </tr>\n",
       "    <tr>\n",
       "      <th>17</th>\n",
       "      <td>Audiovisuals</td>\n",
       "      <td>24.0</td>\n",
       "      <td>DocsBarcelona</td>\n",
       "      <td>Privada</td>\n",
       "      <td>Mayo</td>\n",
       "      <td>Primavera</td>\n",
       "      <td>2318.0</td>\n",
       "      <td>De Pago</td>\n",
       "    </tr>\n",
       "    <tr>\n",
       "      <th>20</th>\n",
       "      <td>Arts escèniques</td>\n",
       "      <td>20.0</td>\n",
       "      <td>Escena Poblenou</td>\n",
       "      <td>Privada</td>\n",
       "      <td>Octubre</td>\n",
       "      <td>Otoño</td>\n",
       "      <td>1000.0</td>\n",
       "      <td>De Pago</td>\n",
       "    </tr>\n",
       "    <tr>\n",
       "      <th>26</th>\n",
       "      <td>Música</td>\n",
       "      <td>31.0</td>\n",
       "      <td>Festival l'Hora del Jazz. Memorial Tete Montoliu</td>\n",
       "      <td>Privada</td>\n",
       "      <td>Septiembre</td>\n",
       "      <td>Verano</td>\n",
       "      <td>780.0</td>\n",
       "      <td>Mixta</td>\n",
       "    </tr>\n",
       "  </tbody>\n",
       "</table>\n",
       "</div>"
      ],
      "text/plain": [
       "                          Ambit  Edicio  \\\n",
       "8   Multidisciplinaris i altres     2.0   \n",
       "34  Multidisciplinaris i altres    10.0   \n",
       "28              Arts escèniques    45.0   \n",
       "3                  Audiovisuals     9.0   \n",
       "36              Arts escèniques    12.0   \n",
       "21                       Música    11.0   \n",
       "29                       Música    32.0   \n",
       "5                  Arts visuals    16.0   \n",
       "43                 Audiovisuals    19.0   \n",
       "25                 Audiovisuals    19.0   \n",
       "13                       Música     4.0   \n",
       "45                       Música    11.0   \n",
       "14  Multidisciplinaris i altres     2.0   \n",
       "44                       Música     3.0   \n",
       "47                       Música    53.0   \n",
       "7   Multidisciplinaris i altres    10.0   \n",
       "2                  Arts visuals     8.0   \n",
       "16              Arts escèniques     4.0   \n",
       "18                 Arts visuals    25.0   \n",
       "12  Multidisciplinaris i altres    24.0   \n",
       "19                 Audiovisuals    14.0   \n",
       "15                 Audiovisuals    11.0   \n",
       "9                  Arts visuals     7.0   \n",
       "4                        Música    29.0   \n",
       "33                 Audiovisuals    28.0   \n",
       "30                       Música     NaN   \n",
       "27                      Lletres    11.0   \n",
       "42                       Música     NaN   \n",
       "23              Arts escèniques    17.0   \n",
       "40                 Audiovisuals    29.0   \n",
       "24                       Música    34.0   \n",
       "35                       Música    18.0   \n",
       "11                       Música    26.0   \n",
       "1                  Audiovisuals     8.0   \n",
       "31  Multidisciplinaris i altres    11.0   \n",
       "6                  Arts visuals    11.0   \n",
       "10                      Lletres    24.0   \n",
       "39                 Audiovisuals    26.0   \n",
       "38                      Lletres    16.0   \n",
       "32                      Lletres    12.0   \n",
       "46                 Audiovisuals    28.0   \n",
       "37  Multidisciplinaris i altres    10.0   \n",
       "41                       Música    12.0   \n",
       "22  Multidisciplinaris i altres    19.0   \n",
       "17                 Audiovisuals    24.0   \n",
       "20              Arts escèniques    20.0   \n",
       "26                       Música    31.0   \n",
       "\n",
       "                                       NomDelFestival Titularidad         Mes  \\\n",
       "8                         Barcelona Festival de Nadal     Pública   Diciembre   \n",
       "34                                           Llum BCN     Pública   Noviembre   \n",
       "28                         Grec Festival de Barcelona     Pública       Junio   \n",
       "3                                 Asian Film Festival     Privada     Octubre   \n",
       "36                          Mercè Arts de Carrer. MAC     Pública  Septiembre   \n",
       "21                                   Festival Cruïlla     Privada       Julio   \n",
       "29                                         Guitar Bcn     Privada       Enero   \n",
       "5                 Barcelona Design Week City Festival     Privada     Octubre   \n",
       "43                                      Sala Montjuïc     Privada       Julio   \n",
       "25                                   Festival In-Edit     Privada     Octubre   \n",
       "13                                 Brunch-in the City     Privada   Noviembre   \n",
       "45                                           SIMFONIC     Privada       Enero   \n",
       "14                                        Cruïlla XXS     Privada       Junio   \n",
       "44                                     Share Festival     Privada       Julio   \n",
       "47            Voll-Damm Festival de Jazz de Barcelona     Privada       Enero   \n",
       "7                        Barcelona Districte Cultural     Pública     Octubre   \n",
       "2                                       Art Photo BCN     Privada       Junio   \n",
       "16                      Dansa. Quinzena Metropolitana     Pública       Marzo   \n",
       "18  Drap-Art. Festival Internacional de Reciclatge...     Privada   Noviembre   \n",
       "12                                      BAUM Festival     Privada     Octubre   \n",
       "19                             El Meu Primer Festival     Privada   Noviembre   \n",
       "15                        D'A Film Festival Barcelona     Privada       Abril   \n",
       "9                           Barcelona Gallery Weekend     Privada        Mayo   \n",
       "4                        BAM. Barcelona Acció Musical     Pública  Septiembre   \n",
       "33  L'Alternativa. Festival de Cinema Independent ...     Privada   Noviembre   \n",
       "30                   Hivernacle Pop Up Club Barcelona     Privada   Noviembre   \n",
       "27  Flic. Festival de literatures i arts infantil ...     Privada   Noviembre   \n",
       "42                                          Off Sónar     Privada     Octubre   \n",
       "23                                   Festival elPetit     Privada   Noviembre   \n",
       "40  Mostra Internacional de Films de Dones de Barc...     Privada       Enero   \n",
       "24         Festival Folk Internacional Tradicionàrius     Privada       Enero   \n",
       "35                                 Mas i Mas Festival     Privada      Agosto   \n",
       "11                                         BarnaSants     Privada       Enero   \n",
       "1                                 Americana Film Fest     Privada       Marzo   \n",
       "31           HOP Festival. Festival de Danses Urbanes     Privada       Marzo   \n",
       "6                                   Barcelona Dibuixa     Pública     Octubre   \n",
       "10                                   Barcelona Poesia     Pública        Mayo   \n",
       "39         Mostra FIRE!! de cinema LGTBI de Barcelona     Privada       Junio   \n",
       "38                                         Món Llibre     Pública       Abril   \n",
       "32                                         Kosmòpolis       Mixta       Junio   \n",
       "46  SUNCINE. Festival internacional de cine del me...     Privada   Noviembre   \n",
       "37                                               MIRA     Privada   Noviembre   \n",
       "41                                    MUTEK Barcelona     Privada        Mayo   \n",
       "22                       Festival de Cultura Raval(s)     Privada   Noviembre   \n",
       "17                                      DocsBarcelona     Privada        Mayo   \n",
       "20                                    Escena Poblenou     Privada     Octubre   \n",
       "26   Festival l'Hora del Jazz. Memorial Tete Montoliu     Privada  Septiembre   \n",
       "\n",
       "     Estacion  Asistentes  Entrada  \n",
       "8       Otoño    221000.0   Gratis  \n",
       "34      Otoño    117200.0   Gratis  \n",
       "28     Verano     98024.0    Mixta  \n",
       "3       Otoño     57867.0  De Pago  \n",
       "36      Otoño     52568.0   Gratis  \n",
       "21     Verano     45630.0  De Pago  \n",
       "29   Invierno     45000.0  De Pago  \n",
       "5       Otoño     34300.0   Gratis  \n",
       "43     Verano     28000.0  De Pago  \n",
       "25      Otoño     24652.0  De Pago  \n",
       "13      Otoño     22600.0  De Pago  \n",
       "45   Invierno     20000.0  De Pago  \n",
       "14  Primavera     19677.0  De Pago  \n",
       "44     Verano     19394.0  De Pago  \n",
       "47   Invierno     18144.0  De Pago  \n",
       "7       Otoño     16751.0   Gratis  \n",
       "2   Primavera     15900.0  De Pago  \n",
       "16   Invierno     15450.0  De Pago  \n",
       "18      Otoño     15000.0  De Pago  \n",
       "12      Otoño     15000.0  De Pago  \n",
       "19      Otoño     14729.0  De Pago  \n",
       "15  Primavera     14643.0  De Pago  \n",
       "9   Primavera     13600.0   Gratis  \n",
       "4       Otoño     11199.0   Gratis  \n",
       "33      Otoño     10500.0  De Pago  \n",
       "30      Otoño     10130.0  De Pago  \n",
       "27      Otoño     10000.0  De Pago  \n",
       "42      Otoño      9813.0  De Pago  \n",
       "23      Otoño      7698.0  De Pago  \n",
       "40   Invierno      7109.0  De Pago  \n",
       "24   Invierno      7000.0  De Pago  \n",
       "35     Verano      6407.0  De Pago  \n",
       "11   Invierno      6208.0  De Pago  \n",
       "1    Invierno      5948.0  De Pago  \n",
       "31   Invierno      5199.0   Gratis  \n",
       "6       Otoño      4901.0   Gratis  \n",
       "10  Primavera      4884.0   Gratis  \n",
       "39  Primavera      4646.0   Gratis  \n",
       "38  Primavera      3800.0   Gratis  \n",
       "32  Primavera      3638.0    Mixta  \n",
       "46      Otoño      3500.0  De Pago  \n",
       "37      Otoño      3100.0  De Pago  \n",
       "41  Primavera      3000.0  De Pago  \n",
       "22      Otoño      2700.0  De Pago  \n",
       "17  Primavera      2318.0  De Pago  \n",
       "20      Otoño      1000.0  De Pago  \n",
       "26     Verano       780.0    Mixta  "
      ]
     },
     "execution_count": 135,
     "metadata": {},
     "output_type": "execute_result"
    }
   ],
   "source": [
    "festivales_bcn_21"
   ]
  }
 ],
 "metadata": {
  "kernelspec": {
   "display_name": "Python 3",
   "language": "python",
   "name": "python3"
  },
  "language_info": {
   "codemirror_mode": {
    "name": "ipython",
    "version": 3
   },
   "file_extension": ".py",
   "mimetype": "text/x-python",
   "name": "python",
   "nbconvert_exporter": "python",
   "pygments_lexer": "ipython3",
   "version": "3.10.11"
  }
 },
 "nbformat": 4,
 "nbformat_minor": 2
}
