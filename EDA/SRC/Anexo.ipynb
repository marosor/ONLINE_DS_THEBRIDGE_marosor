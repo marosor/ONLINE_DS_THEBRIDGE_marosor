{
 "cells": [
  {
   "cell_type": "markdown",
   "metadata": {},
   "source": [
    "# Anexo"
   ]
  },
  {
   "cell_type": "markdown",
   "metadata": {},
   "source": []
  },
  {
   "cell_type": "code",
   "execution_count": 38,
   "metadata": {},
   "outputs": [],
   "source": [
    "import pandas as pd\n",
    "import numpy as np\n",
    "import matplotlib.pyplot as plt\n",
    "import seaborn as sns"
   ]
  },
  {
   "cell_type": "code",
   "execution_count": 39,
   "metadata": {},
   "outputs": [],
   "source": [
    "festivales_bcn_18 = pd.read_pickle(\"./data/festivales_bcn_18_procesado.pkl\")\n",
    "festivales_bcn_19 = pd.read_pickle(\"./data/festivales_bcn_19_procesado.pkl\")\n",
    "festivales_bcn_20 = pd.read_pickle(\"./data/festivales_bcn_20_procesado.pkl\")\n",
    "festivales_bcn_21 = pd.read_pickle(\"./data/festivales_bcn_21_procesado.pkl\")\n",
    "festivales_bcn_22 = pd.read_pickle(\"./data/festivales_bcn_22_procesado.pkl\")\n",
    "festivales_bcn_17 = pd.read_pickle(\"./data/festivales_bcn_17_procesado.pkl\")\n",
    "festivales_bcn_16 = pd.read_pickle(\"./data/festivales_bcn_16_procesado.pkl\")\n",
    "festivales_bcn_15 = pd.read_pickle(\"./data/festivales_bcn_15_procesado.pkl\")\n",
    "festivales_bcn_14 = pd.read_pickle(\"./data/festivales_bcn_14_procesado.pkl\")\n",
    "festivales_bcn_13 = pd.read_pickle(\"./data/festivales_bcn_13_procesado.pkl\")"
   ]
  },
  {
   "cell_type": "markdown",
   "metadata": {},
   "source": [
    "### Los Top por año"
   ]
  },
  {
   "cell_type": "markdown",
   "metadata": {},
   "source": [
    "2013"
   ]
  },
  {
   "cell_type": "code",
   "execution_count": 40,
   "metadata": {},
   "outputs": [
    {
     "name": "stdout",
     "output_type": "stream",
     "text": [
      "De Pago: 6 - 60.00%\n",
      "Gratis: 2 - 20.00%\n",
      "Mixta: 2 - 20.00%\n"
     ]
    }
   ],
   "source": [
    "festivales_bcn_13 = festivales_bcn_13.sort_values('Asistentes', ascending=False)\n",
    "primeros_10 = festivales_bcn_13.head(10)  \n",
    "tipo_entradas_top_festivales = primeros_10['Entrada'].value_counts()\n",
    "\n",
    "porcentaje_tipo_entradas_primeros_10 = tipo_entradas_top_festivales / tipo_entradas_top_festivales.sum() * 100\n",
    "\n",
    "for entrada, count in tipo_entradas_top_festivales.items():\n",
    "    porcentaje = porcentaje_tipo_entradas_primeros_10[entrada]\n",
    "    print(f\"{entrada}: {count} - {porcentaje:.2f}%\")"
   ]
  },
  {
   "cell_type": "code",
   "execution_count": 41,
   "metadata": {},
   "outputs": [
    {
     "name": "stdout",
     "output_type": "stream",
     "text": [
      "                                                  Nombre del Festival                       Ámbito  Asistentes\n",
      "1                                                     Primavera Sound                       Música    171190.0\n",
      "2                                           Mercè Arts de Carrer. MAC              Arts escèniques    169694.0\n",
      "3                                                       Loop Festival                 Arts visuals    135000.0\n",
      "4   Sónar. Festival Internacional de Música Avançada i Art Multimèdia                       Música    121594.0\n",
      "5                                        BAM. Barcelona Acció Musical                       Música    111290.0\n",
      "6                                          Grec Festival de Barcelona              Arts escèniques     66585.0\n",
      "7                                 FADfest. The festival of all design  Multidisciplinaris i altres     57785.0\n",
      "8                                                  Mas i Mas Festival                       Música     37339.0\n",
      "9                                                       Sala Montjuïc                 Audiovisuals     34266.0\n",
      "10                                                   Festival Cruïlla                       Música     31000.0\n"
     ]
    }
   ],
   "source": [
    "primeros_10 = festivales_bcn_13[['NomDelFestival', 'Ambit', 'Asistentes']].head(10)\n",
    "primeros_10 = festivales_bcn_13[['NomDelFestival', 'Ambit', 'Asistentes']].head(10)\n",
    "primeros_10.reset_index(drop=True, inplace=True)\n",
    "primeros_10.index += 1\n",
    "primeros_10.columns = ['Nombre del Festival', 'Ámbito', 'Asistentes']\n",
    "print(primeros_10.to_string())"
   ]
  },
  {
   "cell_type": "code",
   "execution_count": 42,
   "metadata": {},
   "outputs": [
    {
     "name": "stdout",
     "output_type": "stream",
     "text": [
      "Música: 5 - 50.00%\n",
      "Arts escèniques: 2 - 20.00%\n",
      "Arts visuals: 1 - 10.00%\n",
      "Multidisciplinaris i altres: 1 - 10.00%\n",
      "Audiovisuals: 1 - 10.00%\n"
     ]
    }
   ],
   "source": [
    "festivales_bcn_13 = festivales_bcn_13.sort_values('Asistentes', ascending=False)\n",
    "primeros_10 = festivales_bcn_13.head(10)  \n",
    "tipo_entradas_top_festivales = primeros_10['Ambit'].value_counts()\n",
    "\n",
    "porcentaje_tipo_entradas_primeros_10 = tipo_entradas_top_festivales / tipo_entradas_top_festivales.sum() * 100\n",
    "\n",
    "for entrada, count in tipo_entradas_top_festivales.items():\n",
    "    porcentaje = porcentaje_tipo_entradas_primeros_10[entrada]\n",
    "    print(f\"{entrada}: {count} - {porcentaje:.2f}%\")"
   ]
  },
  {
   "cell_type": "markdown",
   "metadata": {},
   "source": [
    "2014"
   ]
  },
  {
   "cell_type": "code",
   "execution_count": 43,
   "metadata": {},
   "outputs": [
    {
     "name": "stdout",
     "output_type": "stream",
     "text": [
      "De Pago: 6 - 60.00%\n",
      "Gratis: 2 - 20.00%\n",
      "Mixta: 2 - 20.00%\n"
     ]
    }
   ],
   "source": [
    "festivales_bcn_14 = festivales_bcn_14.sort_values('Asistentes', ascending=False)\n",
    "primeros_10 = festivales_bcn_14.head(10)  \n",
    "tipo_entradas_top_festivales = primeros_10['Entrada'].value_counts()\n",
    "\n",
    "porcentaje_tipo_entradas_primeros_10 = tipo_entradas_top_festivales / tipo_entradas_top_festivales.sum() * 100\n",
    "\n",
    "for entrada, count in tipo_entradas_top_festivales.items():\n",
    "    porcentaje = porcentaje_tipo_entradas_primeros_10[entrada]\n",
    "    print(f\"{entrada}: {count} - {porcentaje:.2f}%\")"
   ]
  },
  {
   "cell_type": "code",
   "execution_count": 44,
   "metadata": {},
   "outputs": [
    {
     "name": "stdout",
     "output_type": "stream",
     "text": [
      "                                                  Nombre del Festival                       Ámbito  Asistentes\n",
      "1                                           Mercè Arts de Carrer. MAC              Arts escèniques    224078.0\n",
      "2                                                     Primavera Sound                       Música    190000.0\n",
      "3   Sónar. Festival Internacional de Música Avançada i Art Multimèdia                       Música    111980.0\n",
      "4                                                       Loop Festival                 Arts visuals    110000.0\n",
      "5                                        BAM. Barcelona Acció Musical                       Música     99179.0\n",
      "6                                          Grec Festival de Barcelona              Arts escèniques     80635.0\n",
      "7                                                    Festival Cruïlla                       Música     41000.0\n",
      "8                                 FADfest. The festival of all design  Multidisciplinaris i altres     39202.0\n",
      "9                                                          Guitar Bcn                       Música     31087.0\n",
      "10                                                 Mas i Mas Festival                       Música     31000.0\n"
     ]
    }
   ],
   "source": [
    "primeros_10 = festivales_bcn_14[['NomDelFestival', 'Ambit', 'Asistentes']].head(10)\n",
    "primeros_10.reset_index(drop=True, inplace=True)\n",
    "primeros_10.index += 1\n",
    "primeros_10.columns = ['Nombre del Festival', 'Ámbito', 'Asistentes']\n",
    "print(primeros_10.to_string())"
   ]
  },
  {
   "cell_type": "code",
   "execution_count": 45,
   "metadata": {},
   "outputs": [
    {
     "name": "stdout",
     "output_type": "stream",
     "text": [
      "Música: 6 - 60.00%\n",
      "Arts escèniques: 2 - 20.00%\n",
      "Arts visuals: 1 - 10.00%\n",
      "Multidisciplinaris i altres: 1 - 10.00%\n"
     ]
    }
   ],
   "source": [
    "festivales_bcn_14 = festivales_bcn_14.sort_values('Asistentes', ascending=False)\n",
    "primeros_10 = festivales_bcn_14.head(10)  \n",
    "tipo_entradas_top_festivales = primeros_10['Ambit'].value_counts()\n",
    "\n",
    "porcentaje_tipo_entradas_primeros_10 = tipo_entradas_top_festivales / tipo_entradas_top_festivales.sum() * 100\n",
    "\n",
    "for entrada, count in tipo_entradas_top_festivales.items():\n",
    "    porcentaje = porcentaje_tipo_entradas_primeros_10[entrada]\n",
    "    print(f\"{entrada}: {count} - {porcentaje:.2f}%\")"
   ]
  },
  {
   "cell_type": "markdown",
   "metadata": {},
   "source": [
    "2015"
   ]
  },
  {
   "cell_type": "code",
   "execution_count": 46,
   "metadata": {},
   "outputs": [
    {
     "name": "stdout",
     "output_type": "stream",
     "text": [
      "De Pago: 7 - 70.00%\n",
      "Gratis: 2 - 20.00%\n",
      "Mixta: 1 - 10.00%\n"
     ]
    }
   ],
   "source": [
    "festivales_bcn_15 = festivales_bcn_15.sort_values('Asistentes', ascending=False)\n",
    "primeros_10 = festivales_bcn_15.head(10)  \n",
    "tipo_entradas_top_festivales = primeros_10['Entrada'].value_counts()\n",
    "\n",
    "porcentaje_tipo_entradas_primeros_10 = tipo_entradas_top_festivales / tipo_entradas_top_festivales.sum() * 100\n",
    "\n",
    "for entrada, count in tipo_entradas_top_festivales.items():\n",
    "    porcentaje = porcentaje_tipo_entradas_primeros_10[entrada]\n",
    "    print(f\"{entrada}: {count} - {porcentaje:.2f}%\")"
   ]
  },
  {
   "cell_type": "code",
   "execution_count": 47,
   "metadata": {},
   "outputs": [
    {
     "name": "stdout",
     "output_type": "stream",
     "text": [
      "                                                  Nombre del Festival                       Ámbito  Asistentes\n",
      "1                                           Mercè Arts de Carrer. MAC              Arts escèniques    484805.0\n",
      "2                                                     Primavera Sound                       Música    195000.0\n",
      "3                                                       Loop Festival                 Arts visuals    135000.0\n",
      "4   Sónar. Festival Internacional de Música Avançada i Art Multimèdia                       Música    118473.0\n",
      "5                                          Grec Festival de Barcelona              Arts escèniques     88556.0\n",
      "6                                        BAM. Barcelona Acció Musical                       Música     76750.0\n",
      "7                                                    Festival Cruïlla                       Música     46000.0\n",
      "8                             Voll-Damm Festival de Jazz de Barcelona                       Música     35822.0\n",
      "9                                                   Brunch Electronik  Multidisciplinaris i altres     35000.0\n",
      "10                                                 Mas i Mas Festival                       Música     34800.0\n"
     ]
    }
   ],
   "source": [
    "primeros_10 = festivales_bcn_15[['NomDelFestival', 'Ambit', 'Asistentes']].head(10)\n",
    "primeros_10.reset_index(drop=True, inplace=True)\n",
    "primeros_10.index += 1\n",
    "primeros_10.columns = ['Nombre del Festival', 'Ámbito', 'Asistentes']\n",
    "print(primeros_10.to_string())"
   ]
  },
  {
   "cell_type": "code",
   "execution_count": 48,
   "metadata": {},
   "outputs": [
    {
     "name": "stdout",
     "output_type": "stream",
     "text": [
      "Música: 6 - 60.00%\n",
      "Arts escèniques: 2 - 20.00%\n",
      "Arts visuals: 1 - 10.00%\n",
      "Multidisciplinaris i altres: 1 - 10.00%\n"
     ]
    }
   ],
   "source": [
    "festivales_bcn_15 = festivales_bcn_15.sort_values('Asistentes', ascending=False)\n",
    "primeros_10 = festivales_bcn_15.head(10)  \n",
    "tipo_entradas_top_festivales = primeros_10['Ambit'].value_counts()\n",
    "\n",
    "porcentaje_tipo_entradas_primeros_10 = tipo_entradas_top_festivales / tipo_entradas_top_festivales.sum() * 100\n",
    "\n",
    "for entrada, count in tipo_entradas_top_festivales.items():\n",
    "    porcentaje = porcentaje_tipo_entradas_primeros_10[entrada]\n",
    "    print(f\"{entrada}: {count} - {porcentaje:.2f}%\")"
   ]
  },
  {
   "cell_type": "markdown",
   "metadata": {},
   "source": [
    "2016"
   ]
  },
  {
   "cell_type": "code",
   "execution_count": 49,
   "metadata": {},
   "outputs": [
    {
     "name": "stdout",
     "output_type": "stream",
     "text": [
      "De Pago: 7 - 70.00%\n",
      "Gratis: 2 - 20.00%\n",
      "Mixta: 1 - 10.00%\n"
     ]
    }
   ],
   "source": [
    "festivales_bcn_16 = festivales_bcn_16.sort_values('Asistentes', ascending=False)\n",
    "primeros_10 = festivales_bcn_16.head(10)  \n",
    "tipo_entradas_top_festivales = primeros_10['Entrada'].value_counts()\n",
    "\n",
    "porcentaje_tipo_entradas_primeros_10 = tipo_entradas_top_festivales / tipo_entradas_top_festivales.sum() * 100\n",
    "\n",
    "for entrada, count in tipo_entradas_top_festivales.items():\n",
    "    porcentaje = porcentaje_tipo_entradas_primeros_10[entrada]\n",
    "    print(f\"{entrada}: {count} - {porcentaje:.2f}%\")"
   ]
  },
  {
   "cell_type": "code",
   "execution_count": 50,
   "metadata": {},
   "outputs": [
    {
     "name": "stdout",
     "output_type": "stream",
     "text": [
      "                                                  Nombre del Festival           Ámbito  Asistentes\n",
      "1                                           Mercè Arts de Carrer. MAC  Arts escèniques    228946.0\n",
      "2                                                     Primavera Sound           Música    207435.0\n",
      "3                         DOCfield. Festival de Fotografia Documental     Arts visuals    141143.0\n",
      "4   Sónar. Festival Internacional de Música Avançada i Art Multimèdia           Música    115500.0\n",
      "5                                                       Loop Festival     Arts visuals    110000.0\n",
      "6                                          Grec Festival de Barcelona  Arts escèniques    102555.0\n",
      "7                                        BAM. Barcelona Acció Musical           Música     56950.0\n",
      "8                                                          Guitar Bcn           Música     50073.0\n",
      "9                                                    Festival Cruïlla           Música     47000.0\n",
      "10                                             Festival del Mil·lenni           Música     42988.0\n"
     ]
    }
   ],
   "source": [
    "primeros_10 = festivales_bcn_16[['NomDelFestival', 'Ambit', 'Asistentes']].head(10)\n",
    "primeros_10.reset_index(drop=True, inplace=True)\n",
    "primeros_10.index += 1\n",
    "primeros_10.columns = ['Nombre del Festival', 'Ámbito', 'Asistentes']\n",
    "print(primeros_10.to_string())"
   ]
  },
  {
   "cell_type": "code",
   "execution_count": 51,
   "metadata": {},
   "outputs": [
    {
     "name": "stdout",
     "output_type": "stream",
     "text": [
      "Música: 6 - 60.00%\n",
      "Arts escèniques: 2 - 20.00%\n",
      "Arts visuals: 2 - 20.00%\n"
     ]
    }
   ],
   "source": [
    "festivales_bcn_16 = festivales_bcn_16.sort_values('Asistentes', ascending=False)\n",
    "primeros_10 = festivales_bcn_16.head(10)  \n",
    "tipo_entradas_top_festivales = primeros_10['Ambit'].value_counts()\n",
    "\n",
    "porcentaje_tipo_entradas_primeros_10 = tipo_entradas_top_festivales / tipo_entradas_top_festivales.sum() * 100\n",
    "\n",
    "for entrada, count in tipo_entradas_top_festivales.items():\n",
    "    porcentaje = porcentaje_tipo_entradas_primeros_10[entrada]\n",
    "    print(f\"{entrada}: {count} - {porcentaje:.2f}%\")"
   ]
  },
  {
   "cell_type": "markdown",
   "metadata": {},
   "source": [
    "2017"
   ]
  },
  {
   "cell_type": "code",
   "execution_count": 52,
   "metadata": {},
   "outputs": [
    {
     "name": "stdout",
     "output_type": "stream",
     "text": [
      "De Pago: 7 - 70.00%\n",
      "Gratis: 2 - 20.00%\n",
      "Mixta: 1 - 10.00%\n"
     ]
    }
   ],
   "source": [
    "festivales_bcn_17 = festivales_bcn_17.sort_values('Asistentes', ascending=False)\n",
    "primeros_10 = festivales_bcn_17.head(10)  \n",
    "tipo_entradas_top_festivales = primeros_10['Entrada'].value_counts()\n",
    "\n",
    "porcentaje_tipo_entradas_primeros_10 = tipo_entradas_top_festivales / tipo_entradas_top_festivales.sum() * 100\n",
    "\n",
    "for entrada, count in tipo_entradas_top_festivales.items():\n",
    "    porcentaje = porcentaje_tipo_entradas_primeros_10[entrada]\n",
    "    print(f\"{entrada}: {count} - {porcentaje:.2f}%\")"
   ]
  },
  {
   "cell_type": "code",
   "execution_count": 53,
   "metadata": {},
   "outputs": [
    {
     "name": "stdout",
     "output_type": "stream",
     "text": [
      "                                                  Nombre del Festival           Ámbito  Asistentes\n",
      "1                                           Mercè Arts de Carrer. MAC  Arts escèniques    333523.0\n",
      "2                                                     Primavera Sound           Música    208400.0\n",
      "3                                                  Brunch-in the City           Música    147881.0\n",
      "4                         DOCfield. Festival de Fotografia Documental     Arts visuals    142000.0\n",
      "5                             Voll-Damm Festival de Jazz de Barcelona           Música    127836.0\n",
      "6   Sónar. Festival Internacional de Música Avançada i Art Multimèdia           Música    123980.0\n",
      "7                                                       Loop Festival     Arts visuals    119120.0\n",
      "8                                          Grec Festival de Barcelona  Arts escèniques    113541.0\n",
      "9                                        BAM. Barcelona Acció Musical           Música     70990.0\n",
      "10                                                   Festival Cruïlla           Música     57000.0\n"
     ]
    }
   ],
   "source": [
    "primeros_10 = festivales_bcn_17[['NomDelFestival', 'Ambit', 'Asistentes']].head(10)\n",
    "primeros_10.reset_index(drop=True, inplace=True)\n",
    "primeros_10.index += 1\n",
    "primeros_10.columns = ['Nombre del Festival', 'Ámbito', 'Asistentes']\n",
    "print(primeros_10.to_string())"
   ]
  },
  {
   "cell_type": "code",
   "execution_count": 54,
   "metadata": {},
   "outputs": [
    {
     "name": "stdout",
     "output_type": "stream",
     "text": [
      "Música: 6 - 60.00%\n",
      "Arts escèniques: 2 - 20.00%\n",
      "Arts visuals: 2 - 20.00%\n"
     ]
    }
   ],
   "source": [
    "festivales_bcn_17 = festivales_bcn_17.sort_values('Asistentes', ascending=False)\n",
    "primeros_10 = festivales_bcn_17.head(10)  \n",
    "tipo_entradas_top_festivales = primeros_10['Ambit'].value_counts()\n",
    "\n",
    "porcentaje_tipo_entradas_primeros_10 = tipo_entradas_top_festivales / tipo_entradas_top_festivales.sum() * 100\n",
    "\n",
    "for entrada, count in tipo_entradas_top_festivales.items():\n",
    "    porcentaje = porcentaje_tipo_entradas_primeros_10[entrada]\n",
    "    print(f\"{entrada}: {count} - {porcentaje:.2f}%\")"
   ]
  },
  {
   "cell_type": "markdown",
   "metadata": {},
   "source": [
    "2018"
   ]
  },
  {
   "cell_type": "code",
   "execution_count": 55,
   "metadata": {},
   "outputs": [
    {
     "name": "stdout",
     "output_type": "stream",
     "text": [
      "De Pago: 6 - 60.00%\n",
      "Gratis: 3 - 30.00%\n",
      "Mixta: 1 - 10.00%\n"
     ]
    }
   ],
   "source": [
    "festivales_bcn_18 = festivales_bcn_18.sort_values('Asistentes', ascending=False)\n",
    "primeros_10 = festivales_bcn_18.head(10)  \n",
    "tipo_entradas_top_festivales = primeros_10['Entrada'].value_counts()\n",
    "\n",
    "porcentaje_tipo_entradas_primeros_10 = tipo_entradas_top_festivales / tipo_entradas_top_festivales.sum() * 100\n",
    "\n",
    "for entrada, count in tipo_entradas_top_festivales.items():\n",
    "    porcentaje = porcentaje_tipo_entradas_primeros_10[entrada]\n",
    "    print(f\"{entrada}: {count} - {porcentaje:.2f}%\")"
   ]
  },
  {
   "cell_type": "code",
   "execution_count": 56,
   "metadata": {},
   "outputs": [
    {
     "name": "stdout",
     "output_type": "stream",
     "text": [
      "                                                  Nombre del Festival                       Ámbito  Asistentes\n",
      "1                                           Mercè Arts de Carrer. MAC              Arts escèniques    290522.0\n",
      "2                                                     Primavera Sound                       Música    220000.0\n",
      "3                                                            Llum BCN  Multidisciplinaris i altres    170000.0\n",
      "4                             Voll-Damm Festival de Jazz de Barcelona                       Música    144000.0\n",
      "5                                                  Brunch-in the City                       Música    135000.0\n",
      "6   Sónar. Festival Internacional de Música Avançada i Art Multimèdia                       Música    126586.0\n",
      "7                                                       Loop Festival                 Arts visuals    120000.0\n",
      "8                         DOCfield. Festival de Fotografia Documental                 Arts visuals    120000.0\n",
      "9                                          Grec Festival de Barcelona              Arts escèniques    109868.0\n",
      "10                                       BAM. Barcelona Acció Musical                       Música     79438.0\n"
     ]
    }
   ],
   "source": [
    "primeros_10 = festivales_bcn_18[['NomDelFestival', 'Ambit', 'Asistentes']].head(10)\n",
    "primeros_10.reset_index(drop=True, inplace=True)\n",
    "primeros_10.index += 1\n",
    "primeros_10.columns = ['Nombre del Festival', 'Ámbito', 'Asistentes']\n",
    "print(primeros_10.to_string())"
   ]
  },
  {
   "cell_type": "code",
   "execution_count": 57,
   "metadata": {},
   "outputs": [
    {
     "name": "stdout",
     "output_type": "stream",
     "text": [
      "Música: 5 - 50.00%\n",
      "Arts escèniques: 2 - 20.00%\n",
      "Arts visuals: 2 - 20.00%\n",
      "Multidisciplinaris i altres: 1 - 10.00%\n"
     ]
    }
   ],
   "source": [
    "festivales_bcn_18 = festivales_bcn_18.sort_values('Asistentes', ascending=False)\n",
    "primeros_10 = festivales_bcn_18.head(10)  \n",
    "tipo_entradas_top_festivales = primeros_10['Ambit'].value_counts()\n",
    "\n",
    "porcentaje_tipo_entradas_primeros_10 = tipo_entradas_top_festivales / tipo_entradas_top_festivales.sum() * 100\n",
    "\n",
    "for entrada, count in tipo_entradas_top_festivales.items():\n",
    "    porcentaje = porcentaje_tipo_entradas_primeros_10[entrada]\n",
    "    print(f\"{entrada}: {count} - {porcentaje:.2f}%\")"
   ]
  },
  {
   "cell_type": "markdown",
   "metadata": {},
   "source": [
    "2019"
   ]
  },
  {
   "cell_type": "code",
   "execution_count": 58,
   "metadata": {},
   "outputs": [
    {
     "name": "stdout",
     "output_type": "stream",
     "text": [
      "De Pago: 5 - 50.00%\n",
      "Gratis: 4 - 40.00%\n",
      "Mixta: 1 - 10.00%\n"
     ]
    }
   ],
   "source": [
    "festivales_bcn_19 = festivales_bcn_19.sort_values('Asistentes', ascending=False)\n",
    "primeros_10 = festivales_bcn_19.head(10)  \n",
    "tipo_entradas_top_festivales = primeros_10['Entrada'].value_counts()\n",
    "\n",
    "porcentaje_tipo_entradas_primeros_10 = tipo_entradas_top_festivales / tipo_entradas_top_festivales.sum() * 100\n",
    "\n",
    "for entrada, count in tipo_entradas_top_festivales.items():\n",
    "    porcentaje = porcentaje_tipo_entradas_primeros_10[entrada]\n",
    "    print(f\"{entrada}: {count} - {porcentaje:.2f}%\")"
   ]
  },
  {
   "cell_type": "code",
   "execution_count": 59,
   "metadata": {},
   "outputs": [
    {
     "name": "stdout",
     "output_type": "stream",
     "text": [
      "                                                  Nombre del Festival                       Ámbito  Asistentes\n",
      "1                                           Mercè Arts de Carrer. MAC              Arts escèniques    273262.0\n",
      "2                                                     Primavera Sound                       Música    220000.0\n",
      "3                                                            Llum BCN  Multidisciplinaris i altres    190000.0\n",
      "4                                                  Brunch-in the City                       Música    145500.0\n",
      "5                                          Grec Festival de Barcelona              Arts escèniques    125140.0\n",
      "6                                                       Loop Festival                 Arts visuals    110000.0\n",
      "7   Sónar. Festival Internacional de Música Avançada i Art Multimèdia                       Música    105000.0\n",
      "8                                        BAM. Barcelona Acció Musical                       Música     94150.0\n",
      "9                                       Festival Jardins de Pedralbes                       Música     71441.0\n",
      "10                                Barcelona Design Week City Festival                 Arts visuals     67000.0\n"
     ]
    }
   ],
   "source": [
    "primeros_10 = festivales_bcn_19[['NomDelFestival', 'Ambit', 'Asistentes']].head(10)\n",
    "primeros_10.reset_index(drop=True, inplace=True)\n",
    "primeros_10.index += 1\n",
    "primeros_10.columns = ['Nombre del Festival', 'Ámbito', 'Asistentes']\n",
    "print(primeros_10.to_string())"
   ]
  },
  {
   "cell_type": "code",
   "execution_count": 60,
   "metadata": {},
   "outputs": [
    {
     "name": "stdout",
     "output_type": "stream",
     "text": [
      "Música: 5 - 50.00%\n",
      "Arts escèniques: 2 - 20.00%\n",
      "Arts visuals: 2 - 20.00%\n",
      "Multidisciplinaris i altres: 1 - 10.00%\n"
     ]
    }
   ],
   "source": [
    "festivales_bcn_19 = festivales_bcn_19.sort_values('Asistentes', ascending=False)\n",
    "primeros_10 = festivales_bcn_19.head(10)  \n",
    "tipo_entradas_top_festivales = primeros_10['Ambit'].value_counts()\n",
    "\n",
    "porcentaje_tipo_entradas_primeros_10 = tipo_entradas_top_festivales / tipo_entradas_top_festivales.sum() * 100\n",
    "\n",
    "for entrada, count in tipo_entradas_top_festivales.items():\n",
    "    porcentaje = porcentaje_tipo_entradas_primeros_10[entrada]\n",
    "    print(f\"{entrada}: {count} - {porcentaje:.2f}%\")"
   ]
  },
  {
   "cell_type": "markdown",
   "metadata": {},
   "source": [
    "2020"
   ]
  },
  {
   "cell_type": "code",
   "execution_count": 61,
   "metadata": {},
   "outputs": [
    {
     "name": "stdout",
     "output_type": "stream",
     "text": [
      "De Pago: 5 - 50.00%\n",
      "Gratis: 4 - 40.00%\n",
      "Mixta: 1 - 10.00%\n"
     ]
    }
   ],
   "source": [
    "festivales_bcn_20 = festivales_bcn_20.sort_values('Asistentes', ascending=False)\n",
    "primeros_10 = festivales_bcn_20.head(10)  \n",
    "tipo_entradas_top_festivales = primeros_10['Entrada'].value_counts()\n",
    "\n",
    "porcentaje_tipo_entradas_primeros_10 = tipo_entradas_top_festivales / tipo_entradas_top_festivales.sum() * 100\n",
    "\n",
    "for entrada, count in tipo_entradas_top_festivales.items():\n",
    "    porcentaje = porcentaje_tipo_entradas_primeros_10[entrada]\n",
    "    print(f\"{entrada}: {count} - {porcentaje:.2f}%\")"
   ]
  },
  {
   "cell_type": "code",
   "execution_count": 62,
   "metadata": {},
   "outputs": [
    {
     "name": "stdout",
     "output_type": "stream",
     "text": [
      "                        Nombre del Festival                       Ámbito  Asistentes\n",
      "1                                  Llum BCN  Multidisciplinaris i altres    200000.0\n",
      "2                               Cruïlla XXS  Multidisciplinaris i altres     39156.0\n",
      "3                                Guitar Bcn                       Música     35888.0\n",
      "4                 Mercè Arts de Carrer. MAC              Arts escèniques     28972.0\n",
      "5                Grec Festival de Barcelona              Arts escèniques     23572.0\n",
      "6             Festival Jardins de Pedralbes                       Música     20168.0\n",
      "7               Barcelona Festival de Nadal  Multidisciplinaris i altres     18000.0\n",
      "8              Barcelona Districte Cultural  Multidisciplinaris i altres     13371.0\n",
      "9   Voll-Damm Festival de Jazz de Barcelona                       Música     12423.0\n",
      "10                          MUTEK Barcelona                       Música      7800.0\n"
     ]
    }
   ],
   "source": [
    "primeros_10 = festivales_bcn_20[['NomDelFestival', 'Ambit', 'Asistentes']].head(10)\n",
    "primeros_10.reset_index(drop=True, inplace=True)\n",
    "primeros_10.index += 1\n",
    "primeros_10.columns = ['Nombre del Festival', 'Ámbito', 'Asistentes']\n",
    "print(primeros_10.to_string())"
   ]
  },
  {
   "cell_type": "code",
   "execution_count": 63,
   "metadata": {},
   "outputs": [
    {
     "name": "stdout",
     "output_type": "stream",
     "text": [
      "Multidisciplinaris i altres: 4 - 40.00%\n",
      "Música: 4 - 40.00%\n",
      "Arts escèniques: 2 - 20.00%\n"
     ]
    }
   ],
   "source": [
    "festivales_bcn_2 = festivales_bcn_20.sort_values('Asistentes', ascending=False)\n",
    "primeros_10 = festivales_bcn_20.head(10)  \n",
    "tipo_entradas_top_festivales = primeros_10['Ambit'].value_counts()\n",
    "\n",
    "porcentaje_tipo_entradas_primeros_10 = tipo_entradas_top_festivales / tipo_entradas_top_festivales.sum() * 100\n",
    "\n",
    "for entrada, count in tipo_entradas_top_festivales.items():\n",
    "    porcentaje = porcentaje_tipo_entradas_primeros_10[entrada]\n",
    "    print(f\"{entrada}: {count} - {porcentaje:.2f}%\")"
   ]
  },
  {
   "cell_type": "markdown",
   "metadata": {},
   "source": [
    "2021"
   ]
  },
  {
   "cell_type": "code",
   "execution_count": 64,
   "metadata": {},
   "outputs": [
    {
     "name": "stdout",
     "output_type": "stream",
     "text": [
      "De Pago: 5 - 50.00%\n",
      "Gratis: 4 - 40.00%\n",
      "Mixta: 1 - 10.00%\n"
     ]
    }
   ],
   "source": [
    "festivales_bcn_21 = festivales_bcn_21.sort_values('Asistentes', ascending=False)\n",
    "primeros_10 = festivales_bcn_21.head(10)  \n",
    "tipo_entradas_top_festivales = primeros_10['Entrada'].value_counts()\n",
    "\n",
    "porcentaje_tipo_entradas_primeros_10 = tipo_entradas_top_festivales / tipo_entradas_top_festivales.sum() * 100\n",
    "\n",
    "for entrada, count in tipo_entradas_top_festivales.items():\n",
    "    porcentaje = porcentaje_tipo_entradas_primeros_10[entrada]\n",
    "    print(f\"{entrada}: {count} - {porcentaje:.2f}%\")"
   ]
  },
  {
   "cell_type": "code",
   "execution_count": 65,
   "metadata": {},
   "outputs": [
    {
     "name": "stdout",
     "output_type": "stream",
     "text": [
      "                    Nombre del Festival                       Ámbito  Asistentes\n",
      "1           Barcelona Festival de Nadal  Multidisciplinaris i altres    221000.0\n",
      "2                              Llum BCN  Multidisciplinaris i altres    117200.0\n",
      "3            Grec Festival de Barcelona              Arts escèniques     98024.0\n",
      "4                   Asian Film Festival                 Audiovisuals     57867.0\n",
      "5             Mercè Arts de Carrer. MAC              Arts escèniques     52568.0\n",
      "6                      Festival Cruïlla                       Música     45630.0\n",
      "7                            Guitar Bcn                       Música     45000.0\n",
      "8   Barcelona Design Week City Festival                 Arts visuals     34300.0\n",
      "9                         Sala Montjuïc                 Audiovisuals     28000.0\n",
      "10                     Festival In-Edit                 Audiovisuals     24652.0\n"
     ]
    }
   ],
   "source": [
    "primeros_10 = festivales_bcn_21[['NomDelFestival', 'Ambit', 'Asistentes']].head(10)\n",
    "primeros_10.reset_index(drop=True, inplace=True)\n",
    "primeros_10.index += 1\n",
    "primeros_10.columns = ['Nombre del Festival', 'Ámbito', 'Asistentes']\n",
    "print(primeros_10.to_string())"
   ]
  },
  {
   "cell_type": "code",
   "execution_count": 66,
   "metadata": {},
   "outputs": [
    {
     "name": "stdout",
     "output_type": "stream",
     "text": [
      "Audiovisuals: 3 - 30.00%\n",
      "Multidisciplinaris i altres: 2 - 20.00%\n",
      "Arts escèniques: 2 - 20.00%\n",
      "Música: 2 - 20.00%\n",
      "Arts visuals: 1 - 10.00%\n"
     ]
    }
   ],
   "source": [
    "festivales_bcn_21 = festivales_bcn_21.sort_values('Asistentes', ascending=False)\n",
    "primeros_10 = festivales_bcn_21.head(10)  \n",
    "tipo_entradas_top_festivales = primeros_10['Ambit'].value_counts()\n",
    "\n",
    "porcentaje_tipo_entradas_primeros_10 = tipo_entradas_top_festivales / tipo_entradas_top_festivales.sum() * 100\n",
    "\n",
    "for entrada, count in tipo_entradas_top_festivales.items():\n",
    "    porcentaje = porcentaje_tipo_entradas_primeros_10[entrada]\n",
    "    print(f\"{entrada}: {count} - {porcentaje:.2f}%\")"
   ]
  },
  {
   "cell_type": "markdown",
   "metadata": {},
   "source": [
    "2022"
   ]
  },
  {
   "cell_type": "code",
   "execution_count": 67,
   "metadata": {},
   "outputs": [
    {
     "name": "stdout",
     "output_type": "stream",
     "text": [
      "De Pago: 6 - 60.00%\n",
      "Gratis: 3 - 30.00%\n",
      "Mixta: 1 - 10.00%\n"
     ]
    }
   ],
   "source": [
    "festivales_bcn_22 = festivales_bcn_22.sort_values('Asistentes', ascending=False)\n",
    "primeros_10 = festivales_bcn_22.head(10)  \n",
    "tipo_entradas_top_festivales = primeros_10['Entrada'].value_counts()\n",
    "\n",
    "porcentaje_tipo_entradas_primeros_10 = tipo_entradas_top_festivales / tipo_entradas_top_festivales.sum() * 100\n",
    "\n",
    "for entrada, count in tipo_entradas_top_festivales.items():\n",
    "    porcentaje = porcentaje_tipo_entradas_primeros_10[entrada]\n",
    "    print(f\"{entrada}: {count} - {porcentaje:.2f}%\")"
   ]
  },
  {
   "cell_type": "code",
   "execution_count": 68,
   "metadata": {},
   "outputs": [
    {
     "name": "stdout",
     "output_type": "stream",
     "text": [
      "                                                  Nombre del Festival                       Ámbito  Asistentes\n",
      "1                                                     Primavera Sound                       Música    460500.0\n",
      "2                                                  Brunch-in the City                       Música    350000.0\n",
      "3                                         Barcelona Festival de Nadal  Multidisciplinaris i altres    300000.0\n",
      "4                                           Mercè Arts de Carrer. MAC              Arts escèniques    179037.0\n",
      "5   Sónar. Festival Internacional de Música Avançada i Art Multimèdia                       Música    122000.0\n",
      "6                                          Grec Festival de Barcelona              Arts escèniques    109991.0\n",
      "7                                                            Llum BCN  Multidisciplinaris i altres    100000.0\n",
      "8                                       Festival Jardins de Pedralbes                       Música     90000.0\n",
      "9                             Voll-Damm Festival de Jazz de Barcelona                       Música     80000.0\n",
      "10                                                   Festival Cruïlla                       Música     72000.0\n"
     ]
    }
   ],
   "source": [
    "primeros_10 = festivales_bcn_22[['NomDelFestival', 'Ambit', 'Asistentes']].head(10)\n",
    "primeros_10.reset_index(drop=True, inplace=True)\n",
    "primeros_10.index += 1\n",
    "primeros_10.columns = ['Nombre del Festival', 'Ámbito', 'Asistentes']\n",
    "print(primeros_10.to_string())"
   ]
  },
  {
   "cell_type": "code",
   "execution_count": 69,
   "metadata": {},
   "outputs": [
    {
     "name": "stdout",
     "output_type": "stream",
     "text": [
      "Música: 6 - 60.00%\n",
      "Multidisciplinaris i altres: 2 - 20.00%\n",
      "Arts escèniques: 2 - 20.00%\n"
     ]
    }
   ],
   "source": [
    "festivales_bcn_22 = festivales_bcn_22.sort_values('Asistentes', ascending=False)\n",
    "primeros_10 = festivales_bcn_22.head(10)  \n",
    "tipo_entradas_top_festivales = primeros_10['Ambit'].value_counts()\n",
    "\n",
    "porcentaje_tipo_entradas_primeros_10 = tipo_entradas_top_festivales / tipo_entradas_top_festivales.sum() * 100\n",
    "\n",
    "for entrada, count in tipo_entradas_top_festivales.items():\n",
    "    porcentaje = porcentaje_tipo_entradas_primeros_10[entrada]\n",
    "    print(f\"{entrada}: {count} - {porcentaje:.2f}%\")"
   ]
  },
  {
   "cell_type": "markdown",
   "metadata": {},
   "source": [
    "Total festivales analizados"
   ]
  },
  {
   "cell_type": "code",
   "execution_count": 70,
   "metadata": {},
   "outputs": [],
   "source": [
    "tablas_festivales = [globals()[f'festivales_bcn_{year}'] for year in range(13, 23)]\n",
    "festivales_decada = pd.concat(tablas_festivales, ignore_index=True)"
   ]
  },
  {
   "cell_type": "code",
   "execution_count": 76,
   "metadata": {},
   "outputs": [],
   "source": [
    "total_asistentes_por_festival = festivales_decada.groupby(['NomDelFestival', 'Ambit'])['Asistentes'].sum().reset_index()\n",
    "top10_festivales = total_asistentes_por_festival.sort_values(by='Asistentes', ascending=False).head(10)"
   ]
  },
  {
   "cell_type": "code",
   "execution_count": 78,
   "metadata": {},
   "outputs": [
    {
     "data": {
      "text/html": [
       "<div>\n",
       "<style scoped>\n",
       "    .dataframe tbody tr th:only-of-type {\n",
       "        vertical-align: middle;\n",
       "    }\n",
       "\n",
       "    .dataframe tbody tr th {\n",
       "        vertical-align: top;\n",
       "    }\n",
       "\n",
       "    .dataframe thead th {\n",
       "        text-align: right;\n",
       "    }\n",
       "</style>\n",
       "<table border=\"1\" class=\"dataframe\">\n",
       "  <thead>\n",
       "    <tr style=\"text-align: right;\">\n",
       "      <th></th>\n",
       "      <th>NomDelFestival</th>\n",
       "      <th>Ambit</th>\n",
       "      <th>Asistentes</th>\n",
       "    </tr>\n",
       "  </thead>\n",
       "  <tbody>\n",
       "    <tr>\n",
       "      <th>0</th>\n",
       "      <td>Mercè Arts de Carrer. MAC</td>\n",
       "      <td>Arts escèniques</td>\n",
       "      <td>2265407.0</td>\n",
       "    </tr>\n",
       "    <tr>\n",
       "      <th>1</th>\n",
       "      <td>Primavera Sound</td>\n",
       "      <td>Música</td>\n",
       "      <td>1872525.0</td>\n",
       "    </tr>\n",
       "    <tr>\n",
       "      <th>2</th>\n",
       "      <td>Sónar. Festival Internacional de Música Avança...</td>\n",
       "      <td>Música</td>\n",
       "      <td>945113.0</td>\n",
       "    </tr>\n",
       "    <tr>\n",
       "      <th>3</th>\n",
       "      <td>Grec Festival de Barcelona</td>\n",
       "      <td>Arts escèniques</td>\n",
       "      <td>918467.0</td>\n",
       "    </tr>\n",
       "    <tr>\n",
       "      <th>4</th>\n",
       "      <td>Loop Festival</td>\n",
       "      <td>Arts visuals</td>\n",
       "      <td>893120.0</td>\n",
       "    </tr>\n",
       "    <tr>\n",
       "      <th>5</th>\n",
       "      <td>Brunch-in the City</td>\n",
       "      <td>Música</td>\n",
       "      <td>800981.0</td>\n",
       "    </tr>\n",
       "    <tr>\n",
       "      <th>6</th>\n",
       "      <td>Llum BCN</td>\n",
       "      <td>Multidisciplinaris i altres</td>\n",
       "      <td>777200.0</td>\n",
       "    </tr>\n",
       "    <tr>\n",
       "      <th>7</th>\n",
       "      <td>BAM. Barcelona Acció Musical</td>\n",
       "      <td>Música</td>\n",
       "      <td>640846.0</td>\n",
       "    </tr>\n",
       "    <tr>\n",
       "      <th>8</th>\n",
       "      <td>Barcelona Festival de Nadal</td>\n",
       "      <td>Multidisciplinaris i altres</td>\n",
       "      <td>539000.0</td>\n",
       "    </tr>\n",
       "    <tr>\n",
       "      <th>9</th>\n",
       "      <td>Voll-Damm Festival de Jazz de Barcelona</td>\n",
       "      <td>Música</td>\n",
       "      <td>509411.0</td>\n",
       "    </tr>\n",
       "  </tbody>\n",
       "</table>\n",
       "</div>"
      ],
      "text/plain": [
       "                                      NomDelFestival  \\\n",
       "0                          Mercè Arts de Carrer. MAC   \n",
       "1                                    Primavera Sound   \n",
       "2  Sónar. Festival Internacional de Música Avança...   \n",
       "3                         Grec Festival de Barcelona   \n",
       "4                                      Loop Festival   \n",
       "5                                 Brunch-in the City   \n",
       "6                                           Llum BCN   \n",
       "7                       BAM. Barcelona Acció Musical   \n",
       "8                        Barcelona Festival de Nadal   \n",
       "9            Voll-Damm Festival de Jazz de Barcelona   \n",
       "\n",
       "                         Ambit  Asistentes  \n",
       "0              Arts escèniques   2265407.0  \n",
       "1                       Música   1872525.0  \n",
       "2                       Música    945113.0  \n",
       "3              Arts escèniques    918467.0  \n",
       "4                 Arts visuals    893120.0  \n",
       "5                       Música    800981.0  \n",
       "6  Multidisciplinaris i altres    777200.0  \n",
       "7                       Música    640846.0  \n",
       "8  Multidisciplinaris i altres    539000.0  \n",
       "9                       Música    509411.0  "
      ]
     },
     "execution_count": 78,
     "metadata": {},
     "output_type": "execute_result"
    }
   ],
   "source": [
    "top10_festivales.reset_index(drop=True, inplace=True)\n",
    "top10_festivales"
   ]
  },
  {
   "cell_type": "code",
   "execution_count": 73,
   "metadata": {},
   "outputs": [
    {
     "name": "stdout",
     "output_type": "stream",
     "text": [
      "                                                          NomDelFestival  Cantidad\n",
      "0                                                 Festival del Mil·lenni        11\n",
      "1                                                       Barcelona Poesia        10\n",
      "2                                           BAM. Barcelona Acció Musical        10\n",
      "3                                             Grec Festival de Barcelona        10\n",
      "4                                              Mercè Arts de Carrer. MAC        10\n",
      "5                    Mostra Internacional de Films de Dones de Barcelona        10\n",
      "6                                                        Escena Poblenou        10\n",
      "7                                                             Guitar Bcn        10\n",
      "8                       Festival l'Hora del Jazz. Memorial Tete Montoliu         9\n",
      "9                                                       Festival elPetit         9\n",
      "10  Drap-Art. Festival Internacional de Reciclatge Artístic de Catalunya         9\n",
      "11                                                         DocsBarcelona         9\n",
      "12                                           D'A Film Festival Barcelona         9\n",
      "13                            Festival Folk Internacional Tradicionàrius         9\n",
      "14                                          Festival de Cultura Raval(s)         9\n",
      "15               Flic. Festival de literatures i arts infantil i juvenil         9\n",
      "16                                                              SIMFONIC         9\n",
      "17                                                                  MIRA         9\n",
      "18                            Mostra FIRE!! de cinema LGTBI de Barcelona         9\n",
      "19                                                            Món Llibre         9\n",
      "20                               Voll-Damm Festival de Jazz de Barcelona         9\n",
      "21                                                      Festival Cruïlla         9\n",
      "22                                                         Sala Montjuïc         9\n",
      "23                                                    Mas i Mas Festival         9\n",
      "24                                                         Art Photo BCN         9\n",
      "25                                          Barcelona Districte Cultural         9\n",
      "26                                                         Loop Festival         9\n",
      "27                                                El Meu Primer Festival         9\n",
      "28                                                   Americana Film Fest         8\n",
      "29            SUNCINE. Festival internacional de cine del medio ambiente         8\n",
      "30                                                       Primavera Sound         8\n",
      "31               Cinema Lliure a la Platja. Mostra de cinema independent         8\n",
      "32                                                             Mecal Air         8\n",
      "33     Sónar. Festival Internacional de Música Avançada i Art Multimèdia         8\n",
      "34                                         Festival Jardins de Pedralbes         8\n",
      "35                                   Barcelona Design Week City Festival         7\n",
      "36                                                       MUTEK Barcelona         7\n",
      "37                                                       La Pedrera Jazz         7\n",
      "38                                                              Gandules         7\n",
      "39           Mecal. Festival Internacional de Curtmetratges de Barcelona         7\n",
      "40                                                            Bachcelona         7\n",
      "41                                          Festival de Música als Parcs         7\n",
      "42                                                     Barcelona Dibuixa         7\n",
      "43            L'Alternativa. Festival de Cinema Independent de Barcelona         7\n",
      "44                                                            BarnaSants         7\n",
      "45                                                      Festival In-Edit         7\n",
      "46                                                   Asian Film Festival         6\n",
      "47                                                      Jazzing Festival         6\n",
      "48                              HOP Festival. Festival de Danses Urbanes         6\n",
      "49                                   FADfest. The festival of all design         5\n",
      "50                                                              Llum BCN         5\n",
      "51                                                    Brunch-in the City         5\n",
      "52                                             Barcelona Gallery Weekend         5\n",
      "53                        Festival de Cinema i Drets Humans de Barcelona         4\n",
      "54                                                             Off Sónar         4\n",
      "55                                         Dansa. Quinzena Metropolitana         4\n",
      "56                                                        Share Festival         4\n",
      "57                                                         BAUM Festival         4\n",
      "58                                                         DGTL Festival         4\n",
      "59                                                            Kosmòpolis         4\n",
      "60                           DOCfield. Festival de Fotografia Documental         3\n",
      "61                                                     Brunch Electronik         3\n",
      "62                                        Reggaeton Beach Festival (RBF)         3\n",
      "63                 Festival MPB. Festival de Música Popular de Barcelona         3\n",
      "64                                      Hivernacle Pop Up Club Barcelona         3\n",
      "65                                                           Cruïlla XXS         3\n",
      "66                                           Barcelona Festival de Nadal         3\n"
     ]
    }
   ],
   "source": [
    "def reset_index(df):\n",
    "    df_reset = df.reset_index(drop=True)\n",
    "    df_reset.index += 1\n",
    "    return df_reset\n",
    "\n",
    "pd.set_option('display.max_rows', None)\n",
    "\n",
    "todos_los_festis = festivales_decada['NomDelFestival'].value_counts().reset_index()\n",
    "todos_los_festis.columns = ['NomDelFestival', 'Cantidad']\n",
    "\n",
    "reset_index(todos_los_festi)\n",
    "\n",
    "print(todos_los_festis.to_string())"
   ]
  }
 ],
 "metadata": {
  "kernelspec": {
   "display_name": "Python 3",
   "language": "python",
   "name": "python3"
  },
  "language_info": {
   "codemirror_mode": {
    "name": "ipython",
    "version": 3
   },
   "file_extension": ".py",
   "mimetype": "text/x-python",
   "name": "python",
   "nbconvert_exporter": "python",
   "pygments_lexer": "ipython3",
   "version": "3.10.11"
  }
 },
 "nbformat": 4,
 "nbformat_minor": 2
}
