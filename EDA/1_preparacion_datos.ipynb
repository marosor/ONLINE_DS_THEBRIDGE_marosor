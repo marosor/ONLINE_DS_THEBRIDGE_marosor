{
 "cells": [
  {
   "cell_type": "markdown",
   "metadata": {},
   "source": [
    "Preparación datos"
   ]
  },
  {
   "cell_type": "code",
   "execution_count": 27,
   "metadata": {},
   "outputs": [],
   "source": [
    "import pandas as pd\n",
    "import numpy as np\n",
    "import matplotlib.pyplot as plt\n",
    "import seaborn as sns"
   ]
  },
  {
   "cell_type": "code",
   "execution_count": 28,
   "metadata": {},
   "outputs": [],
   "source": [
    "fests_22 = pd.read_csv(\"./data/2022_festivals-assistents-order-name.csv\")\n",
    "fuente_1 = \"https://opendata-ajuntament.barcelona.cat/data/es/dataset/dades-festivals/resource/c573360d-ed5d-4609-aaa5-55bb9e9175ca#additional-info\"\n",
    "fests_21 = pd.read_csv(\"./data/2021_festivals-assistents-order-name.csv\")\n",
    "fuente_2 = \"https://opendata-ajuntament.barcelona.cat/data/es/dataset/dades-festivals/resource/57ed9976-8291-418d-a0fc-ecf572d8cb74?inner_span=True\"\n",
    "fests_20= pd.read_csv(\"./data/2020_festivals-assistents-order-name.csv\")\n",
    "fuente_3 = \"https://opendata-ajuntament.barcelona.cat/data/es/dataset/dades-festivals/resource/1214655c-38e5-4434-a35c-ed3a6468cd23?inner_span=True\"\n",
    "fests_19 = pd.read_csv(\"./data/2019_festivals-assistents-order-name.csv\")\n",
    "fuente_4 = \"https://opendata-ajuntament.barcelona.cat/data/es/dataset/dades-festivals/resource/077d738b-997f-46b9-ab96-500ab22f32b6?inner_span=True\"\n",
    "fests_18 = pd.read_csv(\"./data/2018_festivals-assistents-order-name.csv\")\n",
    "fuente_5 = \"https://opendata-ajuntament.barcelona.cat/data/es/dataset/dades-festivals/resource/a5522295-70f1-4d0b-8cb2-8762cbcbf783?inner_span=True\"\n",
    "fests_17 = pd.read_csv(\"./data/2017_festivals-assistents.csv\")\n",
    "fuente_6 = \"https://opendata-ajuntament.barcelona.cat/data/es/dataset/dades-festivals/resource/7760d11f-a95f-4d6c-8230-e409b8ce6995?inner_span=True\"\n",
    "fests_16 = pd.read_csv(\"./data/2016_festivals-assistents.csv\")\n",
    "fuente_7 = \"https://opendata-ajuntament.barcelona.cat/data/es/dataset/dades-festivals/resource/d151b7bc-2cb4-48c9-89e3-1c733a7cf511?inner_span=True\"\n",
    "fests_15 = pd.read_csv(\"./data/2015_festivals-assistents.csv\")\n",
    "fuente_8 = \"https://opendata-ajuntament.barcelona.cat/data/es/dataset/dades-festivals/resource/5797a47d-45c9-40c3-aacb-2d3fcd5c6cf7?inner_span=True\"\n",
    "fests_14 = pd.read_csv(\"./data/2014_festivals-assistents.csv\")\n",
    "fuente_9 = \"https://opendata-ajuntament.barcelona.cat/data/es/dataset/dades-festivals/resource/f2afdc37-2d91-48e5-9319-4d94d57d8c63?inner_span=True\"\n",
    "fests_13 = pd.read_csv(\"./data/2013_festivals-assistents.csv\")\n",
    "fuente_10 = \"https://opendata-ajuntament.barcelona.cat/data/es/dataset/dades-festivals/resource/ae5be150-db8f-4d66-8605-78bf2f02d375?inner_span=True\""
   ]
  },
  {
   "cell_type": "code",
   "execution_count": 29,
   "metadata": {},
   "outputs": [],
   "source": [
    "def eliminar_festis(df):\n",
    "    festis_out = [\n",
    "        '48H Open House BCN', 'ARQUINSET', 'Barcelona Pensa', 'Biennal de pensament Ciutat Oberta',\n",
    "        'DAU Barcelona', 'Festival IF Barcelona', 'Festival Sant Jordi de Nadal', 'Festival TRO',\n",
    "        'Fixing the Future', 'FLIB. Festival de Literatura Italiana a Barcelona', \"BCNegra. Trobada de Novel·la Negra de Barcelona\"\n",
    "        'Flic. Festival de literatures i arts infantil i juvenil', 'Il·luLola. Festival d¿il·lustració infantil i juvenil',\n",
    "        \"Inrisus, Festival d'Humor de Barcelona\", 'KMAmèrica. Festival de Literatura Llatinoamericana de Barcelona',\n",
    "        \"La setmana de l'àlbum\", 'La Setmana de la Ciència', 'Liternatura. Festival de Literatura de Natura',\n",
    "        'Més que Muses. Cicle de Dones Creadores', \"Model. Festival d'Arquitectures de Barcelona\",\n",
    "        'Poblenou Open Day', 'Poblenou Open Night', 'Qlit. Festival de Literatura Queer', 'Séfer Festival del Libro Judío', \n",
    "        \"Toon a Ville\", \"Transeuropa Festival\", \"Festival Internacional d'Arquitectura eme3\", \"Sant Jordi al Raval\", \"Primavera Vaca\", \n",
    "        \"Músics al Metro de Barcelona\", \"Como Pedro por mi casa\", \"Festival de la Ciència\", \"Som Cultura\", \"Festival Vèrtex BCN\",\n",
    "        \"Palo Market Fest\", \"Llindars, Festival d'instal·lació i intervenci...\", \"Moviestar Liternatura\", \"Biennal de pensament Ciutat Oberta\",\n",
    "        \"Biennal Ciutat i Ciència\", \"De Flor en Flor\", \"Festival del Llibre d'Artista i la Petita Edició\", \"GRAF. Còmic d'autor i edició independent\",\n",
    "        \"Marrameu - Festival Jove de Nit d'Ànimes de la Guineueta\", \"MemeFest\", \"Novembre Vaca\", \"Smart City Week\", \n",
    "        \"Barcelona Novel·la Històrica\", \"Biennal de pensament Ciutat Oberta \", \"BCNegra. Trobada de Novel·la Negra de Barcelona\"\n",
    "    ]\n",
    "    \n",
    "    filtro = ~df['NomDelFestival'].isin(festis_out)\n",
    "    return df[filtro]"
   ]
  },
  {
   "cell_type": "code",
   "execution_count": 30,
   "metadata": {},
   "outputs": [],
   "source": [
    "def eliminar_columnas(df):\n",
    "    columnas_a_eliminar = [\"DataFi\", \"Organitzador\", \"Notes_Dades\", \"Tipus\", \"Espai\"]\n",
    "    df.drop(columns=columnas_a_eliminar, inplace=True)\n",
    "    return df"
   ]
  },
  {
   "cell_type": "code",
   "execution_count": 31,
   "metadata": {},
   "outputs": [],
   "source": [
    "def clasificar_titularidad(df, columna_entrada='Titularitat', columna_salida='Titularidad'):\n",
    "    Titul = []\n",
    "    for tit in df[columna_entrada]:\n",
    "        if tit == \"Ajuntament de Barcelona\":\n",
    "            Titul.append(\"Pública\")\n",
    "        elif tit == \"Titularitat privada\":\n",
    "            Titul.append(\"Privada\")\n",
    "        elif tit == \"Altres administracions públiques\":\n",
    "            Titul.append(\"Pública\")\n",
    "        elif tit == \"Consorci o fundació amb presència administracions públiques\":\n",
    "            Titul.append(\"Mixta\")\n",
    "        else:\n",
    "            Titul.append(\"Otro\")\n",
    "    \n",
    "    df[columna_salida] = Titul\n",
    "    df.drop(columns=columna_entrada, inplace=True)\n",
    "\n",
    "    return df"
   ]
  },
  {
   "cell_type": "code",
   "execution_count": 32,
   "metadata": {},
   "outputs": [],
   "source": [
    "def total_asist(df):\n",
    "    # Convertimos los valores de asistencia a float para asegurar la correcta suma\n",
    "    df['Assistents_a_Barcelona'] = df['Assistents_a_Barcelona'].fillna(0).astype(float)\n",
    "    df['Assistents_fora_de_Barcelona'] = df['Assistents_fora_de_Barcelona'].fillna(0).astype(float)\n",
    "\n",
    "    # Sumamos los dos tipos de asistentes y aseguramos que el total tampoco tenga NaN\n",
    "    df['Asistentes'] = df['Assistents_a_Barcelona'] + df['Assistents_fora_de_Barcelona']\n",
    "    df['Asistentes'] = df['Asistentes'].fillna(0).astype(float)  # Convertir a float para asegurar el tipo de dato\n",
    "\n",
    "    df.drop(['Assistents_a_Barcelona', 'Assistents_fora_de_Barcelona'], axis=1, inplace=True)\n",
    "\n",
    "    df = df[df['Asistentes'] > 0]\n",
    "\n",
    "    return df"
   ]
  },
  {
   "cell_type": "code",
   "execution_count": 33,
   "metadata": {},
   "outputs": [],
   "source": [
    "def cuando_mes_estacion(df):\n",
    "    df['DataInici'] = pd.to_datetime(df['DataInici'], format='%d/%m/%Y')\n",
    "    df['Mes'] = df['DataInici'].dt.month_name(locale='es_ES').str.capitalize()\n",
    "\n",
    "    def que_estacion(date):\n",
    "        year = date.year\n",
    "        if (date >= pd.Timestamp(year=year, month=12, day=21)) or (date < pd.Timestamp(year=year, month=3, day=21)):\n",
    "            return 'Invierno'\n",
    "        elif (date >= pd.Timestamp(year=year, month=3, day=21)) and (date < pd.Timestamp(year=year, month=6, day=21)):\n",
    "            return 'Primavera'\n",
    "        elif (date >= pd.Timestamp(year=year, month=6, day=21)) and (date < pd.Timestamp(year=year, month=9, day=21)):\n",
    "            return 'Verano'\n",
    "        else:\n",
    "            return 'Otoño'\n",
    "    \n",
    "    df['Estacion'] = df['DataInici'].apply(que_estacion)\n",
    "    df.drop('DataInici', axis=1, inplace=True)\n",
    "\n",
    "    return df"
   ]
  },
  {
   "cell_type": "code",
   "execution_count": 34,
   "metadata": {},
   "outputs": [],
   "source": [
    "def tipo_entrada(df):\n",
    "    df['Entrada'] = np.where(df['Titularidad'] == 'Pública', 'Gratis', 'De Pago')\n",
    "    return df"
   ]
  },
  {
   "cell_type": "code",
   "execution_count": 35,
   "metadata": {},
   "outputs": [],
   "source": [
    "def procesar_festival(df_original):\n",
    "    \n",
    "    df = df_original.copy()\n",
    "    \n",
    "    df.drop(df[df['Tipus'] == 'Fires'].index, inplace=True)\n",
    "\n",
    "    df = clasificar_titularidad(df)\n",
    "\n",
    "    df = eliminar_columnas(df)\n",
    "\n",
    "    df = eliminar_festis(df)\n",
    "\n",
    "    df = cuando_mes_estacion(df)\n",
    "\n",
    "    df = total_asist(df)\n",
    "\n",
    "    df = tipo_entrada(df) \n",
    "\n",
    "    df = aplicar_ajustes_manuales(df)\n",
    "\n",
    "    return df"
   ]
  },
  {
   "cell_type": "code",
   "execution_count": 36,
   "metadata": {},
   "outputs": [],
   "source": [
    "def top_50_festivals(df):\n",
    "    df_clean = df.dropna(subset=['Asistentes'])  # Elimina filas donde 'Asistentes' es NaN\n",
    "    return df_clean.nlargest(50, 'Asistentes')[['NomDelFestival', 'Asistentes']]"
   ]
  },
  {
   "cell_type": "code",
   "execution_count": 37,
   "metadata": {},
   "outputs": [],
   "source": [
    "def crear_df_final(original_df, festival_list):\n",
    "    result_df = original_df[original_df['NomDelFestival'].isin(festival_list)]\n",
    "    return result_df"
   ]
  },
  {
   "cell_type": "code",
   "execution_count": 38,
   "metadata": {},
   "outputs": [],
   "source": [
    "def reset_index(df):\n",
    "    df_reset = df.reset_index(drop=True)\n",
    "    df_reset.index += 1\n",
    "    return df_reset"
   ]
  },
  {
   "cell_type": "code",
   "execution_count": 39,
   "metadata": {},
   "outputs": [],
   "source": [
    "def aplicar_ajustes_manuales(df):\n",
    "    df.loc[df['NomDelFestival'] == 'Brunch-in the City', 'Ambit'] = 'Música'\n",
    "    df.loc[df['NomDelFestival'] == 'Grec Festival de Barcelona', 'Ambit'] = 'Arts escèniques'\n",
    "    df.loc[df['NomDelFestival'] == 'Barcelona Gallery Weekend', 'Entrada'] = 'Gratis'\n",
    "    df.loc[df['NomDelFestival'] == 'Cinema Lliure a la Platja. Mostra de cinema in...', 'Entrada'] = 'Gratis'\n",
    "    df.loc[df['NomDelFestival'] == 'Dansa. Quinzena Metropolitana', 'Entrada'] = 'De Pago'\n",
    "    df.loc[df['NomDelFestival'] == 'Drap-Art. Festival Internacional de Reciclatge...', 'Entrada'] = 'Gratis'\n",
    "    df.loc[df['NomDelFestival'] == 'Festival de cultura Rab¡val(s)', 'Entrada'] = 'Gratis'\n",
    "    df.loc[df['NomDelFestival'] == \"Festival l'Hora del Jazz. Memorial Tete Montoliu\", 'Entrada'] = 'Mixta'\n",
    "    df.loc[df['NomDelFestival'] == 'Grec Festival de Barcelona', 'Entrada'] = 'Mixta'\n",
    "    df.loc[df['NomDelFestival'] == 'HOP Festival. Festival de Danses Urbanes', 'Entrada'] = 'Gratis'\n",
    "    df.loc[df['NomDelFestival'] == 'Mostra FIRE!! de cinema LGTBI de Barcelona', 'Entrada'] = 'Gratis'\n",
    "    df.loc[df['NomDelFestival'] == 'Barcelona Design Week City Festival', 'Entrada'] = 'Gratis'\n",
    "    df.loc[df['NomDelFestival'] == 'Kosmòpolis', 'Entrada'] = 'Mixta'\n",
    "    df.loc[df['NomDelFestival'] == 'Gandules', 'Entrada'] = 'Gratis'\n",
    "    df.loc[df['NomDelFestival'] == 'FADfest. The festival of all design', 'Entrada'] = 'Mixta'\n",
    "    \n",
    "    return df\n",
    "\n"
   ]
  },
  {
   "cell_type": "code",
   "execution_count": 40,
   "metadata": {},
   "outputs": [],
   "source": [
    "festivales_bcn_22 = procesar_festival(fests_22)\n",
    "festivales_bcn_21 = procesar_festival(fests_21)\n",
    "festivales_bcn_20 = procesar_festival(fests_20)\n",
    "festivales_bcn_19 = procesar_festival(fests_19)\n",
    "festivales_bcn_18 = procesar_festival(fests_18)\n",
    "festivales_bcn_17 = procesar_festival(fests_17)\n",
    "festivales_bcn_16 = procesar_festival(fests_16)\n",
    "festivales_bcn_15 = procesar_festival(fests_15)\n",
    "festivales_bcn_14 = procesar_festival(fests_14)\n",
    "festivales_bcn_13 = procesar_festival(fests_13)\n"
   ]
  },
  {
   "cell_type": "markdown",
   "metadata": {},
   "source": [
    "Seleccion de los más relevantes según asistentes y presentes en la mayoría de los años"
   ]
  },
  {
   "cell_type": "code",
   "execution_count": 41,
   "metadata": {},
   "outputs": [],
   "source": [
    "top_festis_22 = top_50_festivals(festivales_bcn_22)\n",
    "top_festis_21 = top_50_festivals(festivales_bcn_21)\n",
    "top_festis_20 = top_50_festivals(festivales_bcn_20)\n",
    "top_festis_19 = top_50_festivals(festivales_bcn_19)\n",
    "top_festis_18 = top_50_festivals(festivales_bcn_18)\n",
    "top_festis_17 = top_50_festivals(festivales_bcn_17)\n",
    "top_festis_16 = top_50_festivals(festivales_bcn_16)\n",
    "top_festis_15 = top_50_festivals(festivales_bcn_15)\n",
    "top_festis_14 = top_50_festivals(festivales_bcn_14)\n",
    "top_festis_13 = top_50_festivals(festivales_bcn_13)"
   ]
  },
  {
   "cell_type": "code",
   "execution_count": 42,
   "metadata": {},
   "outputs": [],
   "source": [
    "fests_mas_top = pd.concat([top_festis_22, top_festis_21, top_festis_20, top_festis_19, top_festis_18, top_festis_17, top_festis_16, top_festis_15, top_festis_14, top_festis_13])\n",
    "festis_repes = fests_mas_top['NomDelFestival'].value_counts()[lambda x: x >= 3].index.tolist()"
   ]
  },
  {
   "cell_type": "code",
   "execution_count": 43,
   "metadata": {},
   "outputs": [],
   "source": [
    "fests_repes_df = fests_mas_top[fests_mas_top['NomDelFestival'].isin(festis_repes)]"
   ]
  },
  {
   "cell_type": "code",
   "execution_count": 44,
   "metadata": {},
   "outputs": [],
   "source": [
    "festivales_bcn_22 = reset_index(crear_df_final(festivales_bcn_22, festis_repes))\n",
    "festivales_bcn_21 = reset_index(crear_df_final(festivales_bcn_21, festis_repes))\n",
    "festivales_bcn_20 = reset_index(crear_df_final(festivales_bcn_20, festis_repes))\n",
    "festivales_bcn_19 = reset_index(crear_df_final(festivales_bcn_19, festis_repes))\n",
    "festivales_bcn_18 = reset_index(crear_df_final(festivales_bcn_18, festis_repes))\n",
    "festivales_bcn_17 = reset_index(crear_df_final(festivales_bcn_17, festis_repes))\n",
    "festivales_bcn_16 = reset_index(crear_df_final(festivales_bcn_16, festis_repes))\n",
    "festivales_bcn_15 = reset_index(crear_df_final(festivales_bcn_15, festis_repes))\n",
    "festivales_bcn_14 = reset_index(crear_df_final(festivales_bcn_14, festis_repes))\n",
    "festivales_bcn_13 = reset_index(crear_df_final(festivales_bcn_13, festis_repes))"
   ]
  },
  {
   "cell_type": "code",
   "execution_count": 45,
   "metadata": {},
   "outputs": [
    {
     "data": {
      "text/plain": [
       "array(['Audiovisuals', 'Arts visuals', 'Música',\n",
       "       'Multidisciplinaris i altres', 'Lletres', 'Arts escèniques'],\n",
       "      dtype=object)"
      ]
     },
     "execution_count": 45,
     "metadata": {},
     "output_type": "execute_result"
    }
   ],
   "source": [
    "festivales_bcn_22.Ambit.unique()"
   ]
  },
  {
   "cell_type": "code",
   "execution_count": 46,
   "metadata": {},
   "outputs": [
    {
     "data": {
      "text/plain": [
       "array(['Privada', 'Pública'], dtype=object)"
      ]
     },
     "execution_count": 46,
     "metadata": {},
     "output_type": "execute_result"
    }
   ],
   "source": [
    "festivales_bcn_22.Titularidad.unique()"
   ]
  },
  {
   "cell_type": "code",
   "execution_count": 47,
   "metadata": {},
   "outputs": [
    {
     "data": {
      "text/plain": [
       "array(['De Pago', 'Gratis', 'Mixta'], dtype=object)"
      ]
     },
     "execution_count": 47,
     "metadata": {},
     "output_type": "execute_result"
    }
   ],
   "source": [
    "festivales_bcn_22.Entrada.unique()"
   ]
  },
  {
   "cell_type": "markdown",
   "metadata": {},
   "source": [
    "Ahora, los DataFrames modificados y preparados para procesar, y una descripción de los mismos:"
   ]
  },
  {
   "cell_type": "markdown",
   "metadata": {},
   "source": [
    "**Dataset:**  festivales_bcn_[año] <br>\n",
    "**Descripción:**  Se trata de datasets obtenidos de los datos abiertos del Ayuntamiento de Barcelona con el registro de festivales culturales en la ciudad <br>\n",
    "**Periodo:**  Cada dataset corresponde a un año diferente <br>\n",
    "\n",
    "|Columna/Variable|Descripción|Tipo_de_Variable|Importancia inicial|Nota|\n",
    "|-|-|-|-|-|\n",
    "|Col1, sin nombre|Es el índice de cada dataframe, comenzando en 1...|Numérica(int)|--|sólo índice||\n",
    "|Any|Es el ño al que corresponde cada tabla.|Numérica(int)|2|sólo índice||\n",
    "|Ambit|Ámbito artístico al que pertenece cada festival|Categórica nominal (Texto(string))|0|Cardinalidad_ 4||\n",
    "|Edició|Número de ediciones de ese festival|Numérica discreta(float)|2|número de la edición del año correspondiente||\n",
    "|NomDelFestival|Nombre del festival|Categórica nominal (Texto(string))|3|||\n",
    "|Asistentes|Número total de asistentes|Numérica continua(float)|0|Coluna generada a partir de la suma de 2  columnas originales de Assistents_Barcelona y Assistents_fora_de_Barcelona||\n",
    "|Tutularidad|Entidad responsable de la organización del festival|Categórica nominal (Texto(string))|1|Datos a partir de la transformación de la columna Titularitat original que tenía más variables||\n",
    "|Mes|El mes al que corresponde el dataset|Categórica nominal (Texto(string))|2|Datos a partir de la transformación de la columna DataInici, luego eliminada||\n",
    "|Estacion|La estación al que corresponde el dataset|Categórica nominal (Texto(string))|1|Datos a partir de la transformación de la columna DataInici, luego eliminada||\n",
    "|Entrada|Indica si el festival es gratuito, de pago o mixto|Categórica nominal (Texto(string))|0|Datos a partir de la transformación de la columna Titularidad, con ajustes manuales||"
   ]
  },
  {
   "cell_type": "code",
   "execution_count": 48,
   "metadata": {},
   "outputs": [],
   "source": [
    "categoricas_festivales = [\n",
    "    \"Ambit\",\n",
    "    \"Titularidad\",\n",
    "    \"NomDelFestival\",\n",
    "    \"Mes\",\n",
    "    \"Estacion\",\n",
    "    \"Entrada\"\n",
    "]\n"
   ]
  },
  {
   "cell_type": "code",
   "execution_count": 49,
   "metadata": {},
   "outputs": [],
   "source": [
    "categoricas_destacadas = [\n",
    "    'Ambit', \n",
    "    'Titularidad', \n",
    "    'Mes', \n",
    "    'Estacion',\n",
    "    \"Entrada\"\n",
    "\n",
    "]"
   ]
  },
  {
   "cell_type": "code",
   "execution_count": 50,
   "metadata": {},
   "outputs": [],
   "source": [
    "columnas_numericas_fests = [\n",
    "    \"Edicio\",\n",
    "    \"Asistentes\"\n",
    "]"
   ]
  },
  {
   "cell_type": "code",
   "execution_count": 51,
   "metadata": {},
   "outputs": [],
   "source": [
    "festivales_bcn_22.to_pickle(\"./data/festivales_bcn_22_procesado.pkl\")\n",
    "festivales_bcn_21.to_pickle(\"./data/festivales_bcn_21_procesado.pkl\")\n",
    "festivales_bcn_20.to_pickle(\"./data/festivales_bcn_20_procesado.pkl\")\n",
    "festivales_bcn_19.to_pickle(\"./data/festivales_bcn_19_procesado.pkl\")\n",
    "festivales_bcn_18.to_pickle(\"./data/festivales_bcn_18_procesado.pkl\")\n",
    "festivales_bcn_17.to_pickle(\"./data/festivales_bcn_17_procesado.pkl\")\n",
    "festivales_bcn_16.to_pickle(\"./data/festivales_bcn_16_procesado.pkl\")\n",
    "festivales_bcn_15.to_pickle(\"./data/festivales_bcn_15_procesado.pkl\")\n",
    "festivales_bcn_14.to_pickle(\"./data/festivales_bcn_14_procesado.pkl\")\n",
    "festivales_bcn_13.to_pickle(\"./data/festivales_bcn_13_procesado.pkl\")"
   ]
  },
  {
   "cell_type": "code",
   "execution_count": 52,
   "metadata": {},
   "outputs": [
    {
     "data": {
      "text/html": [
       "<div>\n",
       "<style scoped>\n",
       "    .dataframe tbody tr th:only-of-type {\n",
       "        vertical-align: middle;\n",
       "    }\n",
       "\n",
       "    .dataframe tbody tr th {\n",
       "        vertical-align: top;\n",
       "    }\n",
       "\n",
       "    .dataframe thead th {\n",
       "        text-align: right;\n",
       "    }\n",
       "</style>\n",
       "<table border=\"1\" class=\"dataframe\">\n",
       "  <thead>\n",
       "    <tr style=\"text-align: right;\">\n",
       "      <th></th>\n",
       "      <th>Any</th>\n",
       "      <th>Ambit</th>\n",
       "      <th>Edicio</th>\n",
       "      <th>NomDelFestival</th>\n",
       "      <th>Titularidad</th>\n",
       "      <th>Mes</th>\n",
       "      <th>Estacion</th>\n",
       "      <th>Asistentes</th>\n",
       "      <th>Entrada</th>\n",
       "    </tr>\n",
       "  </thead>\n",
       "  <tbody>\n",
       "    <tr>\n",
       "      <th>10</th>\n",
       "      <td>2013</td>\n",
       "      <td>Audiovisuals</td>\n",
       "      <td>6.0</td>\n",
       "      <td>El Meu Primer Festival</td>\n",
       "      <td>Privada</td>\n",
       "      <td>Noviembre</td>\n",
       "      <td>Otoño</td>\n",
       "      <td>7246.0</td>\n",
       "      <td>De Pago</td>\n",
       "    </tr>\n",
       "    <tr>\n",
       "      <th>14</th>\n",
       "      <td>2013</td>\n",
       "      <td>Audiovisuals</td>\n",
       "      <td>10.0</td>\n",
       "      <td>Festival de Cinema i Drets Humans de Barcelona</td>\n",
       "      <td>Privada</td>\n",
       "      <td>Mayo</td>\n",
       "      <td>Primavera</td>\n",
       "      <td>8000.0</td>\n",
       "      <td>De Pago</td>\n",
       "    </tr>\n",
       "    <tr>\n",
       "      <th>25</th>\n",
       "      <td>2013</td>\n",
       "      <td>Lletres</td>\n",
       "      <td>3.0</td>\n",
       "      <td>Flic. Festival de literatures i arts infantil ...</td>\n",
       "      <td>Privada</td>\n",
       "      <td>Enero</td>\n",
       "      <td>Invierno</td>\n",
       "      <td>1500.0</td>\n",
       "      <td>De Pago</td>\n",
       "    </tr>\n",
       "    <tr>\n",
       "      <th>26</th>\n",
       "      <td>2013</td>\n",
       "      <td>Lletres</td>\n",
       "      <td>4.0</td>\n",
       "      <td>Flic. Festival de literatures i arts infantil ...</td>\n",
       "      <td>Privada</td>\n",
       "      <td>Diciembre</td>\n",
       "      <td>Otoño</td>\n",
       "      <td>3000.0</td>\n",
       "      <td>De Pago</td>\n",
       "    </tr>\n",
       "  </tbody>\n",
       "</table>\n",
       "</div>"
      ],
      "text/plain": [
       "     Any         Ambit  Edicio  \\\n",
       "10  2013  Audiovisuals     6.0   \n",
       "14  2013  Audiovisuals    10.0   \n",
       "25  2013       Lletres     3.0   \n",
       "26  2013       Lletres     4.0   \n",
       "\n",
       "                                       NomDelFestival Titularidad        Mes  \\\n",
       "10                             El Meu Primer Festival     Privada  Noviembre   \n",
       "14     Festival de Cinema i Drets Humans de Barcelona     Privada       Mayo   \n",
       "25  Flic. Festival de literatures i arts infantil ...     Privada      Enero   \n",
       "26  Flic. Festival de literatures i arts infantil ...     Privada  Diciembre   \n",
       "\n",
       "     Estacion  Asistentes  Entrada  \n",
       "10      Otoño      7246.0  De Pago  \n",
       "14  Primavera      8000.0  De Pago  \n",
       "25   Invierno      1500.0  De Pago  \n",
       "26      Otoño      3000.0  De Pago  "
      ]
     },
     "execution_count": 52,
     "metadata": {},
     "output_type": "execute_result"
    }
   ],
   "source": [
    "festis_nuevos = set(festivales_bcn_13['NomDelFestival']) - set(festivales_bcn_15['NomDelFestival'])\n",
    "solo_en_este = festivales_bcn_13[festivales_bcn_13['NomDelFestival'].isin(festis_nuevos)]\n",
    "solo_en_este\n"
   ]
  }
 ],
 "metadata": {
  "kernelspec": {
   "display_name": "Python 3",
   "language": "python",
   "name": "python3"
  },
  "language_info": {
   "codemirror_mode": {
    "name": "ipython",
    "version": 3
   },
   "file_extension": ".py",
   "mimetype": "text/x-python",
   "name": "python",
   "nbconvert_exporter": "python",
   "pygments_lexer": "ipython3",
   "version": "3.10.11"
  }
 },
 "nbformat": 4,
 "nbformat_minor": 2
}
