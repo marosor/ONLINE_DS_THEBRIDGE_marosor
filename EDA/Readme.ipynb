{
 "cells": [
  {
   "cell_type": "markdown",
   "metadata": {},
   "source": [
    "README.md"
   ]
  },
  {
   "cell_type": "markdown",
   "metadata": {},
   "source": [
    "### Análisis de los datos de los festivales artísticos de Barcelona 2013-2022"
   ]
  },
  {
   "cell_type": "markdown",
   "metadata": {},
   "source": [
    "Estudio de las características de los festivales culturales de la ciudad de Barcelona en el período comprendido entre 2013 y 2022."
   ]
  },
  {
   "cell_type": "markdown",
   "metadata": {},
   "source": [
    "En este análisis exploratorio de datos me enfocaré en el panorama de los festivales barceloneses, atendiendo a las siguientes hipótesis:\n",
    "* El sector público programa festivales de ámbitos desatendidos por los programadores privados <br>\n",
    "* La mayoría de los festivales se concentra justo antes y después de los meses de calor y playa <br>\n",
    "* Los festivales gratuitos son los que convocan mayor número de asistentes <br>\n",
    "* En Barcelona ha crecido la tendencia a programar macrofestivales "
   ]
  },
  {
   "cell_type": "markdown",
   "metadata": {},
   "source": [
    "Para ello:<br>\n",
    "* analizaré los primeros 50 festivales de cada año en función del número de asistentes\n",
    "* los estudiaré según ámbito artístico, titularidad pública o privada, entrada gratuita o de pagp, número de ediciones, més y época del año"
   ]
  },
  {
   "cell_type": "markdown",
   "metadata": {},
   "source": [
    "Además, estudiaré la posible relación entre estas variables, año por año y en la década en conjunto, atendiendo a peculiaridades, elementos comunes, tendencias y excepciones"
   ]
  },
  {
   "cell_type": "markdown",
   "metadata": {},
   "source": [
    "La fuente de los datos es el propio [Ayuntamiento de Barcelona en su portal de datos abiertos](https://opendata-ajuntament.barcelona.cat/data/es/dataset/dades-festivals)\n"
   ]
  }
 ],
 "metadata": {
  "language_info": {
   "name": "python"
  }
 },
 "nbformat": 4,
 "nbformat_minor": 2
}
