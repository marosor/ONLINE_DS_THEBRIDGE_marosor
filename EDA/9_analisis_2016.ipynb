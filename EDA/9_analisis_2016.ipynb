{
 "cells": [
  {
   "cell_type": "code",
   "execution_count": 103,
   "metadata": {},
   "outputs": [],
   "source": [
    "import pandas as pd\n",
    "import numpy as np\n",
    "import matplotlib.pyplot as plt\n",
    "import seaborn as sns"
   ]
  },
  {
   "cell_type": "code",
   "execution_count": 104,
   "metadata": {},
   "outputs": [],
   "source": [
    "festivales_bcn_16 = pd.read_pickle(\"./data/festivales_bcn_16_procesado.pkl\")"
   ]
  },
  {
   "cell_type": "code",
   "execution_count": 105,
   "metadata": {},
   "outputs": [],
   "source": [
    "categoricas_festivales = [\n",
    "    \"Ambit\",\n",
    "    \"Titularidad\",\n",
    "    \"NomDelFestival\",\n",
    "    \"Mes\",\n",
    "    \"Estacion\",\n",
    "    \"Entrada\"\n",
    "]"
   ]
  },
  {
   "cell_type": "code",
   "execution_count": 106,
   "metadata": {},
   "outputs": [],
   "source": [
    "categoricas_destacadas = [\n",
    "    'Ambit', \n",
    "    'Titularidad', \n",
    "    'Mes', \n",
    "    'Estacion',\n",
    "    \"Entrada\"\n",
    "]"
   ]
  },
  {
   "cell_type": "code",
   "execution_count": 107,
   "metadata": {},
   "outputs": [],
   "source": [
    "columnas_numericas_fests = [\n",
    "    \"Edicio\",\n",
    "    \"Asistentes\"\n",
    "]"
   ]
  },
  {
   "cell_type": "markdown",
   "metadata": {},
   "source": [
    "Funciones análisis"
   ]
  },
  {
   "cell_type": "code",
   "execution_count": 108,
   "metadata": {},
   "outputs": [],
   "source": [
    "def pinta_distribucion_categoricas(df, columnas_categoricas, relativa=False, mostrar_valores=False):\n",
    "    # Filtra solo las columnas que están en categoricas_destacadas\n",
    "    columnas_categoricas = [col for col in columnas_categoricas if col in categoricas_destacadas]\n",
    "    \n",
    "    num_columnas = 2 \n",
    "    num_filas = (len(columnas_categoricas) + num_columnas - 1) // num_columnas  # Calcula el número de filas necesario\n",
    "\n",
    "    fig, axes = plt.subplots(num_filas, num_columnas, figsize=(15, 5 * num_filas))  # Ajusta el tamaño del subplot\n",
    "    axes = axes.flatten()  # Aplanar el array de axes para un manejo más fácil\n",
    "\n",
    "    for i, col in enumerate(columnas_categoricas):\n",
    "        ax = axes[i]\n",
    "        if isinstance(df[col].iloc[0], list):  # Verificar si el elemento es una lista\n",
    "            temp_df = df.explode(col)\n",
    "        else:\n",
    "            temp_df = df\n",
    "\n",
    "        serie = temp_df[col].value_counts()\n",
    "        if relativa:\n",
    "            total = serie.sum()\n",
    "            serie = serie.apply(lambda x: x / total)\n",
    "            ax.set_ylabel('Frecuencia Relativa')\n",
    "        else:\n",
    "            ax.set_ylabel('Frecuencia')\n",
    "\n",
    "        # Usar la paleta 'viridis' y asignar 'x' a 'hue'\n",
    "        sns.barplot(x=serie.index, y=serie, hue=serie.index, ax=ax, palette='viridis', legend=False)\n",
    "        ax.set_title(f'Distribución de {col}')\n",
    "        ax.set_xlabel('')\n",
    "        ax.tick_params(axis='x', rotation=45)\n",
    "\n",
    "        if mostrar_valores:\n",
    "            for p in ax.patches:\n",
    "                height = p.get_height()\n",
    "                ax.annotate(f'{height:.2f}', (p.get_x() + p.get_width() / 2., height), \n",
    "                            ha='center', va='center', xytext=(0, 9), textcoords='offset points')\n",
    "\n",
    "    for j in range(i + 1, len(axes)):\n",
    "        axes[j].axis('off')  # Ocultar ejes no utilizados\n",
    "\n",
    "    plt.tight_layout()\n",
    "    plt.show()"
   ]
  },
  {
   "cell_type": "code",
   "execution_count": 109,
   "metadata": {},
   "outputs": [],
   "source": [
    "def plot_multiple_boxplots(df, columns, dim_matriz_visual = 2):\n",
    "    num_cols = len(columns)\n",
    "    num_rows = num_cols // dim_matriz_visual + num_cols % dim_matriz_visual\n",
    "    fig, axes = plt.subplots(num_rows, dim_matriz_visual, figsize=(12, 6 * num_rows))\n",
    "    axes = axes.flatten()\n",
    "\n",
    "    for i, column in enumerate(columns):\n",
    "        if df[column].dtype in ['int64', 'float64']:\n",
    "            sns.boxplot(data=df, x=column, ax=axes[i])\n",
    "            axes[i].set_title(column)\n",
    "\n",
    "    # Ocultar ejes vacíos\n",
    "    for j in range(i+1, num_rows * 2):\n",
    "        axes[j].axis('off')\n",
    "\n",
    "    plt.tight_layout()\n",
    "    plt.show()"
   ]
  },
  {
   "cell_type": "code",
   "execution_count": 110,
   "metadata": {},
   "outputs": [],
   "source": [
    "def plot_boxplot_grouped(df, column_to_plot, group_column):\n",
    "    if df[column_to_plot].dtype in ['int64', 'float64'] and df[group_column].dtype in ['object', 'category']:\n",
    "        sns.boxplot(data=df, x=group_column, y=column_to_plot)\n",
    "        plt.show()"
   ]
  },
  {
   "cell_type": "code",
   "execution_count": 111,
   "metadata": {},
   "outputs": [],
   "source": [
    "def get_IQR(df, col):\n",
    "    return df[col].quantile(0.75) - df[col].quantile(0.25)"
   ]
  },
  {
   "cell_type": "code",
   "execution_count": 112,
   "metadata": {},
   "outputs": [],
   "source": [
    "def variabilidad(df):\n",
    "    df_var = df.describe().loc[[\"std\", \"mean\"]].T\n",
    "    df_var[\"CV\"] = df_var[\"std\"]/ df_var[\"mean\"]\n",
    "    return df_var"
   ]
  },
  {
   "cell_type": "code",
   "execution_count": 113,
   "metadata": {},
   "outputs": [],
   "source": [
    "def plot_histo_den(df, columns):\n",
    "    num_cols = len(columns)\n",
    "    num_rows = num_cols // 2 + num_cols % 2\n",
    "    fig, axes = plt.subplots(num_rows, 2, figsize=(12, 6 * num_rows))\n",
    "    axes = axes.flatten()\n",
    "\n",
    "    for i, column in enumerate(columns):\n",
    "        if df[column].dtype in ['int64', 'float64']:\n",
    "            sns.histplot(df[column], kde=True, ax=axes[i])\n",
    "            axes[i].set_title(f'Histograma y KDE de {column}')\n",
    "\n",
    "    # Ocultar ejes vacíos\n",
    "    for j in range(i + 1, num_rows * 2):\n",
    "        axes[j].axis('off')\n",
    "\n",
    "    plt.tight_layout()\n",
    "    plt.show()"
   ]
  },
  {
   "cell_type": "code",
   "execution_count": 114,
   "metadata": {},
   "outputs": [],
   "source": [
    "def plot_combined_graphs(df, columns, whisker_width=1.5):\n",
    "    num_cols = len(columns)\n",
    "    if num_cols:\n",
    "        \n",
    "        fig, axes = plt.subplots(num_cols, 2, figsize=(12, 5 * num_cols))\n",
    "        print(axes.shape)\n",
    "\n",
    "        for i, column in enumerate(columns):\n",
    "            if df[column].dtype in ['int64', 'float64']:\n",
    "                # Histograma y KDE\n",
    "                sns.histplot(df[column], kde=True, ax=axes[i,0] if num_cols > 1 else axes[0])\n",
    "                if num_cols > 1:\n",
    "                    axes[i,0].set_title(f'Histograma y KDE de {column}')\n",
    "                else:\n",
    "                    axes[0].set_title(f'Histograma y KDE de {column}')\n",
    "\n",
    "                # Boxplot\n",
    "                sns.boxplot(x=df[column], ax=axes[i,1] if num_cols > 1 else axes[1], whis=whisker_width)\n",
    "                if num_cols > 1:\n",
    "                    axes[i,1].set_title(f'Boxplot de {column}')\n",
    "                else:\n",
    "                    axes[1].set_title(f'Boxplot de {column}')\n",
    "\n",
    "        plt.tight_layout()\n",
    "        plt.show()"
   ]
  },
  {
   "cell_type": "markdown",
   "metadata": {},
   "source": [
    "Tendencia central"
   ]
  },
  {
   "cell_type": "code",
   "execution_count": 115,
   "metadata": {},
   "outputs": [
    {
     "data": {
      "text/plain": [
       "Edicio           13.90\n",
       "Asistentes    32632.32\n",
       "Name: mean, dtype: float64"
      ]
     },
     "execution_count": 115,
     "metadata": {},
     "output_type": "execute_result"
    }
   ],
   "source": [
    "festivales_bcn_16.describe().loc[\"mean\"]"
   ]
  },
  {
   "cell_type": "code",
   "execution_count": 116,
   "metadata": {},
   "outputs": [
    {
     "data": {
      "text/plain": [
       "Edicio           13.0\n",
       "Asistentes    12000.0\n",
       "Name: 50%, dtype: float64"
      ]
     },
     "execution_count": 116,
     "metadata": {},
     "output_type": "execute_result"
    }
   ],
   "source": [
    "festivales_bcn_16.describe().loc[\"50%\"]"
   ]
  },
  {
   "cell_type": "code",
   "execution_count": 117,
   "metadata": {},
   "outputs": [
    {
     "data": {
      "text/plain": [
       "Edicio            48.0\n",
       "Asistentes    228946.0\n",
       "Name: max, dtype: float64"
      ]
     },
     "execution_count": 117,
     "metadata": {},
     "output_type": "execute_result"
    }
   ],
   "source": [
    "festivales_bcn_16.describe().loc[\"max\"]"
   ]
  },
  {
   "cell_type": "code",
   "execution_count": 118,
   "metadata": {},
   "outputs": [
    {
     "data": {
      "text/plain": [
       "Edicio           2.0\n",
       "Asistentes    2600.0\n",
       "Name: min, dtype: float64"
      ]
     },
     "execution_count": 118,
     "metadata": {},
     "output_type": "execute_result"
    }
   ],
   "source": [
    "festivales_bcn_16.describe().loc[\"min\"]"
   ]
  },
  {
   "cell_type": "code",
   "execution_count": 119,
   "metadata": {},
   "outputs": [
    {
     "data": {
      "text/html": [
       "<div>\n",
       "<style scoped>\n",
       "    .dataframe tbody tr th:only-of-type {\n",
       "        vertical-align: middle;\n",
       "    }\n",
       "\n",
       "    .dataframe tbody tr th {\n",
       "        vertical-align: top;\n",
       "    }\n",
       "\n",
       "    .dataframe thead th {\n",
       "        text-align: right;\n",
       "    }\n",
       "</style>\n",
       "<table border=\"1\" class=\"dataframe\">\n",
       "  <thead>\n",
       "    <tr style=\"text-align: right;\">\n",
       "      <th></th>\n",
       "      <th>0</th>\n",
       "    </tr>\n",
       "  </thead>\n",
       "  <tbody>\n",
       "    <tr>\n",
       "      <th>Ambit</th>\n",
       "      <td>Música</td>\n",
       "    </tr>\n",
       "    <tr>\n",
       "      <th>Titularidad</th>\n",
       "      <td>Privada</td>\n",
       "    </tr>\n",
       "    <tr>\n",
       "      <th>Mes</th>\n",
       "      <td>Junio</td>\n",
       "    </tr>\n",
       "    <tr>\n",
       "      <th>Estacion</th>\n",
       "      <td>Primavera</td>\n",
       "    </tr>\n",
       "    <tr>\n",
       "      <th>Entrada</th>\n",
       "      <td>De Pago</td>\n",
       "    </tr>\n",
       "  </tbody>\n",
       "</table>\n",
       "</div>"
      ],
      "text/plain": [
       "                     0\n",
       "Ambit           Música\n",
       "Titularidad    Privada\n",
       "Mes              Junio\n",
       "Estacion     Primavera\n",
       "Entrada        De Pago"
      ]
     },
     "execution_count": 119,
     "metadata": {},
     "output_type": "execute_result"
    }
   ],
   "source": [
    "festivales_bcn_16[categoricas_destacadas].mode().T"
   ]
  },
  {
   "cell_type": "markdown",
   "metadata": {},
   "source": [
    "Comentarios <br>\n",
    "Com una mediana de unos 12 mil asistentes, el festival tipo de Barcelona es de música y con entrada pagada, con mayorpredominancia en otoño, aunque mayor concentración en junio. Es el mismo perfil que en 2017"
   ]
  },
  {
   "cell_type": "markdown",
   "metadata": {},
   "source": [
    "Frecuencias relativa y absoluta"
   ]
  },
  {
   "cell_type": "code",
   "execution_count": 120,
   "metadata": {},
   "outputs": [
    {
     "name": "stdout",
     "output_type": "stream",
     "text": [
      "Ambit\n",
      "Música                         20\n",
      "Audiovisuals                   14\n",
      "Arts visuals                    5\n",
      "Arts escèniques                 4\n",
      "Multidisciplinaris i altres     4\n",
      "Lletres                         3\n",
      "Name: count, dtype: int64\n",
      "\n",
      "\n",
      "Titularidad\n",
      "Privada    43\n",
      "Pública     6\n",
      "Mixta       1\n",
      "Name: count, dtype: int64\n",
      "\n",
      "\n",
      "Mes\n",
      "Junio         10\n",
      "Noviembre      8\n",
      "Mayo           6\n",
      "Julio          6\n",
      "Septiembre     4\n",
      "Marzo          3\n",
      "Octubre        3\n",
      "Enero          3\n",
      "Abril          2\n",
      "Agosto         2\n",
      "Febrero        2\n",
      "Diciembre      1\n",
      "Name: count, dtype: int64\n",
      "\n",
      "\n",
      "Estacion\n",
      "Primavera    16\n",
      "Otoño        14\n",
      "Verano       12\n",
      "Invierno      8\n",
      "Name: count, dtype: int64\n",
      "\n",
      "\n",
      "Entrada\n",
      "De Pago    38\n",
      "Gratis      9\n",
      "Mixta       3\n",
      "Name: count, dtype: int64\n",
      "\n",
      "\n"
     ]
    }
   ],
   "source": [
    "for catego in categoricas_destacadas:\n",
    "    print(festivales_bcn_16[catego].value_counts())\n",
    "    print(\"\\n\")"
   ]
  },
  {
   "cell_type": "code",
   "execution_count": 122,
   "metadata": {},
   "outputs": [
    {
     "name": "stdout",
     "output_type": "stream",
     "text": [
      "Ambit\n",
      "Música                         40.0\n",
      "Audiovisuals                   28.0\n",
      "Arts visuals                   10.0\n",
      "Arts escèniques                 8.0\n",
      "Multidisciplinaris i altres     8.0\n",
      "Lletres                         6.0\n",
      "Name: count, dtype: float64\n",
      "\n",
      "\n",
      "Titularidad\n",
      "Privada    86.0\n",
      "Pública    12.0\n",
      "Mixta       2.0\n",
      "Name: count, dtype: float64\n",
      "\n",
      "\n",
      "Mes\n",
      "Junio         20.0\n",
      "Noviembre     16.0\n",
      "Mayo          12.0\n",
      "Julio         12.0\n",
      "Septiembre     8.0\n",
      "Marzo          6.0\n",
      "Octubre        6.0\n",
      "Enero          6.0\n",
      "Abril          4.0\n",
      "Agosto         4.0\n",
      "Febrero        4.0\n",
      "Diciembre      2.0\n",
      "Name: count, dtype: float64\n",
      "\n",
      "\n",
      "Estacion\n",
      "Primavera    32.0\n",
      "Otoño        28.0\n",
      "Verano       24.0\n",
      "Invierno     16.0\n",
      "Name: count, dtype: float64\n",
      "\n",
      "\n",
      "Entrada\n",
      "De Pago    76.0\n",
      "Gratis     18.0\n",
      "Mixta       6.0\n",
      "Name: count, dtype: float64\n",
      "\n",
      "\n"
     ]
    }
   ],
   "source": [
    "for catego in categoricas_destacadas:\n",
    "    print(festivales_bcn_16[catego].value_counts()/len(festivales_bcn_16)*100)\n",
    "    print(\"\\n\")"
   ]
  },
  {
   "cell_type": "code",
   "execution_count": 137,
   "metadata": {},
   "outputs": [
    {
     "data": {
      "image/png": "[encoded data removed]",
      "text/plain": [
       "<Figure size 1500x1500 with 6 Axes>"
      ]
     },
     "metadata": {},
     "output_type": "display_data"
    }
   ],
   "source": [
    "pinta_distribucion_categoricas(festivales_bcn_16, categoricas_destacadas, relativa = True)"
   ]
  },
  {
   "cell_type": "markdown",
   "metadata": {},
   "source": [
    "Comentarios <br>\n",
    "El número de propuestas del sector privado casi cuadriplica las del sector público, y proporción de festivales gratuitos vs. de pago es cercana al triple.<br>\n",
    "Hay festivales programados todos los meses, aunque con predominio muy marcado de junio. La mayor concentración es en la primavera. Excepto por este punto, el resultado es muy similar al año anterior.<br>\n",
    "La música es sin duda la protagonista de los festivales, seguida de lejos por los audivisuales, y mucho más lejos pero en proporciones similares, tanto escénicas como visuales y multidisiplinares y hasta letras, todas a la par. <br>\n",
    "Estas conclusiones parecen repetirse en la mayoría de los años, excepto en la pandemia y justo después"
   ]
  },
  {
   "cell_type": "markdown",
   "metadata": {},
   "source": [
    "Medidas de posición"
   ]
  },
  {
   "cell_type": "code",
   "execution_count": 123,
   "metadata": {},
   "outputs": [
    {
     "data": {
      "text/html": [
       "<div>\n",
       "<style scoped>\n",
       "    .dataframe tbody tr th:only-of-type {\n",
       "        vertical-align: middle;\n",
       "    }\n",
       "\n",
       "    .dataframe tbody tr th {\n",
       "        vertical-align: top;\n",
       "    }\n",
       "\n",
       "    .dataframe thead th {\n",
       "        text-align: right;\n",
       "    }\n",
       "</style>\n",
       "<table border=\"1\" class=\"dataframe\">\n",
       "  <thead>\n",
       "    <tr style=\"text-align: right;\">\n",
       "      <th></th>\n",
       "      <th>Edicio</th>\n",
       "      <th>Asistentes</th>\n",
       "    </tr>\n",
       "  </thead>\n",
       "  <tbody>\n",
       "    <tr>\n",
       "      <th>count</th>\n",
       "      <td>50.000000</td>\n",
       "      <td>50.000000</td>\n",
       "    </tr>\n",
       "    <tr>\n",
       "      <th>mean</th>\n",
       "      <td>13.900000</td>\n",
       "      <td>32632.320000</td>\n",
       "    </tr>\n",
       "    <tr>\n",
       "      <th>std</th>\n",
       "      <td>9.573028</td>\n",
       "      <td>49228.068198</td>\n",
       "    </tr>\n",
       "    <tr>\n",
       "      <th>min</th>\n",
       "      <td>2.000000</td>\n",
       "      <td>2600.000000</td>\n",
       "    </tr>\n",
       "    <tr>\n",
       "      <th>25%</th>\n",
       "      <td>6.000000</td>\n",
       "      <td>6037.500000</td>\n",
       "    </tr>\n",
       "    <tr>\n",
       "      <th>50%</th>\n",
       "      <td>13.000000</td>\n",
       "      <td>12000.000000</td>\n",
       "    </tr>\n",
       "    <tr>\n",
       "      <th>75%</th>\n",
       "      <td>18.750000</td>\n",
       "      <td>33028.750000</td>\n",
       "    </tr>\n",
       "    <tr>\n",
       "      <th>max</th>\n",
       "      <td>48.000000</td>\n",
       "      <td>228946.000000</td>\n",
       "    </tr>\n",
       "  </tbody>\n",
       "</table>\n",
       "</div>"
      ],
      "text/plain": [
       "          Edicio     Asistentes\n",
       "count  50.000000      50.000000\n",
       "mean   13.900000   32632.320000\n",
       "std     9.573028   49228.068198\n",
       "min     2.000000    2600.000000\n",
       "25%     6.000000    6037.500000\n",
       "50%    13.000000   12000.000000\n",
       "75%    18.750000   33028.750000\n",
       "max    48.000000  228946.000000"
      ]
     },
     "execution_count": 123,
     "metadata": {},
     "output_type": "execute_result"
    }
   ],
   "source": [
    "festivales_bcn_16.describe()"
   ]
  },
  {
   "cell_type": "code",
   "execution_count": 124,
   "metadata": {},
   "outputs": [
    {
     "data": {
      "text/plain": [
       "12.75"
      ]
     },
     "execution_count": 124,
     "metadata": {},
     "output_type": "execute_result"
    }
   ],
   "source": [
    "get_IQR(festivales_bcn_16,\"Edicio\") \n",
    "# No es tanto mayor que la mediana (11), y casi igual que la media (mean)"
   ]
  },
  {
   "cell_type": "code",
   "execution_count": 125,
   "metadata": {},
   "outputs": [
    {
     "name": "stdout",
     "output_type": "stream",
     "text": [
      "13.0 \n",
      " 24.200000000000003 \n",
      " 28.099999999999994 \n",
      " 48.0\n"
     ]
    }
   ],
   "source": [
    "print(festivales_bcn_16[\"Edicio\"].quantile(0.5), \"\\n\",\n",
    "    festivales_bcn_16[\"Edicio\"].quantile(0.9), \"\\n\",\n",
    "    festivales_bcn_16[\"Edicio\"].quantile(0.95), \"\\n\",\n",
    "    festivales_bcn_16[\"Edicio\"].max())"
   ]
  },
  {
   "cell_type": "code",
   "execution_count": 126,
   "metadata": {},
   "outputs": [
    {
     "data": {
      "text/plain": [
       "26991.25"
      ]
     },
     "execution_count": 126,
     "metadata": {},
     "output_type": "execute_result"
    }
   ],
   "source": [
    "get_IQR(festivales_bcn_16,\"Asistentes\") \n",
    "# Sí es mucho mayor que la mediana(2120). Hay mucha dispersión. Hay que tomar con cuidado la tendencia central"
   ]
  },
  {
   "cell_type": "code",
   "execution_count": 127,
   "metadata": {},
   "outputs": [
    {
     "name": "stdout",
     "output_type": "stream",
     "text": [
      "12000.0 \n",
      " 103299.50000000001 \n",
      " 129603.64999999992 \n",
      " 228946.0\n"
     ]
    }
   ],
   "source": [
    "print(festivales_bcn_16[\"Asistentes\"].quantile(0.5), \"\\n\",\n",
    "    festivales_bcn_16[\"Asistentes\"].quantile(0.9), \"\\n\",\n",
    "    festivales_bcn_16[\"Asistentes\"].quantile(0.95), \"\\n\",\n",
    "    festivales_bcn_16[\"Asistentes\"].max())"
   ]
  },
  {
   "cell_type": "markdown",
   "metadata": {},
   "source": [
    "Comentarios: <br>\n",
    "Alta dispersión en el número de asistentes. La mediana está en 12.000, unas 8.5 veces menos que el primer 90% en algo más de 100 mil, que crece ligeramente hascia el final hasta los 130 mil (y cambian la tendencia y empiezan a crecer más, aumentando la dispersión), y que luego del 95 salta a más de 228 mil, es decir que no llega a duplicarse. Esta máxima es unas 19 veces la mediana."
   ]
  },
  {
   "cell_type": "code",
   "execution_count": 128,
   "metadata": {},
   "outputs": [
    {
     "data": {
      "image/png": "[encoded data removed]",
      "text/plain": [
       "<Figure size 1200x600 with 2 Axes>"
      ]
     },
     "metadata": {},
     "output_type": "display_data"
    }
   ],
   "source": [
    "plot_multiple_boxplots(festivales_bcn_16, columnas_numericas_fests)"
   ]
  },
  {
   "cell_type": "markdown",
   "metadata": {},
   "source": [
    "Comentarios: <br>\n",
    "Gracias a los boxplots podemos observar como no hay una media centrada, y además hay bastantes outliers en las cifras de asistentes."
   ]
  },
  {
   "cell_type": "code",
   "execution_count": 129,
   "metadata": {},
   "outputs": [],
   "source": [
    "plot_boxplot_grouped(festivales_bcn_16, \"Edicio\", \"Asistentes\")\n",
    "\n",
    "# Por qué no consigo que se imprima esto????"
   ]
  },
  {
   "cell_type": "markdown",
   "metadata": {},
   "source": [
    "Medidas de dispersión"
   ]
  },
  {
   "cell_type": "code",
   "execution_count": 130,
   "metadata": {},
   "outputs": [
    {
     "data": {
      "text/html": [
       "<div>\n",
       "<style scoped>\n",
       "    .dataframe tbody tr th:only-of-type {\n",
       "        vertical-align: middle;\n",
       "    }\n",
       "\n",
       "    .dataframe tbody tr th {\n",
       "        vertical-align: top;\n",
       "    }\n",
       "\n",
       "    .dataframe thead th {\n",
       "        text-align: right;\n",
       "    }\n",
       "</style>\n",
       "<table border=\"1\" class=\"dataframe\">\n",
       "  <thead>\n",
       "    <tr style=\"text-align: right;\">\n",
       "      <th></th>\n",
       "      <th>std</th>\n",
       "      <th>mean</th>\n",
       "    </tr>\n",
       "  </thead>\n",
       "  <tbody>\n",
       "    <tr>\n",
       "      <th>Edicio</th>\n",
       "      <td>9.573028</td>\n",
       "      <td>13.90</td>\n",
       "    </tr>\n",
       "    <tr>\n",
       "      <th>Asistentes</th>\n",
       "      <td>49228.068198</td>\n",
       "      <td>32632.32</td>\n",
       "    </tr>\n",
       "  </tbody>\n",
       "</table>\n",
       "</div>"
      ],
      "text/plain": [
       "                     std      mean\n",
       "Edicio          9.573028     13.90\n",
       "Asistentes  49228.068198  32632.32"
      ]
     },
     "execution_count": 130,
     "metadata": {},
     "output_type": "execute_result"
    }
   ],
   "source": [
    "festivales_bcn_16.describe().loc[[\"std\", \"mean\"]].T"
   ]
  },
  {
   "cell_type": "code",
   "execution_count": 131,
   "metadata": {},
   "outputs": [
    {
     "data": {
      "text/html": [
       "<div>\n",
       "<style scoped>\n",
       "    .dataframe tbody tr th:only-of-type {\n",
       "        vertical-align: middle;\n",
       "    }\n",
       "\n",
       "    .dataframe tbody tr th {\n",
       "        vertical-align: top;\n",
       "    }\n",
       "\n",
       "    .dataframe thead th {\n",
       "        text-align: right;\n",
       "    }\n",
       "</style>\n",
       "<table border=\"1\" class=\"dataframe\">\n",
       "  <thead>\n",
       "    <tr style=\"text-align: right;\">\n",
       "      <th></th>\n",
       "      <th>std</th>\n",
       "      <th>mean</th>\n",
       "      <th>CV</th>\n",
       "    </tr>\n",
       "  </thead>\n",
       "  <tbody>\n",
       "    <tr>\n",
       "      <th>Edicio</th>\n",
       "      <td>9.573028</td>\n",
       "      <td>13.90</td>\n",
       "      <td>0.688707</td>\n",
       "    </tr>\n",
       "    <tr>\n",
       "      <th>Asistentes</th>\n",
       "      <td>49228.068198</td>\n",
       "      <td>32632.32</td>\n",
       "      <td>1.508568</td>\n",
       "    </tr>\n",
       "  </tbody>\n",
       "</table>\n",
       "</div>"
      ],
      "text/plain": [
       "                     std      mean        CV\n",
       "Edicio          9.573028     13.90  0.688707\n",
       "Asistentes  49228.068198  32632.32  1.508568"
      ]
     },
     "execution_count": 131,
     "metadata": {},
     "output_type": "execute_result"
    }
   ],
   "source": [
    "variabilidad(festivales_bcn_16)\n",
    "# Menos 15% es baja variabilidad, entre 15 y 30 es normal, más de 30 es alta = Es decir, todos tienen una altísima variabilidad! A ver visualmente..."
   ]
  },
  {
   "cell_type": "code",
   "execution_count": 132,
   "metadata": {},
   "outputs": [
    {
     "data": {
      "image/png": "[encoded data removed]",
      "text/plain": [
       "<Figure size 640x480 with 1 Axes>"
      ]
     },
     "metadata": {},
     "output_type": "display_data"
    }
   ],
   "source": [
    "festivales_bcn_16[\"Edicio\"].hist();"
   ]
  },
  {
   "cell_type": "code",
   "execution_count": 133,
   "metadata": {},
   "outputs": [
    {
     "data": {
      "image/png": "[encoded data removed]",
      "text/plain": [
       "<Figure size 640x480 with 1 Axes>"
      ]
     },
     "metadata": {},
     "output_type": "display_data"
    }
   ],
   "source": [
    "festivales_bcn_16[\"Asistentes\"].hist();"
   ]
  },
  {
   "cell_type": "markdown",
   "metadata": {},
   "source": [
    "Distribución"
   ]
  },
  {
   "cell_type": "code",
   "execution_count": 134,
   "metadata": {},
   "outputs": [
    {
     "data": {
      "image/png": "[encoded data removed]",
      "text/plain": [
       "<Figure size 1200x600 with 2 Axes>"
      ]
     },
     "metadata": {},
     "output_type": "display_data"
    }
   ],
   "source": [
    "plot_histo_den(festivales_bcn_16, [\"Asistentes\"])"
   ]
  },
  {
   "cell_type": "markdown",
   "metadata": {},
   "source": [
    "Anomalías outliers"
   ]
  },
  {
   "cell_type": "code",
   "execution_count": 135,
   "metadata": {},
   "outputs": [
    {
     "name": "stdout",
     "output_type": "stream",
     "text": [
      "(2,)\n"
     ]
    },
    {
     "data": {
      "image/png": "[encoded data removed]",
      "text/plain": [
       "<Figure size 1200x500 with 2 Axes>"
      ]
     },
     "metadata": {},
     "output_type": "display_data"
    }
   ],
   "source": [
    "plot_combined_graphs(festivales_bcn_16, [\"Asistentes\"])"
   ]
  },
  {
   "cell_type": "code",
   "execution_count": 136,
   "metadata": {},
   "outputs": [
    {
     "data": {
      "text/html": [
       "<div>\n",
       "<style scoped>\n",
       "    .dataframe tbody tr th:only-of-type {\n",
       "        vertical-align: middle;\n",
       "    }\n",
       "\n",
       "    .dataframe tbody tr th {\n",
       "        vertical-align: top;\n",
       "    }\n",
       "\n",
       "    .dataframe thead th {\n",
       "        text-align: right;\n",
       "    }\n",
       "</style>\n",
       "<table border=\"1\" class=\"dataframe\">\n",
       "  <thead>\n",
       "    <tr style=\"text-align: right;\">\n",
       "      <th></th>\n",
       "      <th>Ambit</th>\n",
       "      <th>Edicio</th>\n",
       "      <th>NomDelFestival</th>\n",
       "      <th>Titularidad</th>\n",
       "      <th>Mes</th>\n",
       "      <th>Estacion</th>\n",
       "      <th>Asistentes</th>\n",
       "      <th>Entrada</th>\n",
       "    </tr>\n",
       "  </thead>\n",
       "  <tbody>\n",
       "    <tr>\n",
       "      <th>1</th>\n",
       "      <td>Audiovisuals</td>\n",
       "      <td>3.0</td>\n",
       "      <td>Americana Film Fest</td>\n",
       "      <td>Privada</td>\n",
       "      <td>Marzo</td>\n",
       "      <td>Invierno</td>\n",
       "      <td>5200.0</td>\n",
       "      <td>De Pago</td>\n",
       "    </tr>\n",
       "    <tr>\n",
       "      <th>2</th>\n",
       "      <td>Arts visuals</td>\n",
       "      <td>3.0</td>\n",
       "      <td>Art Photo BCN</td>\n",
       "      <td>Privada</td>\n",
       "      <td>Mayo</td>\n",
       "      <td>Primavera</td>\n",
       "      <td>2600.0</td>\n",
       "      <td>De Pago</td>\n",
       "    </tr>\n",
       "    <tr>\n",
       "      <th>3</th>\n",
       "      <td>Música</td>\n",
       "      <td>4.0</td>\n",
       "      <td>Bachcelona</td>\n",
       "      <td>Privada</td>\n",
       "      <td>Julio</td>\n",
       "      <td>Verano</td>\n",
       "      <td>5000.0</td>\n",
       "      <td>De Pago</td>\n",
       "    </tr>\n",
       "    <tr>\n",
       "      <th>4</th>\n",
       "      <td>Música</td>\n",
       "      <td>24.0</td>\n",
       "      <td>BAM. Barcelona Acció Musical</td>\n",
       "      <td>Pública</td>\n",
       "      <td>Septiembre</td>\n",
       "      <td>Otoño</td>\n",
       "      <td>56950.0</td>\n",
       "      <td>Gratis</td>\n",
       "    </tr>\n",
       "    <tr>\n",
       "      <th>5</th>\n",
       "      <td>Arts visuals</td>\n",
       "      <td>11.0</td>\n",
       "      <td>Barcelona Design Week City Festival</td>\n",
       "      <td>Privada</td>\n",
       "      <td>Junio</td>\n",
       "      <td>Primavera</td>\n",
       "      <td>12000.0</td>\n",
       "      <td>Gratis</td>\n",
       "    </tr>\n",
       "    <tr>\n",
       "      <th>6</th>\n",
       "      <td>Lletres</td>\n",
       "      <td>19.0</td>\n",
       "      <td>Barcelona Poesia</td>\n",
       "      <td>Pública</td>\n",
       "      <td>Mayo</td>\n",
       "      <td>Primavera</td>\n",
       "      <td>5324.0</td>\n",
       "      <td>Gratis</td>\n",
       "    </tr>\n",
       "    <tr>\n",
       "      <th>7</th>\n",
       "      <td>Audiovisuals</td>\n",
       "      <td>5.0</td>\n",
       "      <td>Cinema Lliure a la Platja. Mostra de cinema in...</td>\n",
       "      <td>Privada</td>\n",
       "      <td>Junio</td>\n",
       "      <td>Verano</td>\n",
       "      <td>22000.0</td>\n",
       "      <td>De Pago</td>\n",
       "    </tr>\n",
       "    <tr>\n",
       "      <th>8</th>\n",
       "      <td>Audiovisuals</td>\n",
       "      <td>6.0</td>\n",
       "      <td>D'A Film Festival Barcelona</td>\n",
       "      <td>Privada</td>\n",
       "      <td>Abril</td>\n",
       "      <td>Primavera</td>\n",
       "      <td>10585.0</td>\n",
       "      <td>De Pago</td>\n",
       "    </tr>\n",
       "    <tr>\n",
       "      <th>9</th>\n",
       "      <td>Música</td>\n",
       "      <td>2.0</td>\n",
       "      <td>DGTL Festival</td>\n",
       "      <td>Privada</td>\n",
       "      <td>Agosto</td>\n",
       "      <td>Verano</td>\n",
       "      <td>30000.0</td>\n",
       "      <td>De Pago</td>\n",
       "    </tr>\n",
       "    <tr>\n",
       "      <th>10</th>\n",
       "      <td>Arts visuals</td>\n",
       "      <td>4.0</td>\n",
       "      <td>DOCfield. Festival de Fotografia Documental</td>\n",
       "      <td>Privada</td>\n",
       "      <td>Mayo</td>\n",
       "      <td>Primavera</td>\n",
       "      <td>141143.0</td>\n",
       "      <td>De Pago</td>\n",
       "    </tr>\n",
       "    <tr>\n",
       "      <th>11</th>\n",
       "      <td>Audiovisuals</td>\n",
       "      <td>19.0</td>\n",
       "      <td>DocsBarcelona</td>\n",
       "      <td>Privada</td>\n",
       "      <td>Mayo</td>\n",
       "      <td>Primavera</td>\n",
       "      <td>8368.0</td>\n",
       "      <td>De Pago</td>\n",
       "    </tr>\n",
       "    <tr>\n",
       "      <th>12</th>\n",
       "      <td>Arts visuals</td>\n",
       "      <td>13.0</td>\n",
       "      <td>Drap-Art. Festival Internacional de Reciclatge...</td>\n",
       "      <td>Privada</td>\n",
       "      <td>Diciembre</td>\n",
       "      <td>Otoño</td>\n",
       "      <td>10000.0</td>\n",
       "      <td>De Pago</td>\n",
       "    </tr>\n",
       "    <tr>\n",
       "      <th>13</th>\n",
       "      <td>Audiovisuals</td>\n",
       "      <td>9.0</td>\n",
       "      <td>El Meu Primer Festival</td>\n",
       "      <td>Privada</td>\n",
       "      <td>Noviembre</td>\n",
       "      <td>Otoño</td>\n",
       "      <td>13000.0</td>\n",
       "      <td>De Pago</td>\n",
       "    </tr>\n",
       "    <tr>\n",
       "      <th>14</th>\n",
       "      <td>Arts escèniques</td>\n",
       "      <td>15.0</td>\n",
       "      <td>Escena Poblenou</td>\n",
       "      <td>Privada</td>\n",
       "      <td>Octubre</td>\n",
       "      <td>Otoño</td>\n",
       "      <td>4630.0</td>\n",
       "      <td>De Pago</td>\n",
       "    </tr>\n",
       "    <tr>\n",
       "      <th>15</th>\n",
       "      <td>Multidisciplinaris i altres</td>\n",
       "      <td>6.0</td>\n",
       "      <td>FADfest. The festival of all design</td>\n",
       "      <td>Privada</td>\n",
       "      <td>Junio</td>\n",
       "      <td>Primavera</td>\n",
       "      <td>10640.0</td>\n",
       "      <td>Mixta</td>\n",
       "    </tr>\n",
       "    <tr>\n",
       "      <th>16</th>\n",
       "      <td>Música</td>\n",
       "      <td>7.0</td>\n",
       "      <td>Festival Cruïlla</td>\n",
       "      <td>Privada</td>\n",
       "      <td>Julio</td>\n",
       "      <td>Verano</td>\n",
       "      <td>47000.0</td>\n",
       "      <td>De Pago</td>\n",
       "    </tr>\n",
       "    <tr>\n",
       "      <th>17</th>\n",
       "      <td>Audiovisuals</td>\n",
       "      <td>13.0</td>\n",
       "      <td>Festival de Cinema i Drets Humans de Barcelona</td>\n",
       "      <td>Privada</td>\n",
       "      <td>Noviembre</td>\n",
       "      <td>Otoño</td>\n",
       "      <td>12000.0</td>\n",
       "      <td>De Pago</td>\n",
       "    </tr>\n",
       "    <tr>\n",
       "      <th>18</th>\n",
       "      <td>Multidisciplinaris i altres</td>\n",
       "      <td>14.0</td>\n",
       "      <td>Festival de Cultura Raval(s)</td>\n",
       "      <td>Privada</td>\n",
       "      <td>Noviembre</td>\n",
       "      <td>Otoño</td>\n",
       "      <td>4300.0</td>\n",
       "      <td>De Pago</td>\n",
       "    </tr>\n",
       "    <tr>\n",
       "      <th>19</th>\n",
       "      <td>Música</td>\n",
       "      <td>21.0</td>\n",
       "      <td>Festival de Música als Parcs</td>\n",
       "      <td>Pública</td>\n",
       "      <td>Junio</td>\n",
       "      <td>Primavera</td>\n",
       "      <td>12000.0</td>\n",
       "      <td>Gratis</td>\n",
       "    </tr>\n",
       "    <tr>\n",
       "      <th>20</th>\n",
       "      <td>Música</td>\n",
       "      <td>17.0</td>\n",
       "      <td>Festival del Mil·lenni</td>\n",
       "      <td>Privada</td>\n",
       "      <td>Enero</td>\n",
       "      <td>Invierno</td>\n",
       "      <td>42988.0</td>\n",
       "      <td>De Pago</td>\n",
       "    </tr>\n",
       "    <tr>\n",
       "      <th>21</th>\n",
       "      <td>Música</td>\n",
       "      <td>18.0</td>\n",
       "      <td>Festival del Mil·lenni</td>\n",
       "      <td>Privada</td>\n",
       "      <td>Noviembre</td>\n",
       "      <td>Otoño</td>\n",
       "      <td>17454.0</td>\n",
       "      <td>De Pago</td>\n",
       "    </tr>\n",
       "    <tr>\n",
       "      <th>22</th>\n",
       "      <td>Arts escèniques</td>\n",
       "      <td>12.0</td>\n",
       "      <td>Festival elPetit</td>\n",
       "      <td>Privada</td>\n",
       "      <td>Noviembre</td>\n",
       "      <td>Otoño</td>\n",
       "      <td>3600.0</td>\n",
       "      <td>De Pago</td>\n",
       "    </tr>\n",
       "    <tr>\n",
       "      <th>23</th>\n",
       "      <td>Música</td>\n",
       "      <td>29.0</td>\n",
       "      <td>Festival Folk Internacional Tradicionàrius</td>\n",
       "      <td>Privada</td>\n",
       "      <td>Enero</td>\n",
       "      <td>Invierno</td>\n",
       "      <td>12000.0</td>\n",
       "      <td>De Pago</td>\n",
       "    </tr>\n",
       "    <tr>\n",
       "      <th>24</th>\n",
       "      <td>Audiovisuals</td>\n",
       "      <td>14.0</td>\n",
       "      <td>Festival In-Edit</td>\n",
       "      <td>Privada</td>\n",
       "      <td>Octubre</td>\n",
       "      <td>Otoño</td>\n",
       "      <td>30115.0</td>\n",
       "      <td>De Pago</td>\n",
       "    </tr>\n",
       "    <tr>\n",
       "      <th>25</th>\n",
       "      <td>Música</td>\n",
       "      <td>4.0</td>\n",
       "      <td>Festival Jardins de Pedralbes</td>\n",
       "      <td>Privada</td>\n",
       "      <td>Junio</td>\n",
       "      <td>Primavera</td>\n",
       "      <td>30100.0</td>\n",
       "      <td>De Pago</td>\n",
       "    </tr>\n",
       "    <tr>\n",
       "      <th>26</th>\n",
       "      <td>Música</td>\n",
       "      <td>26.0</td>\n",
       "      <td>Festival l'Hora del Jazz. Memorial Tete Montoliu</td>\n",
       "      <td>Privada</td>\n",
       "      <td>Septiembre</td>\n",
       "      <td>Verano</td>\n",
       "      <td>6150.0</td>\n",
       "      <td>Mixta</td>\n",
       "    </tr>\n",
       "    <tr>\n",
       "      <th>27</th>\n",
       "      <td>Lletres</td>\n",
       "      <td>6.0</td>\n",
       "      <td>Flic. Festival de literatures i arts infantil ...</td>\n",
       "      <td>Privada</td>\n",
       "      <td>Enero</td>\n",
       "      <td>Invierno</td>\n",
       "      <td>3723.0</td>\n",
       "      <td>De Pago</td>\n",
       "    </tr>\n",
       "    <tr>\n",
       "      <th>28</th>\n",
       "      <td>Audiovisuals</td>\n",
       "      <td>14.0</td>\n",
       "      <td>Gandules</td>\n",
       "      <td>Mixta</td>\n",
       "      <td>Agosto</td>\n",
       "      <td>Verano</td>\n",
       "      <td>4414.0</td>\n",
       "      <td>Gratis</td>\n",
       "    </tr>\n",
       "    <tr>\n",
       "      <th>29</th>\n",
       "      <td>Arts escèniques</td>\n",
       "      <td>40.0</td>\n",
       "      <td>Grec Festival de Barcelona</td>\n",
       "      <td>Pública</td>\n",
       "      <td>Julio</td>\n",
       "      <td>Verano</td>\n",
       "      <td>102555.0</td>\n",
       "      <td>Mixta</td>\n",
       "    </tr>\n",
       "    <tr>\n",
       "      <th>30</th>\n",
       "      <td>Música</td>\n",
       "      <td>27.0</td>\n",
       "      <td>Guitar Bcn</td>\n",
       "      <td>Privada</td>\n",
       "      <td>Febrero</td>\n",
       "      <td>Invierno</td>\n",
       "      <td>50073.0</td>\n",
       "      <td>De Pago</td>\n",
       "    </tr>\n",
       "    <tr>\n",
       "      <th>31</th>\n",
       "      <td>Multidisciplinaris i altres</td>\n",
       "      <td>6.0</td>\n",
       "      <td>HOP Festival. Festival de Danses Urbanes</td>\n",
       "      <td>Privada</td>\n",
       "      <td>Noviembre</td>\n",
       "      <td>Otoño</td>\n",
       "      <td>9000.0</td>\n",
       "      <td>Gratis</td>\n",
       "    </tr>\n",
       "    <tr>\n",
       "      <th>32</th>\n",
       "      <td>Música</td>\n",
       "      <td>3.0</td>\n",
       "      <td>Jazzing Festival</td>\n",
       "      <td>Privada</td>\n",
       "      <td>Septiembre</td>\n",
       "      <td>Verano</td>\n",
       "      <td>20000.0</td>\n",
       "      <td>De Pago</td>\n",
       "    </tr>\n",
       "    <tr>\n",
       "      <th>33</th>\n",
       "      <td>Audiovisuals</td>\n",
       "      <td>23.0</td>\n",
       "      <td>L'Alternativa. Festival de Cinema Independent ...</td>\n",
       "      <td>Privada</td>\n",
       "      <td>Noviembre</td>\n",
       "      <td>Otoño</td>\n",
       "      <td>15000.0</td>\n",
       "      <td>De Pago</td>\n",
       "    </tr>\n",
       "    <tr>\n",
       "      <th>34</th>\n",
       "      <td>Música</td>\n",
       "      <td>12.0</td>\n",
       "      <td>La Pedrera Jazz</td>\n",
       "      <td>Privada</td>\n",
       "      <td>Junio</td>\n",
       "      <td>Primavera</td>\n",
       "      <td>6743.0</td>\n",
       "      <td>De Pago</td>\n",
       "    </tr>\n",
       "    <tr>\n",
       "      <th>35</th>\n",
       "      <td>Arts visuals</td>\n",
       "      <td>14.0</td>\n",
       "      <td>Loop Festival</td>\n",
       "      <td>Privada</td>\n",
       "      <td>Mayo</td>\n",
       "      <td>Primavera</td>\n",
       "      <td>110000.0</td>\n",
       "      <td>De Pago</td>\n",
       "    </tr>\n",
       "    <tr>\n",
       "      <th>36</th>\n",
       "      <td>Música</td>\n",
       "      <td>14.0</td>\n",
       "      <td>Mas i Mas Festival</td>\n",
       "      <td>Privada</td>\n",
       "      <td>Julio</td>\n",
       "      <td>Verano</td>\n",
       "      <td>20000.0</td>\n",
       "      <td>De Pago</td>\n",
       "    </tr>\n",
       "    <tr>\n",
       "      <th>37</th>\n",
       "      <td>Audiovisuals</td>\n",
       "      <td>9.0</td>\n",
       "      <td>Mecal Air</td>\n",
       "      <td>Privada</td>\n",
       "      <td>Junio</td>\n",
       "      <td>Primavera</td>\n",
       "      <td>5250.0</td>\n",
       "      <td>De Pago</td>\n",
       "    </tr>\n",
       "    <tr>\n",
       "      <th>38</th>\n",
       "      <td>Audiovisuals</td>\n",
       "      <td>18.0</td>\n",
       "      <td>Mecal. Festival Internacional de Curtmetratges...</td>\n",
       "      <td>Privada</td>\n",
       "      <td>Marzo</td>\n",
       "      <td>Invierno</td>\n",
       "      <td>14688.0</td>\n",
       "      <td>De Pago</td>\n",
       "    </tr>\n",
       "    <tr>\n",
       "      <th>39</th>\n",
       "      <td>Arts escèniques</td>\n",
       "      <td>7.0</td>\n",
       "      <td>Mercè Arts de Carrer. MAC</td>\n",
       "      <td>Pública</td>\n",
       "      <td>Septiembre</td>\n",
       "      <td>Otoño</td>\n",
       "      <td>228946.0</td>\n",
       "      <td>Gratis</td>\n",
       "    </tr>\n",
       "    <tr>\n",
       "      <th>40</th>\n",
       "      <td>Multidisciplinaris i altres</td>\n",
       "      <td>10.0</td>\n",
       "      <td>MIRA</td>\n",
       "      <td>Privada</td>\n",
       "      <td>Noviembre</td>\n",
       "      <td>Otoño</td>\n",
       "      <td>6500.0</td>\n",
       "      <td>De Pago</td>\n",
       "    </tr>\n",
       "    <tr>\n",
       "      <th>41</th>\n",
       "      <td>Lletres</td>\n",
       "      <td>12.0</td>\n",
       "      <td>Món Llibre</td>\n",
       "      <td>Pública</td>\n",
       "      <td>Abril</td>\n",
       "      <td>Primavera</td>\n",
       "      <td>21120.0</td>\n",
       "      <td>Gratis</td>\n",
       "    </tr>\n",
       "    <tr>\n",
       "      <th>42</th>\n",
       "      <td>Audiovisuals</td>\n",
       "      <td>21.0</td>\n",
       "      <td>Mostra FIRE!! de cinema LGTBI de Barcelona</td>\n",
       "      <td>Privada</td>\n",
       "      <td>Junio</td>\n",
       "      <td>Verano</td>\n",
       "      <td>6000.0</td>\n",
       "      <td>Gratis</td>\n",
       "    </tr>\n",
       "    <tr>\n",
       "      <th>43</th>\n",
       "      <td>Audiovisuals</td>\n",
       "      <td>24.0</td>\n",
       "      <td>Mostra Internacional de Films de Dones de Barc...</td>\n",
       "      <td>Privada</td>\n",
       "      <td>Febrero</td>\n",
       "      <td>Invierno</td>\n",
       "      <td>5822.0</td>\n",
       "      <td>De Pago</td>\n",
       "    </tr>\n",
       "    <tr>\n",
       "      <th>44</th>\n",
       "      <td>Música</td>\n",
       "      <td>7.0</td>\n",
       "      <td>MUTEK Barcelona</td>\n",
       "      <td>Privada</td>\n",
       "      <td>Marzo</td>\n",
       "      <td>Invierno</td>\n",
       "      <td>6000.0</td>\n",
       "      <td>De Pago</td>\n",
       "    </tr>\n",
       "    <tr>\n",
       "      <th>45</th>\n",
       "      <td>Música</td>\n",
       "      <td>16.0</td>\n",
       "      <td>Primavera Sound</td>\n",
       "      <td>Privada</td>\n",
       "      <td>Mayo</td>\n",
       "      <td>Primavera</td>\n",
       "      <td>207435.0</td>\n",
       "      <td>De Pago</td>\n",
       "    </tr>\n",
       "    <tr>\n",
       "      <th>46</th>\n",
       "      <td>Música</td>\n",
       "      <td>3.0</td>\n",
       "      <td>Reggaeton Beach Festival (RBF)</td>\n",
       "      <td>Privada</td>\n",
       "      <td>Julio</td>\n",
       "      <td>Verano</td>\n",
       "      <td>40000.0</td>\n",
       "      <td>De Pago</td>\n",
       "    </tr>\n",
       "    <tr>\n",
       "      <th>47</th>\n",
       "      <td>Audiovisuals</td>\n",
       "      <td>14.0</td>\n",
       "      <td>Sala Montjuïc</td>\n",
       "      <td>Privada</td>\n",
       "      <td>Julio</td>\n",
       "      <td>Verano</td>\n",
       "      <td>34000.0</td>\n",
       "      <td>De Pago</td>\n",
       "    </tr>\n",
       "    <tr>\n",
       "      <th>48</th>\n",
       "      <td>Música</td>\n",
       "      <td>6.0</td>\n",
       "      <td>SIMFONIC</td>\n",
       "      <td>Privada</td>\n",
       "      <td>Junio</td>\n",
       "      <td>Primavera</td>\n",
       "      <td>9500.0</td>\n",
       "      <td>De Pago</td>\n",
       "    </tr>\n",
       "    <tr>\n",
       "      <th>49</th>\n",
       "      <td>Música</td>\n",
       "      <td>23.0</td>\n",
       "      <td>Sónar. Festival Internacional de Música Avança...</td>\n",
       "      <td>Privada</td>\n",
       "      <td>Junio</td>\n",
       "      <td>Primavera</td>\n",
       "      <td>115500.0</td>\n",
       "      <td>De Pago</td>\n",
       "    </tr>\n",
       "    <tr>\n",
       "      <th>50</th>\n",
       "      <td>Música</td>\n",
       "      <td>48.0</td>\n",
       "      <td>Voll-Damm Festival de Jazz de Barcelona</td>\n",
       "      <td>Privada</td>\n",
       "      <td>Octubre</td>\n",
       "      <td>Otoño</td>\n",
       "      <td>34200.0</td>\n",
       "      <td>De Pago</td>\n",
       "    </tr>\n",
       "  </tbody>\n",
       "</table>\n",
       "</div>"
      ],
      "text/plain": [
       "                          Ambit  Edicio  \\\n",
       "1                  Audiovisuals     3.0   \n",
       "2                  Arts visuals     3.0   \n",
       "3                        Música     4.0   \n",
       "4                        Música    24.0   \n",
       "5                  Arts visuals    11.0   \n",
       "6                       Lletres    19.0   \n",
       "7                  Audiovisuals     5.0   \n",
       "8                  Audiovisuals     6.0   \n",
       "9                        Música     2.0   \n",
       "10                 Arts visuals     4.0   \n",
       "11                 Audiovisuals    19.0   \n",
       "12                 Arts visuals    13.0   \n",
       "13                 Audiovisuals     9.0   \n",
       "14              Arts escèniques    15.0   \n",
       "15  Multidisciplinaris i altres     6.0   \n",
       "16                       Música     7.0   \n",
       "17                 Audiovisuals    13.0   \n",
       "18  Multidisciplinaris i altres    14.0   \n",
       "19                       Música    21.0   \n",
       "20                       Música    17.0   \n",
       "21                       Música    18.0   \n",
       "22              Arts escèniques    12.0   \n",
       "23                       Música    29.0   \n",
       "24                 Audiovisuals    14.0   \n",
       "25                       Música     4.0   \n",
       "26                       Música    26.0   \n",
       "27                      Lletres     6.0   \n",
       "28                 Audiovisuals    14.0   \n",
       "29              Arts escèniques    40.0   \n",
       "30                       Música    27.0   \n",
       "31  Multidisciplinaris i altres     6.0   \n",
       "32                       Música     3.0   \n",
       "33                 Audiovisuals    23.0   \n",
       "34                       Música    12.0   \n",
       "35                 Arts visuals    14.0   \n",
       "36                       Música    14.0   \n",
       "37                 Audiovisuals     9.0   \n",
       "38                 Audiovisuals    18.0   \n",
       "39              Arts escèniques     7.0   \n",
       "40  Multidisciplinaris i altres    10.0   \n",
       "41                      Lletres    12.0   \n",
       "42                 Audiovisuals    21.0   \n",
       "43                 Audiovisuals    24.0   \n",
       "44                       Música     7.0   \n",
       "45                       Música    16.0   \n",
       "46                       Música     3.0   \n",
       "47                 Audiovisuals    14.0   \n",
       "48                       Música     6.0   \n",
       "49                       Música    23.0   \n",
       "50                       Música    48.0   \n",
       "\n",
       "                                       NomDelFestival Titularidad         Mes  \\\n",
       "1                                 Americana Film Fest     Privada       Marzo   \n",
       "2                                       Art Photo BCN     Privada        Mayo   \n",
       "3                                          Bachcelona     Privada       Julio   \n",
       "4                        BAM. Barcelona Acció Musical     Pública  Septiembre   \n",
       "5                 Barcelona Design Week City Festival     Privada       Junio   \n",
       "6                                    Barcelona Poesia     Pública        Mayo   \n",
       "7   Cinema Lliure a la Platja. Mostra de cinema in...     Privada       Junio   \n",
       "8                         D'A Film Festival Barcelona     Privada       Abril   \n",
       "9                                       DGTL Festival     Privada      Agosto   \n",
       "10        DOCfield. Festival de Fotografia Documental     Privada        Mayo   \n",
       "11                                      DocsBarcelona     Privada        Mayo   \n",
       "12  Drap-Art. Festival Internacional de Reciclatge...     Privada   Diciembre   \n",
       "13                             El Meu Primer Festival     Privada   Noviembre   \n",
       "14                                    Escena Poblenou     Privada     Octubre   \n",
       "15                FADfest. The festival of all design     Privada       Junio   \n",
       "16                                   Festival Cruïlla     Privada       Julio   \n",
       "17     Festival de Cinema i Drets Humans de Barcelona     Privada   Noviembre   \n",
       "18                       Festival de Cultura Raval(s)     Privada   Noviembre   \n",
       "19                       Festival de Música als Parcs     Pública       Junio   \n",
       "20                             Festival del Mil·lenni     Privada       Enero   \n",
       "21                             Festival del Mil·lenni     Privada   Noviembre   \n",
       "22                                   Festival elPetit     Privada   Noviembre   \n",
       "23         Festival Folk Internacional Tradicionàrius     Privada       Enero   \n",
       "24                                   Festival In-Edit     Privada     Octubre   \n",
       "25                      Festival Jardins de Pedralbes     Privada       Junio   \n",
       "26   Festival l'Hora del Jazz. Memorial Tete Montoliu     Privada  Septiembre   \n",
       "27  Flic. Festival de literatures i arts infantil ...     Privada       Enero   \n",
       "28                                           Gandules       Mixta      Agosto   \n",
       "29                         Grec Festival de Barcelona     Pública       Julio   \n",
       "30                                         Guitar Bcn     Privada     Febrero   \n",
       "31           HOP Festival. Festival de Danses Urbanes     Privada   Noviembre   \n",
       "32                                   Jazzing Festival     Privada  Septiembre   \n",
       "33  L'Alternativa. Festival de Cinema Independent ...     Privada   Noviembre   \n",
       "34                                    La Pedrera Jazz     Privada       Junio   \n",
       "35                                      Loop Festival     Privada        Mayo   \n",
       "36                                 Mas i Mas Festival     Privada       Julio   \n",
       "37                                          Mecal Air     Privada       Junio   \n",
       "38  Mecal. Festival Internacional de Curtmetratges...     Privada       Marzo   \n",
       "39                          Mercè Arts de Carrer. MAC     Pública  Septiembre   \n",
       "40                                               MIRA     Privada   Noviembre   \n",
       "41                                         Món Llibre     Pública       Abril   \n",
       "42         Mostra FIRE!! de cinema LGTBI de Barcelona     Privada       Junio   \n",
       "43  Mostra Internacional de Films de Dones de Barc...     Privada     Febrero   \n",
       "44                                    MUTEK Barcelona     Privada       Marzo   \n",
       "45                                    Primavera Sound     Privada        Mayo   \n",
       "46                     Reggaeton Beach Festival (RBF)     Privada       Julio   \n",
       "47                                      Sala Montjuïc     Privada       Julio   \n",
       "48                                           SIMFONIC     Privada       Junio   \n",
       "49  Sónar. Festival Internacional de Música Avança...     Privada       Junio   \n",
       "50            Voll-Damm Festival de Jazz de Barcelona     Privada     Octubre   \n",
       "\n",
       "     Estacion  Asistentes  Entrada  \n",
       "1    Invierno      5200.0  De Pago  \n",
       "2   Primavera      2600.0  De Pago  \n",
       "3      Verano      5000.0  De Pago  \n",
       "4       Otoño     56950.0   Gratis  \n",
       "5   Primavera     12000.0   Gratis  \n",
       "6   Primavera      5324.0   Gratis  \n",
       "7      Verano     22000.0  De Pago  \n",
       "8   Primavera     10585.0  De Pago  \n",
       "9      Verano     30000.0  De Pago  \n",
       "10  Primavera    141143.0  De Pago  \n",
       "11  Primavera      8368.0  De Pago  \n",
       "12      Otoño     10000.0  De Pago  \n",
       "13      Otoño     13000.0  De Pago  \n",
       "14      Otoño      4630.0  De Pago  \n",
       "15  Primavera     10640.0    Mixta  \n",
       "16     Verano     47000.0  De Pago  \n",
       "17      Otoño     12000.0  De Pago  \n",
       "18      Otoño      4300.0  De Pago  \n",
       "19  Primavera     12000.0   Gratis  \n",
       "20   Invierno     42988.0  De Pago  \n",
       "21      Otoño     17454.0  De Pago  \n",
       "22      Otoño      3600.0  De Pago  \n",
       "23   Invierno     12000.0  De Pago  \n",
       "24      Otoño     30115.0  De Pago  \n",
       "25  Primavera     30100.0  De Pago  \n",
       "26     Verano      6150.0    Mixta  \n",
       "27   Invierno      3723.0  De Pago  \n",
       "28     Verano      4414.0   Gratis  \n",
       "29     Verano    102555.0    Mixta  \n",
       "30   Invierno     50073.0  De Pago  \n",
       "31      Otoño      9000.0   Gratis  \n",
       "32     Verano     20000.0  De Pago  \n",
       "33      Otoño     15000.0  De Pago  \n",
       "34  Primavera      6743.0  De Pago  \n",
       "35  Primavera    110000.0  De Pago  \n",
       "36     Verano     20000.0  De Pago  \n",
       "37  Primavera      5250.0  De Pago  \n",
       "38   Invierno     14688.0  De Pago  \n",
       "39      Otoño    228946.0   Gratis  \n",
       "40      Otoño      6500.0  De Pago  \n",
       "41  Primavera     21120.0   Gratis  \n",
       "42     Verano      6000.0   Gratis  \n",
       "43   Invierno      5822.0  De Pago  \n",
       "44   Invierno      6000.0  De Pago  \n",
       "45  Primavera    207435.0  De Pago  \n",
       "46     Verano     40000.0  De Pago  \n",
       "47     Verano     34000.0  De Pago  \n",
       "48  Primavera      9500.0  De Pago  \n",
       "49  Primavera    115500.0  De Pago  \n",
       "50      Otoño     34200.0  De Pago  "
      ]
     },
     "execution_count": 136,
     "metadata": {},
     "output_type": "execute_result"
    }
   ],
   "source": [
    "festivales_bcn_16"
   ]
  }
 ],
 "metadata": {
  "kernelspec": {
   "display_name": "Python 3",
   "language": "python",
   "name": "python3"
  },
  "language_info": {
   "codemirror_mode": {
    "name": "ipython",
    "version": 3
   },
   "file_extension": ".py",
   "mimetype": "text/x-python",
   "name": "python",
   "nbconvert_exporter": "python",
   "pygments_lexer": "ipython3",
   "version": "3.10.11"
  }
 },
 "nbformat": 4,
 "nbformat_minor": 2
}
