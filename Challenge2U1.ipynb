{
 "cells": [
  {
   "cell_type": "code",
   "execution_count": 24,
   "id": "854d5521-a284-4a22-9c84-33cb01162ecd",
   "metadata": {},
   "outputs": [
    {
     "name": "stdout",
     "output_type": "stream",
     "text": [
      "Buenas tardes, bienvenido al servicio de pedido online, el precio de nuestra pizzas es de 8,95 para la familiar o de 9,90 para la mediana ¿Cuántas pizzas familiares desea?\n"
     ]
    },
    {
     "name": "stdin",
     "output_type": "stream",
     "text": [
      "número de pizzas familiares 2\n"
     ]
    },
    {
     "name": "stdout",
     "output_type": "stream",
     "text": [
      "Estupendo, ¿cuántas pizzas medianas desea?\n"
     ]
    },
    {
     "name": "stdin",
     "output_type": "stream",
     "text": [
      "número de pizzas medianas 1\n"
     ]
    },
    {
     "name": "stdout",
     "output_type": "stream",
     "text": [
      "Estupendo, se están preparando 2 pizzas familiares y 1 pizzas medianas. \n"
     ]
    },
    {
     "name": "stdin",
     "output_type": "stream",
     "text": [
      "Digame su dirección:  mn f 4\n"
     ]
    },
    {
     "name": "stdout",
     "output_type": "stream",
     "text": [
      "Le mandaremos las 3 pizzas a la dirección mn f 4. Serán 27.8€. Muchas gracias por su pedido.\n"
     ]
    }
   ],
   "source": [
    "precio_fam = 8.95\n",
    "precio_med = 9.90\n",
    "print(\"Buenas tardes, bienvenido al servicio de pedido online, el precio de nuestra pizzas es de 8,95 para la familiar o de 9,90 para la mediana ¿Cuántas pizzas familiares desea?\")\n",
    "pizz_familiar = int(input(\"número de pizzas familiares\"))\n",
    "print(\"Estupendo, ¿cuántas pizzas medianas desea?\")\n",
    "pizz_mediana = int(input(\"número de pizzas medianas\"))\n",
    "print(\"Estupendo, se están preparando %s pizzas familiares y %s pizzas medianas. \" %(pizz_familiar, pizz_mediana))\n",
    "direccion = input(\"Digame su dirección: \")\n",
    "total_ticket = round(((int(pizz_familiar) * precio_fam) + (int(pizz_mediana) * precio_med)), 2)\n",
    "total_p = pizz_familiar + pizz_mediana\n",
    "print(\"Le mandaremos las %s pizzas a la dirección %s. Serán %s€. Muchas gracias por su pedido.\" %(total_p, direccion, total_ticket))\n"
   ]
  },
  {
   "cell_type": "code",
   "execution_count": null,
   "id": "e23b01cf-46f9-498b-9bc7-267652e77ed5",
   "metadata": {},
   "outputs": [],
   "source": []
  },
  {
   "cell_type": "code",
   "execution_count": 87,
   "id": "dca5d26f-b54e-421b-a930-64a342ac8b0c",
   "metadata": {},
   "outputs": [
    {
     "name": "stdin",
     "output_type": "stream",
     "text": [
      "introduzca 3 números enteros separados por comas 3,6,6\n"
     ]
    },
    {
     "name": "stdout",
     "output_type": "stream",
     "text": [
      "3,6,6\n",
      "<class 'str'>\n",
      "[3, 6, 6]\n",
      "<class 'list'>\n",
      "6\n",
      "3\n",
      "15\n"
     ]
    },
    {
     "data": {
      "text/plain": [
       "True"
      ]
     },
     "execution_count": 87,
     "metadata": {},
     "output_type": "execute_result"
    }
   ],
   "source": [
    "nums = input(\"introduzca 3 números enteros separados por comas\")\n",
    "print(nums)\n",
    "print(type(nums))\n",
    "\n",
    "ln = list(map(int, nums.split(',')))\n",
    "print(ln)\n",
    "print(type(ln))\n",
    "\n",
    "print(max(ln))\n",
    "print(min(ln))\n",
    "\n",
    "sm = 0\n",
    "for i in ln:\n",
    "    sm += i\n",
    "print(sm)\n",
    "\n",
    "(max(ln) - min(ln)) == (sm / 5)"
   ]
  },
  {
   "cell_type": "code",
   "execution_count": null,
   "id": "b67a83b2-4a9c-4958-a4ec-9ebb7f30490e",
   "metadata": {},
   "outputs": [],
   "source": []
  },
  {
   "cell_type": "code",
   "execution_count": null,
   "id": "2987a164-d75e-4aba-b955-8e5c64cb05e0",
   "metadata": {},
   "outputs": [],
   "source": []
  }
 ],
 "metadata": {
  "kernelspec": {
   "display_name": "Python 3 (ipykernel)",
   "language": "python",
   "name": "python3"
  },
  "language_info": {
   "codemirror_mode": {
    "name": "ipython",
    "version": 3
   },
   "file_extension": ".py",
   "mimetype": "text/x-python",
   "name": "python",
   "nbconvert_exporter": "python",
   "pygments_lexer": "ipython3",
   "version": "3.12.1"
  }
 },
 "nbformat": 4,
 "nbformat_minor": 5
}
