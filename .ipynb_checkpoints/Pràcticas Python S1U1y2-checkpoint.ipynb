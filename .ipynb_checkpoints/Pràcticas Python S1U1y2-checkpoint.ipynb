{
 "cells": [
  {
   "cell_type": "code",
   "execution_count": 12,
   "id": "74bcf5d8-cfa6-4142-9c8f-e051a5a55c23",
   "metadata": {},
   "outputs": [
    {
     "name": "stdout",
     "output_type": "stream",
     "text": [
      "¿Por qué esta magnífica tecnología científica, \n",
      "        que ahorra trabajo y nos hace la vida más fácil, \n",
      "                nos aporta tan poca felicidad? \n",
      "                        La respuesta es ésta, simplemente porque aún no hemos aprendido a usarla con tino. \n",
      " \"Albert Einstein\"\n"
     ]
    }
   ],
   "source": [
    "print(\"¿Por qué esta magnífica tecnología científica, \\n        que ahorra trabajo y nos hace la vida más fácil, \\n                nos aporta tan poca felicidad? \\n                        La respuesta es ésta, simplemente porque aún no hemos aprendido a usarla con tino. \\n \\\"Albert Einstein\\\"\")"
   ]
  },
  {
   "cell_type": "code",
   "execution_count": null,
   "id": "aa76fb99-41e3-4352-a66a-d39a4ac8db8c",
   "metadata": {},
   "outputs": [],
   "source": []
  },
  {
   "cell_type": "code",
   "execution_count": 26,
   "id": "9b44fda2-312b-49b4-9689-4fb9a5303a6d",
   "metadata": {},
   "outputs": [
    {
     "name": "stdout",
     "output_type": "stream",
     "text": [
      "Montseny 155, L'Hospitalet del Llobregat, 08904\n"
     ]
    },
    {
     "data": {
      "text/plain": [
       "'\\nA partir de la suma de los diferentes componentes del domicilio\\ndevuelve una dirección completa\\nen formato estándar\\n'"
      ]
     },
     "execution_count": 26,
     "metadata": {},
     "output_type": "execute_result"
    }
   ],
   "source": [
    "# Este es el nombre de la calle\n",
    "nombre_calle = \"Montseny\"\n",
    "# Este es el número de la calle\n",
    "numero_calle = \"155\"\n",
    "# Esta es la población\n",
    "poblacion = \"L'Hospitalet del Llobregat\"\n",
    "# Este es el código postal\n",
    "CP = \"08904\"\n",
    "direccion = nombre_calle + \" \" + numero_calle + \",\" + \" \" + poblacion + \",\" + \" \" + CP\n",
    "print(direccion)\n",
    "\n",
    "'''\n",
    "A partir de la suma de los diferentes componentes del domicilio\n",
    "devuelve una dirección completa\n",
    "en formato estándar\n",
    "'''\n",
    "\n"
   ]
  },
  {
   "cell_type": "code",
   "execution_count": null,
   "id": "1a087afb-66c4-469b-9d12-6f58f94e27ee",
   "metadata": {},
   "outputs": [],
   "source": []
  },
  {
   "cell_type": "code",
   "execution_count": 36,
   "id": "99a32654-a54d-4eda-afbd-6f63a431bc67",
   "metadata": {},
   "outputs": [
    {
     "name": "stdout",
     "output_type": "stream",
     "text": [
      "70.0\n",
      "30.0\n"
     ]
    },
    {
     "data": {
      "text/plain": [
       "70.0"
      ]
     },
     "execution_count": 36,
     "metadata": {},
     "output_type": "execute_result"
    }
   ],
   "source": [
    "victorias = 7\n",
    "derrotas = 3\n",
    "porc_vict = ((victorias + derrotas) / 1.00) * victorias\n",
    "porc_derr = ((victorias + derrotas) / 1.00) * derrotas\n",
    "print(porc_vict)\n",
    "print(porc_derr)\n",
    "porc_vict"
   ]
  },
  {
   "cell_type": "code",
   "execution_count": null,
   "id": "dbe33afd-22b3-427a-aa34-378da5142d27",
   "metadata": {},
   "outputs": [],
   "source": []
  },
  {
   "cell_type": "code",
   "execution_count": 47,
   "id": "454d38c6-4366-41a6-99bf-91ccf8341f78",
   "metadata": {},
   "outputs": [
    {
     "name": "stdout",
     "output_type": "stream",
     "text": [
      "<class 'int'>\n",
      "<class 'float'>\n",
      "<class 'float'>\n",
      "6\n"
     ]
    }
   ],
   "source": [
    "mi_int = 6\n",
    "mi_float = 5.94\n",
    "print(type(mi_int))\n",
    "print(type(mi_float))\n",
    "mi_suma = mi_int + mi_float\n",
    "print(type(mi_suma))\n",
    "# del(mi_int)\n",
    "# del(mi_float)\n",
    "print(mi_int)"
   ]
  },
  {
   "cell_type": "code",
   "execution_count": null,
   "id": "f2e1602b-8bb3-4d58-86fd-32974609fc78",
   "metadata": {},
   "outputs": [],
   "source": []
  },
  {
   "cell_type": "code",
   "execution_count": 53,
   "id": "cd1f8afd-eef8-4d93-bebd-9860abe46ad8",
   "metadata": {},
   "outputs": [
    {
     "name": "stdout",
     "output_type": "stream",
     "text": [
      "Pasa de grados a radianes\n"
     ]
    },
    {
     "name": "stdin",
     "output_type": "stream",
     "text": [
      "Cuántos grados quieres convertir? 4\n"
     ]
    },
    {
     "name": "stdout",
     "output_type": "stream",
     "text": [
      "4 grados son 0.06981333333333334 radianes\n"
     ]
    }
   ],
   "source": [
    "import math\n",
    "print(\"Pasa de grados a radianes\")\n",
    "consulta = input(\"Cuántos grados quieres convertir?\")\n",
    "radianes = int(consulta)*(3.1416/180)\n",
    "print(\"%s grados son %s radianes\" %(consulta, radianes))"
   ]
  },
  {
   "cell_type": "code",
   "execution_count": null,
   "id": "f8f54009-6115-4e29-b1b9-2a1e6bb04687",
   "metadata": {},
   "outputs": [],
   "source": []
  },
  {
   "cell_type": "code",
   "execution_count": 56,
   "id": "4fbef990-d34f-4763-af8d-f4cc9fdf5153",
   "metadata": {},
   "outputs": [
    {
     "name": "stdout",
     "output_type": "stream",
     "text": [
      "Calcula el área de paralelogramo:\n"
     ]
    },
    {
     "name": "stdin",
     "output_type": "stream",
     "text": [
      "Indica la base:  3,54\n",
      "Indica la altura:  12,54\n"
     ]
    },
    {
     "name": "stdout",
     "output_type": "stream",
     "text": [
      "El área es de 3.5412.54 m2\n"
     ]
    }
   ],
   "source": [
    "print(\"Calcula el área de paralelogramo:\")\n",
    "base = input(\"Indica la base: \")\n",
    "base_tr = base.replace (\",\" , \".\")\n",
    "altura = input(\"Indica la altura: \")\n",
    "altura_tr = altura.replace (\",\" , \".\")\n",
    "area = base_tr + altura_tr\n",
    "print(\"El área es de \" + area + \" m2\")"
   ]
  },
  {
   "cell_type": "code",
   "execution_count": null,
   "id": "5e77de08-1b5c-4880-971e-2718e516a976",
   "metadata": {},
   "outputs": [],
   "source": []
  },
  {
   "cell_type": "code",
   "execution_count": 60,
   "id": "d02fc0d2-9f36-4f74-8cb8-0dcaf64345cf",
   "metadata": {},
   "outputs": [
    {
     "name": "stdin",
     "output_type": "stream",
     "text": [
      "¿Cuál es tu nombre? marce\n",
      "¿Cuñal es tu edad? 45\n"
     ]
    },
    {
     "name": "stdout",
     "output_type": "stream",
     "text": [
      "marce, naciste en el año 1979.\n"
     ]
    }
   ],
   "source": [
    "nombre = input(\"¿Cuál es tu nombre?\")\n",
    "edad = int(input(\"¿Cuál es tu edad?\"))\n",
    "año_actual = 2024\n",
    "año_nacimiento = año_actual - edad\n",
    "\n",
    "print(f\"{nombre}, naciste en el año {año_nacimiento}.\")"
   ]
  },
  {
   "cell_type": "code",
   "execution_count": null,
   "id": "79f4a84c-8107-4298-a60e-1a50e0413f14",
   "metadata": {},
   "outputs": [],
   "source": []
  },
  {
   "cell_type": "code",
   "execution_count": 66,
   "id": "aea071b6-d9fb-4a7c-9b6d-e87231cf39b9",
   "metadata": {},
   "outputs": [
    {
     "name": "stdin",
     "output_type": "stream",
     "text": [
      "Elige un número 2\n",
      "Elige otro número 3\n",
      "Elige otro número más 3\n"
     ]
    },
    {
     "name": "stdout",
     "output_type": "stream",
     "text": [
      "False\n",
      "True\n"
     ]
    }
   ],
   "source": [
    "a = input(\"Elige un número\") \n",
    "b = input(\"Elige otro número\")\n",
    "c = input(\"Elige otro número más\")\n",
    "todos_iguales = a == b == c\n",
    "dos_iguales = a == b or a == c or b == c\n",
    "print(todos_iguales)\n",
    "print(dos_iguales)"
   ]
  },
  {
   "cell_type": "code",
   "execution_count": null,
   "id": "393e8873-1e6f-4be8-bbc6-6271f1ace9f5",
   "metadata": {},
   "outputs": [],
   "source": []
  },
  {
   "cell_type": "code",
   "execution_count": 70,
   "id": "6fd595b5-3316-4da5-900e-a54da8e13ee3",
   "metadata": {},
   "outputs": [
    {
     "name": "stdout",
     "output_type": "stream",
     "text": [
      "8\n"
     ]
    },
    {
     "data": {
      "text/plain": [
       "74"
      ]
     },
     "execution_count": 70,
     "metadata": {},
     "output_type": "execute_result"
    }
   ],
   "source": [
    "mi_lista = [4, 6, 8, -1]\n",
    "print(max(mi_lista))\n",
    "len(mi_lista)\n",
    "round(63.452256965,3)\n",
    "abs(-74)"
   ]
  },
  {
   "cell_type": "code",
   "execution_count": null,
   "id": "b46fcd31-7982-43e2-9867-5119993767cd",
   "metadata": {},
   "outputs": [],
   "source": []
  },
  {
   "cell_type": "code",
   "execution_count": 76,
   "id": "9aee34ee-3492-4a70-820c-dcc3b502b60f",
   "metadata": {},
   "outputs": [
    {
     "name": "stdout",
     "output_type": "stream",
     "text": [
      "EN UN LUGAR DE LA MANCHA, DE CUYO NOMBRE NO QUIERO ACORDARME\n",
      "en un lugar de la mancha, de cuyo nombre no quiero acordarme\n",
      "En Un Lugar De La Mancha, De Cuyo Nombre No Quiero Acordarme\n",
      "[['En', 'un', 'lugar', 'de', 'la', 'Mancha,', 'de', 'cuyo', 'nombre', 'no', 'quiero', 'acordarme']]\n",
      "En un lugar de la Mancha; de cuyo nombre no quiero acordarme\n",
      "En un lugr de l Mnch, de cuyo nombre no quiero cordrme\n"
     ]
    }
   ],
   "source": [
    "quij = \"En un lugar de la Mancha, de cuyo nombre no quiero acordarme\"\n",
    "print(quij.upper())\n",
    "print(quij.lower())\n",
    "print(quij.title())\n",
    "list_quij = [quij.split()]\n",
    "print(list_quij)\n",
    "print(quij.replace(\",\", \";\"))\n",
    "print(quij.replace(\"a\", \"\"))"
   ]
  },
  {
   "cell_type": "code",
   "execution_count": null,
   "id": "a3bf514e-00e8-49a1-b238-892f55b19445",
   "metadata": {},
   "outputs": [],
   "source": []
  },
  {
   "cell_type": "code",
   "execution_count": 106,
   "id": "61923030-59f1-40b6-98ac-29a2c5712b49",
   "metadata": {},
   "outputs": [
    {
     "name": "stdout",
     "output_type": "stream",
     "text": [
      "22\n",
      "[3, 10, 5]\n",
      "[3, 10, 6, 5]\n",
      "[3, 10, 6, 5, 1, 3, 8]\n",
      "[1, 3, 3, 5, 6, 8, 10]\n",
      "[10, 8, 6, 5, 3, 3, 1]\n"
     ]
    }
   ],
   "source": [
    "mis_num = [3, 4, 10]\n",
    "mis_num.append(5)\n",
    "suma = 0\n",
    "\n",
    "for n in mis_num:\n",
    "    suma += n\n",
    "print(suma)\n",
    "\n",
    "del(mis_num[1])\n",
    "print(mis_num)\n",
    "\n",
    "mis_num.insert(2, 6)\n",
    "print(mis_num)\n",
    "\n",
    "mis_num2 = [1, 3, 8]\n",
    "full_list = mis_num + mis_num2\n",
    "print(full_list)\n",
    "\n",
    "full_list.sort()\n",
    "print(full_list)\n",
    "\n",
    "full_list.sort(reverse=True)\n",
    "print(full_list)\n"
   ]
  },
  {
   "cell_type": "code",
   "execution_count": null,
   "id": "0d703b22-934f-4c4d-94c8-682a340b7924",
   "metadata": {},
   "outputs": [],
   "source": []
  }
 ],
 "metadata": {
  "kernelspec": {
   "display_name": "Python 3 (ipykernel)",
   "language": "python",
   "name": "python3"
  },
  "language_info": {
   "codemirror_mode": {
    "name": "ipython",
    "version": 3
   },
   "file_extension": ".py",
   "mimetype": "text/x-python",
   "name": "python",
   "nbconvert_exporter": "python",
   "pygments_lexer": "ipython3",
   "version": "3.12.1"
  }
 },
 "nbformat": 4,
 "nbformat_minor": 5
}
