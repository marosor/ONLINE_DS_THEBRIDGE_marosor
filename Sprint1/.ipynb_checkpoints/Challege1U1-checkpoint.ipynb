{
 "cells": [
  {
   "cell_type": "markdown",
   "id": "72ff60ee-af2f-444b-95e4-49027f11f604",
   "metadata": {},
   "source": [
    "Aptitudes de Data Science"
   ]
  },
  {
   "cell_type": "markdown",
   "id": "95442b9f-7996-43fa-91c1-8aabca613209",
   "metadata": {},
   "source": [
    "**Lo más importamte** \n",
    "\n",
    "* Matemáticas\n",
    "* Python\n",
    "* SQL\n",
    "\n",
    "![python.png](./img/python.png)\n",
    "\n",
    "Otro tema importante es el *Business Intelligence*\n",
    "\n",
    "Si tienes dudas, puedes escribirme a <span style='color:blue'>jaime.gonzalez@thebridgeschool.es </span>\n",
    "\n",
    "Y en esta página se aprende mucho de machine learning: <span style='color:blue'>[**página de ML**](http://kaggle.com)</span>\n"
   ]
  },
  {
   "cell_type": "code",
   "execution_count": null,
   "id": "47c92905-1fee-4442-9e38-bf368a0a227b",
   "metadata": {},
   "outputs": [],
   "source": []
  },
  {
   "cell_type": "markdown",
   "id": "7fc3e10b-2918-4eb5-8ec5-c9da88237962",
   "metadata": {},
   "source": [
    "|**Ramp Up** | **Data Analysis** | **Machine Learning** | **Data & Business** |\n",
    "|----------- | ----------------- | -------------------- | ------------------- |\n",
    "| Python | EDA | Supervised | Productivización |\n",
    "| Estadística | R | Non supervised | Storytelling |\n",
    "| SQL | Feat. Eng. | Deep Learning | API |"
   ]
  },
  {
   "cell_type": "markdown",
   "id": "a0c2125d-d6f5-46e1-b3ea-573b3e53f501",
   "metadata": {},
   "source": [
    "$$\\sqrt{3x-1} + (1+x)^2$$"
   ]
  },
  {
   "cell_type": "code",
   "execution_count": null,
   "id": "fa89bd65-077d-451f-8410-92a294a04844",
   "metadata": {},
   "outputs": [],
   "source": []
  }
 ],
 "metadata": {
  "kernelspec": {
   "display_name": "Python 3 (ipykernel)",
   "language": "python",
   "name": "python3"
  },
  "language_info": {
   "codemirror_mode": {
    "name": "ipython",
    "version": 3
   },
   "file_extension": ".py",
   "mimetype": "text/x-python",
   "name": "python",
   "nbconvert_exporter": "python",
   "pygments_lexer": "ipython3",
   "version": "3.12.1"
  }
 },
 "nbformat": 4,
 "nbformat_minor": 5
}
